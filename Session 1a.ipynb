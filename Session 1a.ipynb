{
 "cells": [
  {
   "cell_type": "markdown",
   "id": "9dc30886",
   "metadata": {},
   "source": [
    "![python image](https://www.python.org/static/img/python-logo@2x.png)"
   ]
  },
  {
   "cell_type": "markdown",
   "id": "7a279f82",
   "metadata": {},
   "source": [
    "# <center> Python Tutorial -Session 1a</center>\n",
    "Nirad Banskota\n",
    "\n",
    "CBGC\n",
    "\n",
    "(11/16/2023)"
   ]
  },
  {
   "cell_type": "markdown",
   "id": "26ef04eb",
   "metadata": {},
   "source": [
    "## What is Python?\n",
    "\n",
    "- Python was created by Guido van Rossum, and  first released in 1991.\n",
    "  - Since then it has gone through multiple changes.  Python 2.0 was released in 2000!<img src=\"https://gvanrossum.github.io/images/guido-headshot-2019.jpg\" align=right width=100></img>\n",
    "  - Python 3.0 was released in 2008. There are differences between Python 2 and Python 3 \n",
    "  - In this class, we will be focusing on Python 3.\n",
    "- Python is a high-level programming language.\n",
    "   - This is in contrast to a lower-level programming language such as Assembly, which is much closer to the machine language or binary code.\n",
    "  \n",
    "- Python is interpretable\n",
    "  - What this means is that unlike C++, where you need to compile your program, all you need to do is type your code and let the program take care of the rest\n",
    "  \n",
    "- Python supports both procedural and object oriented programming\n",
    "    - These are different paradigms of programming.  Java, for example, is an object oriented programming language.  C is fully procedural.  \n",
    "- Python is one of the most popular programming languages today\n",
    "   - Per the TIOBE index, Python is the most popular programming language today\n",
    "   - R in contrast is ranked lower\n",
    "- Python can be used for many different things\n",
    "  - Web Development using frameworks such as Django and Flask\n",
    "  - Data analysis using packages such as Numpy and Pandas, as well as plotting packages such as Matplotlib and Seaborn\n",
    "  - General Machine Learning packages such as sklearn\n",
    "  - Deep learning using packages such as pyTorch and Tensorflow\n",
    "- Bioinformatics packages are also available\n",
    "    - Biopython is quite popular\n",
    "    - For single cell RNA-Seq programming, Scanpy is the second most popular package after Seurat\n",
    "    - Multiple packages are also available for Spatial Transcriptomics\n",
    "    - Many Bioinformatics tools have been written in Python\n",
    "- Python is easy to program.  However, compared to C++ or C, it is slower\n",
    "    - Some packages have been written in C or C++ such as Numpy."
   ]
  },
  {
   "cell_type": "markdown",
   "id": "54ac1dcc",
   "metadata": {},
   "source": [
    "## <font color=\"green\">Topics to be covered today</font>\n",
    " - ### The Basics\n",
    "     - [Hello World](#print)\n",
    "     - [Variables](#variables)\n",
    "     - [If Statement](#if)     \n",
    "     - [Loops](#loops)\n",
    "     - [Function](#function)\n"
   ]
  },
  {
   "cell_type": "markdown",
   "id": "8076485b",
   "metadata": {},
   "source": [
    "The plan is to cover all of these topics today.  If for whatever reason, I am unable to, we will continue from where we left off.\n",
    "As is customary in programming langue classes, we are going to start with <b> Hello World </b>.\n",
    "\n",
    "This is a simple print command"
   ]
  },
  {
   "cell_type": "markdown",
   "id": "1e041ead",
   "metadata": {},
   "source": [
    "### <a id=\"print\"> Hello World </a>\n",
    "\n",
    "In Python 3, the print() function is used for displaying output to the screen.\n",
    "Note that this is different from python 2, where the parenthesis was optional.\n",
    "Without parenthesis, an error message gets generated."
   ]
  },
  {
   "cell_type": "code",
   "execution_count": 1,
   "id": "de38e19e",
   "metadata": {
    "tags": []
   },
   "outputs": [
    {
     "name": "stdout",
     "output_type": "stream",
     "text": [
      "Hello World!\n"
     ]
    }
   ],
   "source": [
    "print(\"Hello World!\")"
   ]
  },
  {
   "cell_type": "markdown",
   "id": "ea6da161-9524-49c0-8ed6-0e4565816462",
   "metadata": {},
   "source": [
    "There is also the input() function, which asks for input from the user.  "
   ]
  },
  {
   "cell_type": "code",
   "execution_count": 2,
   "id": "f38bd233",
   "metadata": {},
   "outputs": [
    {
     "name": "stdin",
     "output_type": "stream",
     "text": [
      "What would you like served for dinner, sir? Rice\n"
     ]
    },
    {
     "data": {
      "text/plain": [
       "'Rice'"
      ]
     },
     "execution_count": 2,
     "metadata": {},
     "output_type": "execute_result"
    }
   ],
   "source": [
    "input(\"What would you like served for dinner, sir?\")"
   ]
  },
  {
   "cell_type": "markdown",
   "id": "4415612b",
   "metadata": {},
   "source": [
    "You add comments by using using \"#\" as follows:"
   ]
  },
  {
   "cell_type": "code",
   "execution_count": 6,
   "id": "0de62093",
   "metadata": {},
   "outputs": [],
   "source": [
    "# This is a comment\n"
   ]
  },
  {
   "cell_type": "markdown",
   "id": "a4b03637-879e-4b06-95b3-08024e082ba9",
   "metadata": {},
   "source": [
    "If you highlight a section of code and present ctrl and \"/\" , then you can do a block comment."
   ]
  },
  {
   "cell_type": "code",
   "execution_count": 2,
   "id": "7474ca53-5dfa-4b61-980c-7abde88e8720",
   "metadata": {},
   "outputs": [],
   "source": [
    "# 1\n",
    "# 2\n",
    "# 3\n",
    "# 4"
   ]
  },
  {
   "cell_type": "markdown",
   "id": "b20b9f46-3517-4e50-9540-18ddea0b2811",
   "metadata": {},
   "source": [
    "<b>Exercise 0:</b>\n",
    "\n",
    "Use the print() function to print \"Hello NIA!\" to the screen.  Use the cell below\n",
    "\n",
    "<b>Time: 10 seconds.</b>\n"
   ]
  },
  {
   "cell_type": "code",
   "execution_count": null,
   "id": "f3599dde-b4cb-4777-a37d-988c54a8ae22",
   "metadata": {},
   "outputs": [],
   "source": []
  },
  {
   "cell_type": "markdown",
   "id": "a56017e1-b173-4a76-a253-36d487400686",
   "metadata": {},
   "source": [
    "------------------------------------------------------------------"
   ]
  },
  {
   "cell_type": "markdown",
   "id": "78330665-35f8-4492-b605-f4dc42d19821",
   "metadata": {},
   "source": [
    "\n",
    "### <a id=\"variables\">Assigning to variables </a>\n",
    "\n",
    "Let's suppose we want to store the word from the input statement above for future use.  How do we do that?\n",
    "We simply need to assign it to a variable. So basically, a variable is a way for storing values.\n",
    "\n",
    "The way to do this is with the syntax variable_name=<value or object, etc>  (Note without the \"<\" or \">\")\n",
    "\n",
    "\n",
    "Rules to follow:\n",
    " - Cannot start with number\n",
    " - Special Characters do not work\n",
    " - The underscore works everywhere\n",
    " - Note that Hyphens do not work\n"
   ]
  },
  {
   "cell_type": "markdown",
   "id": "11372527",
   "metadata": {},
   "source": [
    "Here are some examples of assigning values to variables"
   ]
  },
  {
   "cell_type": "code",
   "execution_count": 5,
   "id": "22dce238",
   "metadata": {},
   "outputs": [
    {
     "name": "stdout",
     "output_type": "stream",
     "text": [
      "3\n",
      "apple\n",
      "Hello World\n",
      "Que Pasa\n",
      "This is j3\n"
     ]
    }
   ],
   "source": [
    "a=3\n",
    "b=\"apple\"\n",
    "c=\"Hello World\"\n",
    "_d=\"Que Pasa\"\n",
    "j3=\"This is j3\"\n",
    "print(a)\n",
    "print (b)\n",
    "print(c)\n",
    "print(_d)\n",
    "print(j3)"
   ]
  },
  {
   "cell_type": "markdown",
   "id": "06721fbe",
   "metadata": {},
   "source": [
    "<b>The following examples will not work: </b>\n",
    "\n",
    "<code>\n",
    "-j=3\n",
    "@$*$k=\"apple\"\n",
    "3j=\"cat\"\n",
    "</code>"
   ]
  },
  {
   "cell_type": "markdown",
   "id": "99c3db7f",
   "metadata": {},
   "source": [
    "Now let's make a more interactive script using print and input functions"
   ]
  },
  {
   "cell_type": "code",
   "execution_count": 7,
   "id": "8bcc3d39",
   "metadata": {},
   "outputs": [
    {
     "name": "stdin",
     "output_type": "stream",
     "text": [
      "Hello.  What would you like for dinner?  Rice\n"
     ]
    },
    {
     "name": "stdout",
     "output_type": "stream",
     "text": [
      "You want Rice\n"
     ]
    }
   ],
   "source": [
    "j=input(\"Hello.  What would you like for dinner? \")\n",
    "print(\"You want\",j)"
   ]
  },
  {
   "cell_type": "markdown",
   "id": "097e6cd5",
   "metadata": {},
   "source": [
    "In the script above, we first use the input() function to ask the user a question.  \n",
    "Next, we store it to a variable that we call j.  \n",
    "Finally, we use the print statement to print that variable.\n",
    "Here is an alternative way to do the same thing as above.  "
   ]
  },
  {
   "cell_type": "markdown",
   "id": "65d69df0-f861-4ad0-a669-8e4d7a529d1b",
   "metadata": {},
   "source": [
    "##### Exercise 1:<br>\n",
    "<i>\n",
    "    What I want you to do is input <b> 2 numbers </b> from the user.  \n",
    "\n",
    "Assign the first number to the variable <b>apples</b>\n",
    "\n",
    "Assign the second number to the variable <b>oranges</b>.\n",
    "\n",
    "Print the number of apples and oranges to  the screen using the print statement.</i>\n",
    "\n",
    "\n",
    "An example output:\n",
    "\n",
    "Enter the number of apples: 10\n",
    "\n",
    "Enter the number of oranges: 15\n",
    "\n",
    "You have 10 apples and 10 oranges\n",
    "\n",
    "Note: The sentence you want to print and the variable can be separated by commas as follows:\n",
    "\n",
    "a=3\n",
    "\n",
    "b=10\n",
    "\n",
    "print(\"The value of a is\",a,\" and the value of b is \",b)\n",
    "\n",
    "Time: <b> 2 minutes </b>"
   ]
  },
  {
   "cell_type": "code",
   "execution_count": null,
   "id": "648ceb5c-657d-4b67-b701-4899bbc59562",
   "metadata": {},
   "outputs": [],
   "source": []
  },
  {
   "cell_type": "markdown",
   "id": "42c50b9c-886c-4829-861d-1c228b315560",
   "metadata": {},
   "source": [
    "----------------------"
   ]
  },
  {
   "cell_type": "markdown",
   "id": "35bafce5-06de-4d20-a4b6-709d90da66d8",
   "metadata": {},
   "source": [
    "There is another way to embed a variable into the print function, as I demonstrate below:"
   ]
  },
  {
   "cell_type": "code",
   "execution_count": 8,
   "id": "2e2a5fed-2a67-4ede-9f09-9a7d247da2a6",
   "metadata": {},
   "outputs": [
    {
     "name": "stdin",
     "output_type": "stream",
     "text": [
      "Hello.  What would you like for dinner?  Meat\n"
     ]
    },
    {
     "name": "stdout",
     "output_type": "stream",
     "text": [
      "You want Meat\n"
     ]
    }
   ],
   "source": [
    "j=input(\"Hello.  What would you like for dinner? \")\n",
    "print(f\"You want {j}\")"
   ]
  },
  {
   "cell_type": "markdown",
   "id": "5c12bd6a",
   "metadata": {},
   "source": [
    "The above method is called f-strings, and it is used for formatting strings.  Briefly, it replaces variables within the {} brackets by the actual value. Some more examples below:"
   ]
  },
  {
   "cell_type": "code",
   "execution_count": 9,
   "id": "aabe2087",
   "metadata": {},
   "outputs": [
    {
     "name": "stdout",
     "output_type": "stream",
     "text": [
      "12\n",
      "A for apple. B for ball\n"
     ]
    }
   ],
   "source": [
    "print(f\"{3*4}\")\n",
    "a=\"apple\"\n",
    "b=\"ball\"\n",
    "print(f\"A for {a}. B for {b}\")"
   ]
  },
  {
   "cell_type": "markdown",
   "id": "98ba2ec4-0ba3-45fa-91b7-6832c8c77e9b",
   "metadata": {},
   "source": [
    "##### Exercise 2 <br>\n",
    "<i> Repeat Exercise 1.  However this time use f-strings.</i>\n",
    "\n",
    "As a reminder, here is what exercise 1 is about:\n",
    "\n",
    "<i>\n",
    "    What I want you to do is input <b> 2 numbers </b> from the user.  \n",
    "\n",
    "Assign the first number to the variable <b>apples</b>\n",
    "\n",
    "Assign the second number to the variable <b>oranges</b>.\n",
    "\n",
    "Print the number of apples and oranges to  the screen using the print statement.</i>\n",
    "\n",
    "\n",
    "\n",
    "Time: <b> 2 minutes </b>"
   ]
  },
  {
   "cell_type": "code",
   "execution_count": null,
   "id": "7cf74c1d-5e5d-4d27-913b-89b7f793d043",
   "metadata": {},
   "outputs": [],
   "source": []
  },
  {
   "cell_type": "markdown",
   "id": "0197ef90-8999-4057-aba8-2f6df639d136",
   "metadata": {},
   "source": [
    "-----------------------------------"
   ]
  },
  {
   "cell_type": "markdown",
   "id": "cc1c9643",
   "metadata": {},
   "source": [
    "Now let's describe some simple mathematical operations.  "
   ]
  },
  {
   "cell_type": "code",
   "execution_count": 23,
   "id": "f512fc31",
   "metadata": {},
   "outputs": [
    {
     "name": "stdout",
     "output_type": "stream",
     "text": [
      "6\n",
      "8\n",
      "1\n",
      "24\n",
      "1.75\n",
      "2.25\n",
      "1\n",
      "2\n",
      "8\n",
      "1\n",
      "0\n",
      "2\n"
     ]
    }
   ],
   "source": [
    "print(3+3)\n",
    "print(4+4)\n",
    "print(5-4)\n",
    "print(6*4)\n",
    "print(7/4)\n",
    "print(9/4)\n",
    "print(7//4)\n",
    "print(9//4)\n",
    "print(2**3)\n",
    "print (9%4)\n",
    "print(10%5)\n",
    "print(12%5)"
   ]
  },
  {
   "cell_type": "markdown",
   "id": "8cdda809",
   "metadata": {},
   "source": [
    "The \"+\" is used for adding, \"-\" for subtracting \"*\" for multiplication, \"/\" for division.  The double \"//\" is used for floor division. In other words, while 7/4 is 1.75, the double // will ignore the .75 (values after decimal) and will print just the 1 in front.The \"%\" operator is the modulus.  It returns the remainder.  In other words, when you divide 9 by 4, it will return 1, because 4 times 2 is 8, and 9 minus 8 is 1. 10%5 does not have a remainder, so it returns 0. Some more examples of the modulus operator below:"
   ]
  },
  {
   "cell_type": "code",
   "execution_count": 24,
   "id": "6d7c0098-b567-4839-b323-381fa5ecc2ec",
   "metadata": {},
   "outputs": [
    {
     "name": "stdout",
     "output_type": "stream",
     "text": [
      "5\n",
      "2\n",
      "0\n"
     ]
    }
   ],
   "source": [
    "print(5%10)\n",
    "print(8%3)\n",
    "print(12%3)"
   ]
  },
  {
   "cell_type": "markdown",
   "id": "2e73bc51",
   "metadata": {},
   "source": [
    "Now let's introduce some other assignment operators."
   ]
  },
  {
   "cell_type": "code",
   "execution_count": 30,
   "id": "4bbc857c",
   "metadata": {},
   "outputs": [
    {
     "name": "stdout",
     "output_type": "stream",
     "text": [
      "3\n",
      "6\n",
      "3\n",
      "6\n",
      "3\n",
      "9\n",
      "3.0\n"
     ]
    }
   ],
   "source": [
    "a=3\n",
    "print(f'{a}')\n",
    "a+=3\n",
    "print(f'{a}')\n",
    "a-=3\n",
    "print(f'{a}')\n",
    "a=a+3\n",
    "print(f'{a}')\n",
    "a=a-3\n",
    "print(f'{a}')\n",
    "a*=3\n",
    "#Above is equivalent to a=a*3\n",
    "print(f'{a}')\n",
    "a/=3\n",
    "#Above is equivalent to a=a/2\n",
    "print(f'{a}')\n"
   ]
  },
  {
   "cell_type": "markdown",
   "id": "f5fd57bc",
   "metadata": {},
   "source": [
    "Flipping values of variables.  A neat little trick."
   ]
  },
  {
   "cell_type": "code",
   "execution_count": 10,
   "id": "57877d70",
   "metadata": {},
   "outputs": [
    {
     "name": "stdout",
     "output_type": "stream",
     "text": [
      "a is 3, while b is 8\n",
      "a now is 8, while b now is 3\n"
     ]
    }
   ],
   "source": [
    "a=3;b=8\n",
    "print(f\"a is {a}, while b is {b}\")\n",
    "a,b=b,a\n",
    "print(f\"a now is {a}, while b now is {b}\")"
   ]
  },
  {
   "cell_type": "code",
   "execution_count": 31,
   "id": "4131c5ec",
   "metadata": {},
   "outputs": [
    {
     "name": "stdout",
     "output_type": "stream",
     "text": [
      "8,9,3\n"
     ]
    }
   ],
   "source": [
    "a=3;b=8;c=9\n",
    "a,b,c=b,c,a\n",
    "print(f\"{a},{b},{c}\")"
   ]
  },
  {
   "cell_type": "markdown",
   "id": "e6e3fbe1-696c-4a41-a68d-a266a9826076",
   "metadata": {},
   "source": [
    "Now let's introduce the type command."
   ]
  },
  {
   "cell_type": "code",
   "execution_count": 11,
   "id": "23a7c045",
   "metadata": {},
   "outputs": [
    {
     "name": "stdout",
     "output_type": "stream",
     "text": [
      "<class 'str'>\n",
      "<class 'str'>\n",
      "<class 'float'>\n",
      "<class 'bool'>\n",
      "<class 'int'>\n"
     ]
    }
   ],
   "source": [
    "print(type(a))\n",
    "jackal=\"jackal\"\n",
    "print(type(jackal))\n",
    "flt=3.0\n",
    "print(type(flt))\n",
    "b=True\n",
    "print(type(b))\n",
    "print(type(1))"
   ]
  },
  {
   "cell_type": "markdown",
   "id": "dadca060",
   "metadata": {},
   "source": [
    "The type command can be used to find out the type of the variable object.  Since jackal stores a string, the class of that variable is \"str\".  Similarly, flt is a decimal number, and hence, it is a float.  You are also able to convert a string to an int, or an int to a float, etc."
   ]
  },
  {
   "cell_type": "code",
   "execution_count": 33,
   "id": "a1d102d6",
   "metadata": {},
   "outputs": [
    {
     "name": "stdout",
     "output_type": "stream",
     "text": [
      "3.0\n",
      "<class 'float'>\n",
      "<class 'str'>\n"
     ]
    }
   ],
   "source": [
    "a=3\n",
    "k=float(a)\n",
    "print(k)\n",
    "print(type(k))\n",
    "l=str(a)\n",
    "print(type(l))"
   ]
  },
  {
   "cell_type": "markdown",
   "id": "3362fda7-bf2d-4c6c-9541-aca6de79b50d",
   "metadata": {},
   "source": [
    "\n",
    "\n",
    "\n",
    "\n",
    "\n",
    "<b> Exercise 3 </b>\n",
    "\n",
    "<i>  Input 2 numbers from the user.  Assign the first number to variable a.</i>\n",
    "    \n",
    "<i> Assign the second number to variable b. </i>\n",
    "    \n",
    "<i>    Divide a by b. </i>\n",
    "    \n",
    "<i>    Print the final number. </i>\n",
    "\n",
    "\n",
    "\n",
    "Example:\n",
    "\n",
    "Enter Number 1 :10\n",
    "\n",
    "Enter Number 2: 5\n",
    "\n",
    "Number 1 divided by Number 2 is 2.0\n",
    "\n",
    "\n",
    "\n",
    "Time: <b> 2 minutes </b>"
   ]
  },
  {
   "cell_type": "markdown",
   "id": "d84268ba-5d5e-49b5-8a50-887f346685ec",
   "metadata": {},
   "source": [
    "------------------------------------------"
   ]
  },
  {
   "cell_type": "markdown",
   "id": "a59b642b-e246-4c5c-8bb9-14828b1705ca",
   "metadata": {},
   "source": [
    "You can concatenate 2 strings as follows:"
   ]
  },
  {
   "cell_type": "code",
   "execution_count": 12,
   "id": "aff2334a",
   "metadata": {},
   "outputs": [
    {
     "name": "stdout",
     "output_type": "stream",
     "text": [
      "appleball\n"
     ]
    }
   ],
   "source": [
    "a=\"apple\"\n",
    "b=\"ball\"\n",
    "print(a+b)"
   ]
  },
  {
   "cell_type": "markdown",
   "id": "0c0012bf",
   "metadata": {},
   "source": [
    "The above commands show that if the variables are strings, then the plus operator can be used for concatenating strings.  The multiplication operator can be used for repeating the same string multiple times, as can be seen below:"
   ]
  },
  {
   "cell_type": "code",
   "execution_count": 13,
   "id": "dc65712f",
   "metadata": {},
   "outputs": [
    {
     "name": "stdout",
     "output_type": "stream",
     "text": [
      "appleappleapple\n"
     ]
    }
   ],
   "source": [
    "a=\"apple\"\n",
    "b=a*3\n",
    "print(b)"
   ]
  },
  {
   "cell_type": "code",
   "execution_count": 14,
   "id": "41969f76",
   "metadata": {},
   "outputs": [
    {
     "name": "stdout",
     "output_type": "stream",
     "text": [
      "333\n",
      "9\n"
     ]
    }
   ],
   "source": [
    "a=\"3\"\n",
    "print(a*3)\n",
    "print(int(a)*3)"
   ]
  },
  {
   "cell_type": "markdown",
   "id": "2adea26a",
   "metadata": {},
   "source": [
    "What the above commands demonstrate is that if the number is stored as a string, then the multiplication operator will just repeat the string that many times.  So what you need to do is convert the string to integer(or float) before calling your script. "
   ]
  },
  {
   "cell_type": "markdown",
   "id": "45d70247",
   "metadata": {},
   "source": [
    "### <a id=\"if\"> The if-else Statement </a>"
   ]
  },
  {
   "cell_type": "markdown",
   "id": "56642f28-d681-4631-8095-1f8ad10f73ad",
   "metadata": {},
   "source": [
    "The if-else statement is used to test whether a statement is true or false.  For example:\n",
    "\n",
    "- if a certain statement is true, print it out.\n",
    "- Otherwise(i.e. else) print something else.\n",
    "\n",
    "The else is optional.\n",
    "\n",
    "It should be noted that you may also want to compare a value multiple different ways.  For example:\n",
    "- If a is equal to b and a is greater than c then do this.\n",
    "- Otherwise(else) do this.\n",
    "\n",
    "Thus you need logical operators such as <b>and</b>, <b>or</b> and <b>not</b>.\n",
    "\n",
    "You may also have multiple if statements, which you can chain as follows:\n",
    "- If a is equal to b then do this.\n",
    "- else if a is equal to c then do this.\n",
    "- else if a is equal to j then do this.\n",
    "- else (if none of the statements above are true) do this\n"
   ]
  },
  {
   "cell_type": "markdown",
   "id": "1e1699cd",
   "metadata": {},
   "source": [
    "First, let's talk about the <b>comparison</b> operators.  The comparison operators that I will introduce are:\n",
    "\n",
    "    1)== Equal.  Test for equality.\n",
    "    2)!= Not equal.  Test for inequality.\n",
    "    3)< Less Than.  Is a less than b?\n",
    "    4) > Greater Than.  Is a greater than b?\n",
    "    5) <= Less than or equal to.  Is a less than or equal to b?\n",
    "    6) >= Greater than or equal to. Is a greater than or equal to b?\n",
    "    \n",
    "Here are some examples:"
   ]
  },
  {
   "cell_type": "code",
   "execution_count": 15,
   "id": "02931034",
   "metadata": {},
   "outputs": [
    {
     "name": "stdout",
     "output_type": "stream",
     "text": [
      "3\n",
      "6\n",
      "6\n",
      "6\n",
      "6\n",
      "6\n"
     ]
    }
   ],
   "source": [
    "a=3\n",
    "if a==3:\n",
    "    print(a)\n",
    "# assign 6 and do a not equal\n",
    "a=6\n",
    "if a!=3:\n",
    "    print(a)\n",
    "if a>5:\n",
    "    print(a)\n",
    "if a>=6:\n",
    "    print(a)\n",
    "if a<=6:\n",
    "    print(a)\n",
    "if a<10:\n",
    "    print(a)\n",
    "\n"
   ]
  },
  {
   "cell_type": "markdown",
   "id": "bc85ee1d-4b47-4f84-8798-c5d4e9863d7b",
   "metadata": {},
   "source": [
    "##### Exercise 4:\n",
    "<i>  Enter a number (integer) from the user.</i>\n",
    "    \n",
    "<i>Print whether the number is odd or even.\n",
    "    \n",
    "Example:\n",
    "    \n",
    "    Enter a Number:  3\n",
    "    The number is Odd\n",
    " \n",
    "Note:  Even numbers are 2, 4, 6, 8....16,18...to infinity (i.e. divisible by 2)  Odd numbers are 1,3,5,7,9, to infinity.    \n",
    "Time:  <b> 3 minutes </b>\n",
    "    \n",
    "    "
   ]
  },
  {
   "cell_type": "code",
   "execution_count": null,
   "id": "ffd05d43-e2ff-437e-be8e-fbc02c88086c",
   "metadata": {},
   "outputs": [],
   "source": []
  },
  {
   "cell_type": "markdown",
   "id": "a73e1fe0-cecc-42f1-a5f2-73f479522bb0",
   "metadata": {},
   "source": [
    "------------------------------"
   ]
  },
  {
   "cell_type": "markdown",
   "id": "a7f5acca-14a5-44aa-a24b-2fd790c97b80",
   "metadata": {},
   "source": [
    "Next,  we have the logical operators"
   ]
  },
  {
   "cell_type": "markdown",
   "id": "4e8eb442",
   "metadata": {},
   "source": [
    "\n",
    "if a=TRUE <b>and</b> b=TRUE --> True   (what I mean is that if the 2 conditions are True, only then will the code run)\n",
    "\n",
    "if a=TRUE and b=FALSE --> FALSE\n",
    "\n",
    "if a=FALSE and b=TRUE --> FALSE\n",
    "\n",
    "if a=TRUE <b>or</b> b=TRUE --> TRUE\n",
    "\n",
    "if a=TRUE or b=FALSE--> TRUE\n",
    "\n",
    "if a=FALSE or b=TRUE--> TRUE\n",
    "\n",
    "if a=FALSE or b=FALSE--> FALSE\n",
    "\n",
    "if <b>not</b> a:  True\n"
   ]
  },
  {
   "cell_type": "code",
   "execution_count": 16,
   "id": "13f49082",
   "metadata": {},
   "outputs": [
    {
     "name": "stdout",
     "output_type": "stream",
     "text": [
      "Comparison 1: a is 3 AND b is 6\n",
      "Comparison 3: a is 3 and b is not 7\n",
      "Comparison 4: Either a is 3 or b is 7\n"
     ]
    }
   ],
   "source": [
    "a=3;b=6\n",
    "#Comparison 1\n",
    "if a==3 and b==6:\n",
    "    print(\"Comparison 1: a is 3 AND b is 6\")\n",
    "#Comparison 2:\n",
    "if a==3 and b!=6:\n",
    "    print(\"Comparison 2: a is 3 AND b is not 6\")\n",
    "#Comparison 3\n",
    "if a==3 and b!=7:\n",
    "    print(\"Comparison 3: a is 3 and b is not 7\")\n",
    "#Comparison 4:\n",
    "if a==3 or b==7:\n",
    "    print(\"Comparison 4: Either a is 3 or b is 7\")\n",
    "# Comparison 5:\n",
    "if a==8 or b==9:\n",
    "    print(\"Comparison 5: Either a is 8 or b is 9\")"
   ]
  },
  {
   "cell_type": "markdown",
   "id": "f234a3ee",
   "metadata": {},
   "source": [
    "The and comparison means that both statements need to be correct.\n",
    "The or statement means that one of two statements need to be correct.\n",
    "The comparison operators can be combined as follows\n"
   ]
  },
  {
   "cell_type": "code",
   "execution_count": 17,
   "id": "800b1800",
   "metadata": {},
   "outputs": [
    {
     "name": "stdout",
     "output_type": "stream",
     "text": [
      "a is 3 and either b is 3 or c is 8\n"
     ]
    }
   ],
   "source": [
    "a=3;b=3;c=9\n",
    "if a==3 and (b==3 or c==8):\n",
    "    print(\"a is 3 and either b is 3 or c is 8\")"
   ]
  },
  {
   "cell_type": "markdown",
   "id": "03ee633a",
   "metadata": {},
   "source": [
    "Finally, there is also the not operator"
   ]
  },
  {
   "cell_type": "code",
   "execution_count": 18,
   "id": "ad45318c",
   "metadata": {},
   "outputs": [
    {
     "name": "stdout",
     "output_type": "stream",
     "text": [
      "A is not 5\n"
     ]
    }
   ],
   "source": [
    "a=3\n",
    "if not a==3:\n",
    "    print (\"A is not 3\")\n",
    "if not a==5:\n",
    "    print(\"A is not 5\")"
   ]
  },
  {
   "cell_type": "markdown",
   "id": "afe6baf1-b96a-4761-847c-8afc4de621dd",
   "metadata": {},
   "source": [
    "Now let's talk about the if else statement.  The else is optional, but it executes only if the \"if statement\" is false."
   ]
  },
  {
   "cell_type": "code",
   "execution_count": 20,
   "id": "741cae36",
   "metadata": {},
   "outputs": [
    {
     "name": "stdout",
     "output_type": "stream",
     "text": [
      "A is not greater than 3\n"
     ]
    }
   ],
   "source": [
    "a=3\n",
    "if a>3:\n",
    "    print(\"a is greater than 3\")\n",
    "else:\n",
    "    print(\"A is not greater than 3\")"
   ]
  },
  {
   "cell_type": "markdown",
   "id": "a8a7eb81",
   "metadata": {},
   "source": [
    "Here is how the script is processed.  We first assign 3 to the variable a.  The if statement first looks to see if a is greater than 3.  This will be processed as FALSE.  If the statement was \"if a>=3\" then it would have been True. Then it goes to the else statement and executes the print statement.\n",
    "The elif statement can be used for chaining multiple <i>if</i> statements, as shown below."
   ]
  },
  {
   "cell_type": "code",
   "execution_count": 21,
   "id": "2eb7daff",
   "metadata": {},
   "outputs": [
    {
     "name": "stdout",
     "output_type": "stream",
     "text": [
      "A equals 3\n"
     ]
    }
   ],
   "source": [
    "a=3\n",
    "if a>3:\n",
    "    print(\"A is greater than 3\")\n",
    "elif a<3:\n",
    "    print(\"A is less than 3\")\n",
    "elif a>10:\n",
    "    print(\"A is greater than 10\")\n",
    "elif a<-10:\n",
    "    print(\"A is less than -10\")\n",
    "else:\n",
    "    print(\"A equals 3\")"
   ]
  },
  {
   "cell_type": "markdown",
   "id": "14b9abe8",
   "metadata": {},
   "source": [
    "Here the first statement is False, because a is not greater than 3. The elif statement will also be process as false, as a is not less than 3.  Finally, the last else statement is executed.  Thus the script processes to 3."
   ]
  },
  {
   "cell_type": "markdown",
   "id": "3872a173-acfd-4b26-b84e-4f10d649c3c9",
   "metadata": {},
   "source": [
    "##### Exercise 5\n",
    "<i> Let the user enter 2 numbers.<i>\n",
    "    \n",
    "<i> If both numbers are even, print  \"Both numbers are even!\" </i>\n",
    "    \n",
    "<i> If both numbers are odd, print \"Both numbers are odd!\" </i>\n",
    "    \n",
    "<i> If one number is odd and one number is even, print \"One number is even and one number is odd!\" </i>\n",
    "    \n",
    "Example:\n",
    "    \n",
    "        Enter Number 1: 10\n",
    "    \n",
    "        Enter Number 2:  15\n",
    "    \n",
    "        One number is even and one number is odd!\n",
    "    \n",
    "Time:  <b> 3 minutes </b>"
   ]
  },
  {
   "cell_type": "code",
   "execution_count": null,
   "id": "c15b7445-509a-4b09-8905-a843ecb83fbb",
   "metadata": {},
   "outputs": [],
   "source": []
  },
  {
   "cell_type": "markdown",
   "id": "961daadd-0bf6-4261-b669-356488171aff",
   "metadata": {},
   "source": [
    "--------------------------------------------------------------------------------"
   ]
  },
  {
   "cell_type": "markdown",
   "id": "89893251",
   "metadata": {},
   "source": [
    "### <a id=\"loops\"> Loops in Python </a>\n",
    "\n",
    "Let's say you want to repeat a task 10 times.  \n",
    "One way to do this is to write 10 statements.  However, this is tedious.\n",
    "If the task is repititive, then you want a way to iterate through the tasks.\n",
    "This is what a loop is used for.  \n",
    "\n",
    "First let's discuss the <b>for loop</b>, which is the most common type of loop.  \n",
    "\n",
    "Here is how to use a for loop."
   ]
  },
  {
   "cell_type": "code",
   "execution_count": 48,
   "id": "ebb55afa",
   "metadata": {},
   "outputs": [
    {
     "name": "stdout",
     "output_type": "stream",
     "text": [
      "0\n",
      "1\n",
      "2\n",
      "3\n",
      "4\n",
      "5\n",
      "6\n",
      "7\n",
      "8\n",
      "9\n"
     ]
    }
   ],
   "source": [
    "for i in range(10):\n",
    "    print(i)"
   ]
  },
  {
   "cell_type": "markdown",
   "id": "914ed44d",
   "metadata": {},
   "source": [
    "If you want to print 10 numbers, the range(10) will print 10 numbers. However, it should be noted that unlike R, python is 0-indexed.  So while the for loop prints 10 numbers, it starts from 0 and ends at 9.  "
   ]
  },
  {
   "cell_type": "code",
   "execution_count": 26,
   "id": "b4a06ef5",
   "metadata": {},
   "outputs": [
    {
     "name": "stdout",
     "output_type": "stream",
     "text": [
      "1\n",
      "2\n",
      "3\n",
      "4\n",
      "5\n",
      "6\n",
      "7\n",
      "8\n",
      "9\n",
      "10\n"
     ]
    }
   ],
   "source": [
    "for i in range(1,11):\n",
    "    print(i)"
   ]
  },
  {
   "cell_type": "code",
   "execution_count": 27,
   "id": "20368111",
   "metadata": {},
   "outputs": [
    {
     "name": "stdout",
     "output_type": "stream",
     "text": [
      "0\n",
      "2\n",
      "4\n",
      "6\n",
      "8\n"
     ]
    }
   ],
   "source": [
    "for i in range(0,10,2):\n",
    "    print(i)"
   ]
  },
  {
   "cell_type": "markdown",
   "id": "633998cd",
   "metadata": {},
   "source": [
    "In the above line, the script starts at 0, and ends at 10(subtract 1 from 1).  And the 2 specifies that we want to skip by 2.  What if I want to print from 10 to 1 in reverse direction?"
   ]
  },
  {
   "cell_type": "code",
   "execution_count": 28,
   "id": "a75f8bdd",
   "metadata": {},
   "outputs": [
    {
     "name": "stdout",
     "output_type": "stream",
     "text": [
      "10\n",
      "9\n",
      "8\n",
      "7\n",
      "6\n",
      "5\n",
      "4\n",
      "3\n",
      "2\n",
      "1\n"
     ]
    }
   ],
   "source": [
    "for i in range(10,0,-1):\n",
    "    print(i)"
   ]
  },
  {
   "cell_type": "code",
   "execution_count": 29,
   "id": "1b717a95",
   "metadata": {},
   "outputs": [
    {
     "name": "stdout",
     "output_type": "stream",
     "text": [
      "10\n",
      "8\n",
      "6\n",
      "4\n",
      "2\n"
     ]
    }
   ],
   "source": [
    "for i in range(10,0,-2):\n",
    "    print(i)"
   ]
  },
  {
   "cell_type": "markdown",
   "id": "dbe8a7ff",
   "metadata": {},
   "source": [
    "There is an option Else keyword that can be used to specify that the for loop has ended"
   ]
  },
  {
   "cell_type": "code",
   "execution_count": 30,
   "id": "0d0688d2",
   "metadata": {},
   "outputs": [
    {
     "name": "stdout",
     "output_type": "stream",
     "text": [
      "0\n",
      "1\n",
      "2\n",
      "3\n",
      "4\n",
      "5\n",
      "6\n",
      "7\n",
      "8\n",
      "9\n",
      "Done\n"
     ]
    }
   ],
   "source": [
    "for i in range(10):\n",
    "    print(i)\n",
    "else:\n",
    "    print(\"Done\")"
   ]
  },
  {
   "cell_type": "markdown",
   "id": "61f896c0",
   "metadata": {},
   "source": [
    "The for loop can be used with the break keyword to get out of the loop.\n",
    "The continue keyword can be used to skip a loop if it meets a condition"
   ]
  },
  {
   "cell_type": "code",
   "execution_count": 31,
   "id": "944fef73",
   "metadata": {},
   "outputs": [
    {
     "name": "stdout",
     "output_type": "stream",
     "text": [
      "0\n",
      "1\n",
      "2\n",
      "3\n",
      "4\n"
     ]
    }
   ],
   "source": [
    "for i in range(10):\n",
    "    if i==5:\n",
    "        break\n",
    "    print(i)\n"
   ]
  },
  {
   "cell_type": "code",
   "execution_count": 32,
   "id": "23fee61f",
   "metadata": {},
   "outputs": [
    {
     "name": "stdout",
     "output_type": "stream",
     "text": [
      "0\n",
      "1\n",
      "2\n",
      "3\n",
      "4\n",
      "6\n",
      "7\n",
      "8\n",
      "9\n"
     ]
    }
   ],
   "source": [
    "for i in range(10):\n",
    "    if i==5:\n",
    "        continue\n",
    "    print(i)\n",
    "    "
   ]
  },
  {
   "cell_type": "markdown",
   "id": "91e4eccf",
   "metadata": {},
   "source": [
    "As can be seen above, the value 5 is skipped due to the continue keyword"
   ]
  },
  {
   "cell_type": "code",
   "execution_count": 33,
   "id": "fef088ac",
   "metadata": {},
   "outputs": [
    {
     "name": "stdout",
     "output_type": "stream",
     "text": [
      "1\n",
      "3\n",
      "5\n",
      "7\n",
      "9\n"
     ]
    }
   ],
   "source": [
    "for i in range(10):\n",
    "    if i%2==0:\n",
    "        continue\n",
    "    print(i)"
   ]
  },
  {
   "cell_type": "markdown",
   "id": "0cb919ad",
   "metadata": {},
   "source": [
    "In the code above, if the remainder is 0, we are going to skip that iteration.  This results in only odd numbers being printed.\n",
    "Let us try to print only the prime numbers.  \n",
    "As a reminder, a prime number is a number that is only divisible by itself and 1.  Some examples of prime numbers are 2,3,5,7,11, etc. Let's find all the prime numbers from 1 to 30.\n"
   ]
  },
  {
   "cell_type": "code",
   "execution_count": 34,
   "id": "0a1dcb6b",
   "metadata": {},
   "outputs": [
    {
     "name": "stdout",
     "output_type": "stream",
     "text": [
      "2 is prime!\n",
      "3 is prime!\n",
      "5 is prime!\n",
      "7 is prime!\n",
      "11 is prime!\n",
      "13 is prime!\n",
      "17 is prime!\n",
      "19 is prime!\n",
      "23 is prime!\n",
      "29 is prime!\n"
     ]
    }
   ],
   "source": [
    "for i in range(1,31):\n",
    "    prime=True\n",
    "    if i==1:\n",
    "        continue\n",
    "    if i==2:\n",
    "        print(f\"{i} is prime!\")\n",
    "        continue\n",
    "    else:\n",
    "        for j in range(2,i):\n",
    "            if i%j==0:\n",
    "                prime=False\n",
    "    if prime==True:\n",
    "        print(f\"{i} is prime!\")\n",
    "            "
   ]
  },
  {
   "cell_type": "markdown",
   "id": "092dce54",
   "metadata": {},
   "source": [
    "This is a brute force method for calculating prime numbers.  There are better algorithms for finding prime numbers.\n",
    "Also, a nested loop is a loop where there is a loop within a loop.\n",
    "Theoretically, to calculate a  the second loop does not need need to go higher than the square root of the value i. \n",
    "\n",
    "Another example of a nested loop to clarify how it works:"
   ]
  },
  {
   "cell_type": "code",
   "execution_count": 58,
   "id": "c2fe4bb0",
   "metadata": {},
   "outputs": [
    {
     "name": "stdout",
     "output_type": "stream",
     "text": [
      "0 10\n",
      "0 11\n",
      "0 12\n",
      "0 13\n",
      "0 14\n",
      "1 10\n",
      "1 11\n",
      "1 12\n",
      "1 13\n",
      "1 14\n",
      "2 10\n",
      "2 11\n",
      "2 12\n",
      "2 13\n",
      "2 14\n",
      "3 10\n",
      "3 11\n",
      "3 12\n",
      "3 13\n",
      "3 14\n",
      "4 10\n",
      "4 11\n",
      "4 12\n",
      "4 13\n",
      "4 14\n"
     ]
    }
   ],
   "source": [
    "for i in range(5):\n",
    "    for j in range(10,15):\n",
    "        print(i,j)"
   ]
  },
  {
   "cell_type": "markdown",
   "id": "9fa6d99f",
   "metadata": {},
   "source": [
    "The way it works is that the internal loop(j) gets executed until we get to 14 at i=0. Then the value of i goes up by 1. The internal loop(j) needs to run again until the value 14. And so on and so forth. "
   ]
  },
  {
   "cell_type": "markdown",
   "id": "e1ef9ad3-c964-40ac-a137-d3b77760c321",
   "metadata": {},
   "source": [
    "##### Exercise 6\n",
    "\n",
    "<i> Print 2 numbers from 1 to 5 that will have the following pattern:</i>\n",
    "    \n",
    "    1  5\n",
    "    1  4\n",
    "    1  3\n",
    "    1  2\n",
    "    2  5\n",
    "    .\n",
    "    .\n",
    "    .\n",
    "    5 1\n",
    "   <i> Use for loop </i>\n",
    "   \n",
    "<i>If two values are the same, it is skipped. </i>\n",
    "\n",
    "Notice that 1  1 is not printed.\n",
    "Time:<b> 2 minutes </b>"
   ]
  },
  {
   "cell_type": "code",
   "execution_count": null,
   "id": "a215e345-6fc8-4d84-bccc-a792004e5b7b",
   "metadata": {},
   "outputs": [],
   "source": []
  },
  {
   "cell_type": "markdown",
   "id": "e39d3787-021b-4d8c-9897-62961d4a26b9",
   "metadata": {},
   "source": [
    "---------------------"
   ]
  },
  {
   "cell_type": "markdown",
   "id": "79404cda-e305-41c8-bd91-a8c62cb698f2",
   "metadata": {},
   "source": [
    "The for loop can also be used to print individual characters in a string:"
   ]
  },
  {
   "cell_type": "code",
   "execution_count": 35,
   "id": "abc020bb-e483-49fe-b3cc-ef7e10846672",
   "metadata": {},
   "outputs": [
    {
     "name": "stdout",
     "output_type": "stream",
     "text": [
      "a\n",
      "b\n",
      "c\n",
      "d\n"
     ]
    }
   ],
   "source": [
    "for i in \"abcd\":\n",
    "    print(i)"
   ]
  },
  {
   "cell_type": "markdown",
   "id": "fc9c76de-9305-4813-83a4-0a898b52a4eb",
   "metadata": {},
   "source": [
    "##### Exercise 7:\n",
    "\n",
    "<i>An amino acid is encoded by 3 nucleotides called a codon. Some codons will code for the same amino acid.  However, we will ignore this.  \n",
    "Print all possible codons.</i>\n",
    "Here are the 4 nucleotides: \n",
    "\n",
    "1) A\n",
    "\n",
    "2) T(or U)\n",
    "\n",
    "3) G\n",
    "\n",
    "4) C\n",
    "\n",
    "Time: <b> 3 minutes </b>\n"
   ]
  },
  {
   "cell_type": "code",
   "execution_count": null,
   "id": "8ff4ec44-141c-4c48-9dff-f147c6679cb2",
   "metadata": {},
   "outputs": [],
   "source": []
  },
  {
   "cell_type": "markdown",
   "id": "b762508f-c29b-43d0-8cbc-7e7554b2541a",
   "metadata": {},
   "source": [
    "-----------------------------------------------------------------------"
   ]
  },
  {
   "cell_type": "markdown",
   "id": "313dc4dd",
   "metadata": {},
   "source": [
    "Now let's introduce the <b>while loop</b>.  \n",
    "The while loop will run endlessly as long as the conditional statement within it is true.\n",
    "For example:\n",
    "while the value of a is less than 3, keep doing this.\n",
    "\n",
    "<div class=\"alert alert-block alert-danger\">\"Note that the while loop can run endlessly unless you specify how to  break out of the loop.</div>"
   ]
  },
  {
   "cell_type": "code",
   "execution_count": 36,
   "id": "f9e6d606",
   "metadata": {},
   "outputs": [
    {
     "name": "stdout",
     "output_type": "stream",
     "text": [
      "1\n",
      "2\n",
      "3\n",
      "4\n",
      "5\n",
      "6\n",
      "7\n",
      "8\n",
      "9\n",
      "10\n"
     ]
    }
   ],
   "source": [
    "a=1\n",
    "while(a<11):\n",
    "    print(a)\n",
    "    a+=1\n",
    "    "
   ]
  },
  {
   "cell_type": "markdown",
   "id": "67c28932",
   "metadata": {},
   "source": [
    "The way the while loop works is that we need to first specify the value of a as 1. While this value is less than 11(meaning up to 10), the while loop can keep running.  Within the loop, we increment the value of a by 1. We can also easily step by 2 if we increment by 2."
   ]
  },
  {
   "cell_type": "code",
   "execution_count": 37,
   "id": "d2ef72f6",
   "metadata": {},
   "outputs": [
    {
     "name": "stdout",
     "output_type": "stream",
     "text": [
      "1\n",
      "3\n",
      "5\n",
      "7\n",
      "9\n"
     ]
    }
   ],
   "source": [
    "a=1\n",
    "while(a<11):\n",
    "    print(a)\n",
    "    a+=2\n"
   ]
  },
  {
   "cell_type": "code",
   "execution_count": 38,
   "id": "0c8c08ed",
   "metadata": {},
   "outputs": [
    {
     "name": "stdout",
     "output_type": "stream",
     "text": [
      "1\n",
      "2\n",
      "3\n",
      "4\n",
      "5\n",
      "6\n",
      "7\n",
      "8\n",
      "9\n",
      "10\n"
     ]
    }
   ],
   "source": [
    "a=1\n",
    "while(not(a>10)):\n",
    "    print(a)\n",
    "    a+=1"
   ]
  },
  {
   "cell_type": "code",
   "execution_count": 39,
   "id": "eaf3fe88",
   "metadata": {},
   "outputs": [
    {
     "name": "stdout",
     "output_type": "stream",
     "text": [
      "5 15\n",
      "5 16\n",
      "5 17\n",
      "5 18\n",
      "5 19\n",
      "6 15\n",
      "6 16\n",
      "6 17\n",
      "6 18\n",
      "6 19\n",
      "7 15\n",
      "7 16\n",
      "7 17\n",
      "7 18\n",
      "7 19\n",
      "8 15\n",
      "8 16\n",
      "8 17\n",
      "8 18\n",
      "8 19\n",
      "9 15\n",
      "9 16\n",
      "9 17\n",
      "9 18\n",
      "9 19\n"
     ]
    }
   ],
   "source": [
    "a=5\n",
    "while(a<10):\n",
    "    b=15\n",
    "    while(b<20):\n",
    "        print(a,b)\n",
    "        b=b+1\n",
    "    a=a+1"
   ]
  },
  {
   "cell_type": "markdown",
   "id": "c2c94071-970c-4f3a-aeb3-da73fe36b471",
   "metadata": {},
   "source": [
    "##### Exercise 8\n",
    "<i> In this exercise, you will create a game called guess the number. The number that is guessed will be a random number from 0 to 100. This code is provided. </i>\n",
    "<i> Your task is to fill the remaining code.  If the number you guess is smaller than the true number, print \"too small\".  If it is bigger, print too big </i>\n",
    "<i> If the number is guessed correctly, print \"Correct\".</i>\n",
    "<i> Give the user the ability to quit the game any time they want (use the q keyword to quit).</i>\n",
    "\n",
    "Example:\n",
    "\n",
    "Guess what number I am thinking of(q to quit):  90\n",
    "\n",
    "Too big!\n",
    "\n",
    "Guess what number I am thinking of(q to quit) : 10\n",
    "\n",
    "Too small!\n",
    "\n",
    "Guess what number I am thinking of(q to quit) :  50\n",
    "\n",
    "Correct!\n",
    "\n",
    "Time: <b> 5 minutes </b>\n"
   ]
  },
  {
   "cell_type": "code",
   "execution_count": 40,
   "id": "fc7d334e-e02f-4a46-8302-98ef5ec358c2",
   "metadata": {},
   "outputs": [],
   "source": [
    "from random import randint\n",
    "true_number=randint(0,100)\n",
    "###Add your loop here\n"
   ]
  },
  {
   "cell_type": "markdown",
   "id": "f8a7e972-30a7-472b-ba5d-55d95ee2ec69",
   "metadata": {},
   "source": [
    "----------------------------------------------------------------"
   ]
  },
  {
   "cell_type": "markdown",
   "id": "10123c87",
   "metadata": {},
   "source": [
    "### <a id=\"function\">Functions </a>"
   ]
  },
  {
   "cell_type": "markdown",
   "id": "76584a79",
   "metadata": {},
   "source": [
    "A function is a way of storing a block of code so that you can reuse it.  \n",
    "  - In python, the def function is used for declaring a function.\n",
    "  - The def keyword is then followed by the name of the function.  In the example below, the function name is F_C_converter.\n",
    "After the function name are the variables that the function will accept.  \n",
    "-  The example below has two variables: Temp for temperature, and the  Unit. Is the temperature value in Fahrenheit or Celsius?  \n",
    "-  We can also declare a default value.  In the example below, the default value is \"Fahrenheit\".  What that means is that if you do not provide a unit, the script below will assume that the unit of Temperature is Fahrenheit.  The program will then proceed to convert it to Celsius.\n",
    "- The return keyword is used to return the value (or values).  This value can be stored in a variable if needed."
   ]
  },
  {
   "cell_type": "code",
   "execution_count": 41,
   "id": "f5c8c011",
   "metadata": {},
   "outputs": [],
   "source": [
    "def F_C_converter(Temp,unit=\"Fahrenheit\"):\n",
    "    if unit==\"Fahrenheit\":\n",
    "        Celsius=((Temp)-32)*(5/9)\n",
    "        return Celsius\n",
    "    elif unit==\"Celsius\":\n",
    "        Fahrenheit=((Temp*9/5)+32)\n",
    "        return Fahrenheit\n",
    "    else:\n",
    "        return \"Error: The unit can only be Celsius or Fahrenheit\""
   ]
  },
  {
   "cell_type": "code",
   "execution_count": 42,
   "id": "26f9723c",
   "metadata": {},
   "outputs": [
    {
     "name": "stdout",
     "output_type": "stream",
     "text": [
      "37.77777777777778\n",
      "0.0\n"
     ]
    }
   ],
   "source": [
    "print(F_C_converter(100))\n",
    "print(F_C_converter(32))"
   ]
  },
  {
   "cell_type": "code",
   "execution_count": 43,
   "id": "9751e5fd",
   "metadata": {},
   "outputs": [
    {
     "name": "stdout",
     "output_type": "stream",
     "text": [
      "100.000004\n",
      "32.0\n"
     ]
    }
   ],
   "source": [
    "print(F_C_converter(37.77778,\"Celsius\"))\n",
    "print(F_C_converter(0,\"Celsius\"))"
   ]
  },
  {
   "cell_type": "code",
   "execution_count": 44,
   "id": "53a94617",
   "metadata": {},
   "outputs": [
    {
     "name": "stdout",
     "output_type": "stream",
     "text": [
      "Error: The unit can only be Celsius or Fahrenheit\n"
     ]
    }
   ],
   "source": [
    "print(F_C_converter(0,\"Kelvin\"))"
   ]
  },
  {
   "cell_type": "markdown",
   "id": "d299854d",
   "metadata": {},
   "source": [
    "If you want more clarity, you can also annotate your variables in a function. In the example below, you expect the input variable to be an integer, and the output to be string"
   ]
  },
  {
   "cell_type": "code",
   "execution_count": 45,
   "id": "2b0fc1e6",
   "metadata": {},
   "outputs": [],
   "source": [
    "def example_function(a:\"int\")->\"str\":\n",
    "    b=str(a)\n",
    "    print(f\"The type is {type(b)}\")"
   ]
  },
  {
   "cell_type": "code",
   "execution_count": 46,
   "id": "35870932",
   "metadata": {},
   "outputs": [
    {
     "name": "stdout",
     "output_type": "stream",
     "text": [
      "The type is <class 'str'>\n"
     ]
    }
   ],
   "source": [
    "example_function(3)"
   ]
  },
  {
   "cell_type": "markdown",
   "id": "cc03eec8-3b78-4f7f-8da8-41c0eb8551f5",
   "metadata": {},
   "source": [
    "##### Exercise 9\n",
    "<i> Create a function that takes as input  DNA or CDNA sequence and converts it to to RNA sequence.  </i>\n",
    "\n",
    "<i>A DNA has nucleotides A,T,G,C/CDNA has A,T,G,C, whereas RNA has A,U,G,C. </i>\n",
    "\n",
    "Time: <b> 3 minutes </b>"
   ]
  },
  {
   "cell_type": "code",
   "execution_count": 71,
   "id": "fec31440-0f38-464f-a04d-12f8a535163a",
   "metadata": {},
   "outputs": [],
   "source": [
    "def convert_to_RNA(DNA):\n",
    "   ##code goes here\n",
    "    return seq"
   ]
  },
  {
   "cell_type": "code",
   "execution_count": null,
   "id": "158b0e87-75a1-419c-8f49-b55a86509f58",
   "metadata": {},
   "outputs": [],
   "source": []
  }
 ],
 "metadata": {
  "kernelspec": {
   "display_name": "Python 3 (ipykernel)",
   "language": "python",
   "name": "python3"
  },
  "language_info": {
   "codemirror_mode": {
    "name": "ipython",
    "version": 3
   },
   "file_extension": ".py",
   "mimetype": "text/x-python",
   "name": "python",
   "nbconvert_exporter": "python",
   "pygments_lexer": "ipython3",
   "version": "3.10.9"
  },
  "toc-autonumbering": false
 },
 "nbformat": 4,
 "nbformat_minor": 5
}
