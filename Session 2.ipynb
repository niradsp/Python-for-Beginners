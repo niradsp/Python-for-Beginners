{
 "cells": [
  {
   "cell_type": "markdown",
   "id": "3a80b695",
   "metadata": {},
   "source": [
    "# <center> Python Tutorial Session 2 </center>"
   ]
  },
  {
   "cell_type": "markdown",
   "id": "fcbcef1b",
   "metadata": {},
   "source": [
    "## What we covered in our previous session:\n",
    "- Print/Input \n",
    "- Variables\n",
    "- Function\n",
    "- Loop\n",
    "- List\n",
    "- Dictionary\n",
    "- Set\n",
    "- String Manipulation"
   ]
  },
  {
   "cell_type": "markdown",
   "id": "680732c3",
   "metadata": {},
   "source": [
    "## <font color=green>Table of Contents II </font>\n",
    " - [Error Types and Error Handling](#errors)\n",
    " - [List Comprehension](#listcomp)\n",
    " - [Dictionary Comprehension](#Dictionarycomp)\n",
    " - [Lambda Functions](#LambdaFunc)\n",
    " - [Importing Modules](#Import)\n",
    " - [The Math module](#math)\n",
    " - [The Collections module](#collections)\n",
    " - [The OS module](#os)\n",
    " - [Working with random numbers](#random)\n",
    " - [Working with Time](#time)\n",
    " - [Regular Expressions](#re)\n",
    " - [Bioinformatics Examples](#Bioinformatics)\n",
    " - [What we covered](#Conclusion)"
   ]
  },
  {
   "cell_type": "markdown",
   "id": "af45b322",
   "metadata": {},
   "source": [
    "We are going to cover some of these intermediate concepts today.  \n",
    "List Comprehension and Dictionary Comprehension allows us to generate new lists and Dictionaries using a more compact syntax."
   ]
  },
  {
   "cell_type": "markdown",
   "id": "0dbd06dc",
   "metadata": {},
   "source": [
    "## <a id=\"errors\"> Different Error Types </a>"
   ]
  },
  {
   "cell_type": "markdown",
   "id": "d932a7e9",
   "metadata": {},
   "source": [
    "Depending on the errors in your script, python generates different error types.  This can be helpful for debugging your script."
   ]
  },
  {
   "cell_type": "markdown",
   "id": "7abdd82f",
   "metadata": {},
   "source": [
    "#### <b> Syntax Error </b>\n",
    "This occurs when you do not follow the syntax/rule of the command that you are using.  A good example of this is using the print function without the parenthesis.  In this case, the error output also lets you know that you forgot the parenthesis.  \n"
   ]
  },
  {
   "cell_type": "code",
   "execution_count": 1,
   "id": "2dafe130",
   "metadata": {},
   "outputs": [
    {
     "ename": "SyntaxError",
     "evalue": "Missing parentheses in call to 'print'. Did you mean print(...)? (796388850.py, line 1)",
     "output_type": "error",
     "traceback": [
      "\u001b[1;36m  Cell \u001b[1;32mIn[1], line 1\u001b[1;36m\u001b[0m\n\u001b[1;33m    print \"Hello World\"\u001b[0m\n\u001b[1;37m    ^\u001b[0m\n\u001b[1;31mSyntaxError\u001b[0m\u001b[1;31m:\u001b[0m Missing parentheses in call to 'print'. Did you mean print(...)?\n"
     ]
    }
   ],
   "source": [
    "print \"Hello World\""
   ]
  },
  {
   "cell_type": "markdown",
   "id": "b214d867",
   "metadata": {},
   "source": [
    "The next common error that can occur is an index error.  Suppose your list has 10 numbers, and you try to print the 11th index, this results in an index error, as follows.  The output lets you know that the list index is out of range."
   ]
  },
  {
   "cell_type": "code",
   "execution_count": 2,
   "id": "d1578e3d",
   "metadata": {},
   "outputs": [
    {
     "ename": "IndexError",
     "evalue": "list index out of range",
     "output_type": "error",
     "traceback": [
      "\u001b[1;31m---------------------------------------------------------------------------\u001b[0m",
      "\u001b[1;31mIndexError\u001b[0m                                Traceback (most recent call last)",
      "Cell \u001b[1;32mIn[2], line 2\u001b[0m\n\u001b[0;32m      1\u001b[0m a\u001b[38;5;241m=\u001b[39m[\u001b[38;5;241m1\u001b[39m,\u001b[38;5;241m2\u001b[39m,\u001b[38;5;241m3\u001b[39m,\u001b[38;5;241m4\u001b[39m,\u001b[38;5;241m5\u001b[39m]\n\u001b[1;32m----> 2\u001b[0m \u001b[38;5;28mprint\u001b[39m(\u001b[43ma\u001b[49m\u001b[43m[\u001b[49m\u001b[38;5;241;43m5\u001b[39;49m\u001b[43m]\u001b[49m)\n",
      "\u001b[1;31mIndexError\u001b[0m: list index out of range"
     ]
    }
   ],
   "source": [
    "a=[1,2,3,4,5]\n",
    "print(a[5])"
   ]
  },
  {
   "cell_type": "markdown",
   "id": "95bf3a71",
   "metadata": {},
   "source": [
    "Key Error is thrown when a key is not found in a dictionary."
   ]
  },
  {
   "cell_type": "code",
   "execution_count": 3,
   "id": "4b62b57c",
   "metadata": {},
   "outputs": [
    {
     "ename": "KeyError",
     "evalue": "'h'",
     "output_type": "error",
     "traceback": [
      "\u001b[1;31m---------------------------------------------------------------------------\u001b[0m",
      "\u001b[1;31mKeyError\u001b[0m                                  Traceback (most recent call last)",
      "Cell \u001b[1;32mIn[3], line 2\u001b[0m\n\u001b[0;32m      1\u001b[0m dict_a\u001b[38;5;241m=\u001b[39m{\u001b[38;5;124m\"\u001b[39m\u001b[38;5;124ma\u001b[39m\u001b[38;5;124m\"\u001b[39m:\u001b[38;5;124m\"\u001b[39m\u001b[38;5;124ma\u001b[39m\u001b[38;5;124m\"\u001b[39m,\u001b[38;5;124m\"\u001b[39m\u001b[38;5;124mb\u001b[39m\u001b[38;5;124m\"\u001b[39m:\u001b[38;5;124m\"\u001b[39m\u001b[38;5;124mb\u001b[39m\u001b[38;5;124m\"\u001b[39m,\u001b[38;5;124m\"\u001b[39m\u001b[38;5;124mc\u001b[39m\u001b[38;5;124m\"\u001b[39m:\u001b[38;5;124m\"\u001b[39m\u001b[38;5;124mc\u001b[39m\u001b[38;5;124m\"\u001b[39m,\u001b[38;5;124m\"\u001b[39m\u001b[38;5;124md\u001b[39m\u001b[38;5;124m\"\u001b[39m:\u001b[38;5;124m\"\u001b[39m\u001b[38;5;124md\u001b[39m\u001b[38;5;124m\"\u001b[39m}\n\u001b[1;32m----> 2\u001b[0m \u001b[38;5;28mprint\u001b[39m(\u001b[43mdict_a\u001b[49m\u001b[43m[\u001b[49m\u001b[38;5;124;43m'\u001b[39;49m\u001b[38;5;124;43mh\u001b[39;49m\u001b[38;5;124;43m'\u001b[39;49m\u001b[43m]\u001b[49m)\n",
      "\u001b[1;31mKeyError\u001b[0m: 'h'"
     ]
    }
   ],
   "source": [
    "dict_a={\"a\":\"a\",\"b\":\"b\",\"c\":\"c\",\"d\":\"d\"}\n",
    "print(dict_a['h'])"
   ]
  },
  {
   "cell_type": "markdown",
   "id": "39fe2fff",
   "metadata": {},
   "source": [
    "TypeError is thrown when the types don't match.  For example, one value is string, while the other is a float or integer."
   ]
  },
  {
   "cell_type": "code",
   "execution_count": 4,
   "id": "e72f48dc",
   "metadata": {},
   "outputs": [
    {
     "ename": "TypeError",
     "evalue": "can only concatenate str (not \"int\") to str",
     "output_type": "error",
     "traceback": [
      "\u001b[1;31m---------------------------------------------------------------------------\u001b[0m",
      "\u001b[1;31mTypeError\u001b[0m                                 Traceback (most recent call last)",
      "Cell \u001b[1;32mIn[4], line 1\u001b[0m\n\u001b[1;32m----> 1\u001b[0m \u001b[38;5;124;43m\"\u001b[39;49m\u001b[38;5;124;43ma\u001b[39;49m\u001b[38;5;124;43m\"\u001b[39;49m\u001b[38;5;241;43m+\u001b[39;49m\u001b[38;5;241;43m3\u001b[39;49m\n",
      "\u001b[1;31mTypeError\u001b[0m: can only concatenate str (not \"int\") to str"
     ]
    }
   ],
   "source": [
    "\"a\"+3"
   ]
  },
  {
   "cell_type": "markdown",
   "id": "dbc98ccb",
   "metadata": {},
   "source": [
    "A value error is thrown when an argument to a function is of inappropriate type.  Here we tried converting \"apple\" to integer using the int() function.  This will not work.  Also, if you pass a list to a dictionary, that will generate a value error as well."
   ]
  },
  {
   "cell_type": "code",
   "execution_count": 5,
   "id": "762d4b51",
   "metadata": {},
   "outputs": [
    {
     "ename": "ValueError",
     "evalue": "invalid literal for int() with base 10: 'apple'",
     "output_type": "error",
     "traceback": [
      "\u001b[1;31m---------------------------------------------------------------------------\u001b[0m",
      "\u001b[1;31mValueError\u001b[0m                                Traceback (most recent call last)",
      "Cell \u001b[1;32mIn[5], line 1\u001b[0m\n\u001b[1;32m----> 1\u001b[0m \u001b[38;5;28;43mint\u001b[39;49m\u001b[43m(\u001b[49m\u001b[38;5;124;43m\"\u001b[39;49m\u001b[38;5;124;43mapple\u001b[39;49m\u001b[38;5;124;43m\"\u001b[39;49m\u001b[43m)\u001b[49m\n",
      "\u001b[1;31mValueError\u001b[0m: invalid literal for int() with base 10: 'apple'"
     ]
    }
   ],
   "source": [
    "int(\"apple\")"
   ]
  },
  {
   "cell_type": "code",
   "execution_count": 6,
   "id": "359c9bf7",
   "metadata": {},
   "outputs": [
    {
     "ename": "TypeError",
     "evalue": "cannot convert dictionary update sequence element #0 to a sequence",
     "output_type": "error",
     "traceback": [
      "\u001b[1;31m---------------------------------------------------------------------------\u001b[0m",
      "\u001b[1;31mTypeError\u001b[0m                                 Traceback (most recent call last)",
      "Cell \u001b[1;32mIn[6], line 1\u001b[0m\n\u001b[1;32m----> 1\u001b[0m \u001b[38;5;28;43mdict\u001b[39;49m\u001b[43m(\u001b[49m\u001b[43m[\u001b[49m\u001b[38;5;241;43m1\u001b[39;49m\u001b[43m,\u001b[49m\u001b[38;5;241;43m2\u001b[39;49m\u001b[43m,\u001b[49m\u001b[38;5;241;43m3\u001b[39;49m\u001b[43m]\u001b[49m\u001b[43m)\u001b[49m\n",
      "\u001b[1;31mTypeError\u001b[0m: cannot convert dictionary update sequence element #0 to a sequence"
     ]
    }
   ],
   "source": [
    "dict([1,2,3])"
   ]
  },
  {
   "cell_type": "markdown",
   "id": "c59897a5",
   "metadata": {},
   "source": [
    "There is division by 0 error, which occurs when you divide by 0, as the name implies."
   ]
  },
  {
   "cell_type": "code",
   "execution_count": 7,
   "id": "922281d3",
   "metadata": {},
   "outputs": [
    {
     "ename": "ZeroDivisionError",
     "evalue": "division by zero",
     "output_type": "error",
     "traceback": [
      "\u001b[1;31m---------------------------------------------------------------------------\u001b[0m",
      "\u001b[1;31mZeroDivisionError\u001b[0m                         Traceback (most recent call last)",
      "Cell \u001b[1;32mIn[7], line 1\u001b[0m\n\u001b[1;32m----> 1\u001b[0m \u001b[38;5;241;43m3\u001b[39;49m\u001b[38;5;241;43m/\u001b[39;49m\u001b[38;5;241;43m0\u001b[39;49m\n",
      "\u001b[1;31mZeroDivisionError\u001b[0m: division by zero"
     ]
    }
   ],
   "source": [
    "3/0"
   ]
  },
  {
   "cell_type": "markdown",
   "id": "cfb0caf5",
   "metadata": {},
   "source": [
    "How do we handle errors in python?\n",
    "\n",
    "The try-except statements can be used to handle different error types. \n",
    "\n",
    "The way it works is, the program first tries to execute the try block.  If there are no errors, the value of j is set to True, and the loop ends.  On the other hand, if your number is a 0, then it generates a ZeroDivisionError.  This then prints the appropriate message(i.e. the number cannot be 0).  On the other hand, if the number you input is of an incorrect type, this generates a ValueError.  Note that there can be many except blocks."
   ]
  },
  {
   "cell_type": "code",
   "execution_count": 9,
   "id": "3629ff48",
   "metadata": {},
   "outputs": [
    {
     "name": "stdout",
     "output_type": "stream",
     "text": [
      "Enter a number: \n",
      "The number is not an integer\n",
      "Enter a number: 2\n",
      "5.0\n"
     ]
    }
   ],
   "source": [
    "j=False\n",
    "while(j==False):\n",
    "    try:\n",
    "        j=int(input(\"Enter a number: \"))\n",
    "        print(10/j)\n",
    "        j=True\n",
    "    except ZeroDivisionError:\n",
    "        print(\"The number cannot be 0\")\n",
    "    except ValueError:\n",
    "        print(\"The number is not an integer\")\n",
    "    "
   ]
  },
  {
   "cell_type": "markdown",
   "id": "878c3f75",
   "metadata": {},
   "source": [
    "We can extend the try except block by also including the \"else\" and \"finally\" blocks. The else block is executed if there are no error messages.  The \"finally\" block is executed regardless of the error message.  Let's extend the code above to include these two blocks."
   ]
  },
  {
   "cell_type": "code",
   "execution_count": 10,
   "id": "61b2fe61",
   "metadata": {},
   "outputs": [
    {
     "name": "stdout",
     "output_type": "stream",
     "text": [
      "Enter a number: \"apple\"\n",
      "The number is not an integer\n",
      "Iteration # 1\n",
      "Enter a number: 0\n",
      "The number cannot be 0\n",
      "Iteration # 2\n",
      "Enter a number: 3\n",
      "3.3333333333333335\n",
      "Iteration # 3\n"
     ]
    }
   ],
   "source": [
    "j=False\n",
    "ct=0\n",
    "while(j==False):\n",
    "    try:\n",
    "        j=int(input(\"Enter a number: \"))\n",
    "        k=(10/j)\n",
    "    except ZeroDivisionError:\n",
    "        print(\"The number cannot be 0\")\n",
    "    except ValueError:\n",
    "        print(\"The number is not an integer\")\n",
    "    else:\n",
    "        j=True\n",
    "        print(k)\n",
    "    finally:\n",
    "        ct=ct+1\n",
    "        print(f\"Iteration # {ct}\")"
   ]
  },
  {
   "cell_type": "markdown",
   "id": "d475b8c5",
   "metadata": {},
   "source": [
    "There are many other error types generated by Python, which I have not listed here.  If you google \"different error types in python\" there are many hits.\n",
    "\n",
    "There is also a raise command if you want to raise an error message.  Suppose you want the values to be greater than 3, but it is less than 3.  You can raise an appropriate error message."
   ]
  },
  {
   "cell_type": "code",
   "execution_count": 13,
   "id": "c2a21494",
   "metadata": {},
   "outputs": [
    {
     "name": "stdout",
     "output_type": "stream",
     "text": [
      "What is the value of x? -3\n"
     ]
    },
    {
     "ename": "TypeError",
     "evalue": "negative value not allowed.",
     "output_type": "error",
     "traceback": [
      "\u001b[1;31m---------------------------------------------------------------------------\u001b[0m",
      "\u001b[1;31mTypeError\u001b[0m                                 Traceback (most recent call last)",
      "Cell \u001b[1;32mIn[13], line 5\u001b[0m\n\u001b[0;32m      3\u001b[0m     \u001b[38;5;28;01mraise\u001b[39;00m \u001b[38;5;167;01mSyntaxError\u001b[39;00m(\u001b[38;5;124m\"\u001b[39m\u001b[38;5;124mThe value is less than 3\u001b[39m\u001b[38;5;124m\"\u001b[39m)\n\u001b[0;32m      4\u001b[0m \u001b[38;5;28;01mif\u001b[39;00m(j\u001b[38;5;241m<\u001b[39m\u001b[38;5;241m0\u001b[39m):\n\u001b[1;32m----> 5\u001b[0m     \u001b[38;5;28;01mraise\u001b[39;00m \u001b[38;5;167;01mTypeError\u001b[39;00m(\u001b[38;5;124m\"\u001b[39m\u001b[38;5;124mnegative value not allowed.\u001b[39m\u001b[38;5;124m\"\u001b[39m)\n",
      "\u001b[1;31mTypeError\u001b[0m: negative value not allowed."
     ]
    }
   ],
   "source": [
    "j=int(input(\"What is the value of x? \"))\n",
    "if(j<3 and j>=0):\n",
    "    raise SyntaxError(\"The value is less than 3\")\n",
    "if(j<0):\n",
    "    raise TypeError(\"negative value not allowed.\")"
   ]
  },
  {
   "cell_type": "markdown",
   "id": "496e3938",
   "metadata": {},
   "source": [
    "## <a id=\"listcomp\"> List Comprehension </a>\n",
    "A list comprehension is basically a way to use a loop and conditions within square ([]) brackets.  \n",
    "In other words, it is a way to quickly loop through a list and generate a new list that meets certain criteria.\n",
    "A list comprehension follows the following syntax, and it is within a square bracket:\n",
    "\n",
    "<i> <b>[Expression for item in iterable if condition] </i></b>\n",
    "\n",
    "The Expression can be the same variable as item, but it can be something else.\n",
    "\n",
    "An iterable can be a string, a tuple, or any other iterable that you can think of."
   ]
  },
  {
   "cell_type": "code",
   "execution_count": 14,
   "id": "2a1fa08e",
   "metadata": {},
   "outputs": [
    {
     "name": "stdout",
     "output_type": "stream",
     "text": [
      "[0, 1, 2, 3, 4, 5, 6, 7, 8, 9]\n"
     ]
    }
   ],
   "source": [
    "j=[i for i in range(10)]\n",
    "print(j)"
   ]
  },
  {
   "cell_type": "markdown",
   "id": "fb76dcac",
   "metadata": {},
   "source": [
    "Obviously, there is a different way to generate a list without relying on list comprehension."
   ]
  },
  {
   "cell_type": "code",
   "execution_count": 15,
   "id": "681b9f48",
   "metadata": {},
   "outputs": [
    {
     "data": {
      "text/plain": [
       "[0, 1, 2, 3, 4, 5, 6, 7, 8, 9]"
      ]
     },
     "execution_count": 15,
     "metadata": {},
     "output_type": "execute_result"
    }
   ],
   "source": [
    "list(range(10))"
   ]
  },
  {
   "cell_type": "markdown",
   "id": "14d8a344",
   "metadata": {},
   "source": [
    "Which is a bit more compact than the list comprehension above. Let's first look at how to generate  even number from 1 to 10 using a traditional for loop."
   ]
  },
  {
   "cell_type": "code",
   "execution_count": 16,
   "id": "f0f090bf",
   "metadata": {},
   "outputs": [
    {
     "name": "stdout",
     "output_type": "stream",
     "text": [
      "2\n",
      "4\n",
      "6\n",
      "8\n",
      "10\n"
     ]
    }
   ],
   "source": [
    "for i in range(1,11):\n",
    "    if i%2==0:\n",
    "        print(i)"
   ]
  },
  {
   "cell_type": "markdown",
   "id": "77eb794c",
   "metadata": {},
   "source": [
    "Here is a more compact way by using list comprehension."
   ]
  },
  {
   "cell_type": "code",
   "execution_count": 17,
   "id": "2ddb01f3",
   "metadata": {},
   "outputs": [
    {
     "data": {
      "text/plain": [
       "[2, 4, 6, 8, 10]"
      ]
     },
     "execution_count": 17,
     "metadata": {},
     "output_type": "execute_result"
    }
   ],
   "source": [
    "[j for j in range(1,11) if j%2==0]"
   ]
  },
  {
   "cell_type": "markdown",
   "id": "7af3ddb6",
   "metadata": {},
   "source": [
    "How about prime number."
   ]
  },
  {
   "cell_type": "code",
   "execution_count": 18,
   "id": "75c3f267",
   "metadata": {},
   "outputs": [
    {
     "data": {
      "text/plain": [
       "[1, 2, 3, 5, 7, 11, 13, 17, 19]"
      ]
     },
     "execution_count": 18,
     "metadata": {},
     "output_type": "execute_result"
    }
   ],
   "source": [
    "[j for j in range(1,20) if 0 not in [j%k for k in range(2,j)]]"
   ]
  },
  {
   "cell_type": "markdown",
   "id": "7acccd49",
   "metadata": {},
   "source": [
    "It is also easy to make a script that print non-prime numbers as follows."
   ]
  },
  {
   "cell_type": "code",
   "execution_count": 19,
   "id": "13f65928",
   "metadata": {},
   "outputs": [
    {
     "data": {
      "text/plain": [
       "[4, 6, 8, 9, 10, 12, 14, 15, 16, 18]"
      ]
     },
     "execution_count": 19,
     "metadata": {},
     "output_type": "execute_result"
    }
   ],
   "source": [
    "[j for j in range(20) if 0 in [j%k for k in range(2,j)]]"
   ]
  },
  {
   "cell_type": "markdown",
   "id": "e57b6679",
   "metadata": {},
   "source": [
    "Here, the second nested loop comprehension tests to see if each value of j is divisible by a number >1."
   ]
  },
  {
   "cell_type": "markdown",
   "id": "1f34f57f",
   "metadata": {},
   "source": [
    "What if want to convert each value in a list to a string.  The following will not work."
   ]
  },
  {
   "cell_type": "code",
   "execution_count": 20,
   "id": "52e410ec",
   "metadata": {},
   "outputs": [
    {
     "data": {
      "text/plain": [
       "'[1, 2, 3, 4, 5]'"
      ]
     },
     "execution_count": 20,
     "metadata": {},
     "output_type": "execute_result"
    }
   ],
   "source": [
    "a=[1,2,3,4,5]\n",
    "b=str(a)\n",
    "b"
   ]
  },
  {
   "cell_type": "markdown",
   "id": "d9f372f0",
   "metadata": {},
   "source": [
    "This can be done in a single line using list comprehension"
   ]
  },
  {
   "cell_type": "code",
   "execution_count": 21,
   "id": "819f6840",
   "metadata": {},
   "outputs": [
    {
     "data": {
      "text/plain": [
       "['1', '2', '3', '4', '5']"
      ]
     },
     "execution_count": 21,
     "metadata": {},
     "output_type": "execute_result"
    }
   ],
   "source": [
    "[str(j) for j in a]"
   ]
  },
  {
   "cell_type": "markdown",
   "id": "2593cee7",
   "metadata": {},
   "source": [
    "Some other examples.  Repeat a number or character multiple times"
   ]
  },
  {
   "cell_type": "code",
   "execution_count": 22,
   "id": "daf70e63",
   "metadata": {},
   "outputs": [
    {
     "name": "stdout",
     "output_type": "stream",
     "text": [
      "[1, 1, 1, 1, 1, 1, 1, 1, 1, 1]\n",
      "['orange', 'orange', 'orange', 'orange', 'orange']\n"
     ]
    }
   ],
   "source": [
    "print([1 for i in range(10)])\n",
    "print(['orange' for i in range(5)])"
   ]
  },
  {
   "cell_type": "markdown",
   "id": "d586c395",
   "metadata": {},
   "source": [
    "## <a id=\"Dictionarycomp\">Dictionary Comprehension </a>"
   ]
  },
  {
   "cell_type": "markdown",
   "id": "e1a980f8",
   "metadata": {},
   "source": [
    "Dictionary Comprehensions are similar to List Comprehensions, except that it creates a dictionary rather than a list.\n",
    "\n",
    "The syntax is:\n",
    "\n",
    "<b></i>{key:value for (key,value) in iterable} </b></i>\n",
    "\n",
    "A basic example of this:"
   ]
  },
  {
   "cell_type": "code",
   "execution_count": 23,
   "id": "df830c7e",
   "metadata": {},
   "outputs": [
    {
     "data": {
      "text/plain": [
       "{1: 2, 3: 4, 5: 6}"
      ]
     },
     "execution_count": 23,
     "metadata": {},
     "output_type": "execute_result"
    }
   ],
   "source": [
    "{key:value for (key,value) in ((1,2),(3,4),(5,6))}"
   ]
  },
  {
   "cell_type": "markdown",
   "id": "74b844fc",
   "metadata": {},
   "source": [
    "We can combine this we zip as follows:"
   ]
  },
  {
   "cell_type": "code",
   "execution_count": 24,
   "id": "b90d7560",
   "metadata": {},
   "outputs": [
    {
     "name": "stdout",
     "output_type": "stream",
     "text": [
      "{'fruit': ['apple', 'banana', 'mango'], 'vegetable': ['spinach', 'broccoli', 'asparagus']}\n",
      "['apple', 'banana', 'mango']\n"
     ]
    }
   ],
   "source": [
    "keys=['fruit','vegetable']\n",
    "values=[['apple','banana','mango'],['spinach','broccoli','asparagus']]\n",
    "new_dict={keys:values for (keys,values)in zip(keys,values)}\n",
    "print(new_dict)\n",
    "print(new_dict['fruit'])"
   ]
  },
  {
   "cell_type": "code",
   "execution_count": 25,
   "id": "72eedfba",
   "metadata": {},
   "outputs": [
    {
     "data": {
      "text/plain": [
       "{'fruit': 'apple', 'vegetable': 'spinach'}"
      ]
     },
     "execution_count": 25,
     "metadata": {},
     "output_type": "execute_result"
    }
   ],
   "source": [
    "{key:value[0] for (key,value) in new_dict.items() if value[0]==\"spinach\" or value[0]==\"apple\"}"
   ]
  },
  {
   "cell_type": "markdown",
   "id": "abc8f86b",
   "metadata": {},
   "source": [
    "The above line creates a new dictionary that maps fruit or vegetable to spinach or apple, and no longer has lists as values"
   ]
  },
  {
   "cell_type": "markdown",
   "id": "2c00dc18",
   "metadata": {},
   "source": [
    "## <a id=\"LambdaFunc\"> Lambda Functions</a>"
   ]
  },
  {
   "cell_type": "markdown",
   "id": "2d28e08e",
   "metadata": {},
   "source": [
    "Lambda functions are anonymous functions.  They do not have a name associated with them.  They can be used for sorting, where we want to specify key to sort by.  Here is an example, where I sort a dictionary."
   ]
  },
  {
   "cell_type": "code",
   "execution_count": 20,
   "id": "3bd88342",
   "metadata": {},
   "outputs": [],
   "source": [
    "example_dict={\"a\":1,\n",
    "             \"b\":20,\n",
    "             \"c\":9,\n",
    "             \"d\":2,\n",
    "             \"e\":11}"
   ]
  },
  {
   "cell_type": "code",
   "execution_count": 21,
   "id": "2a0f7475",
   "metadata": {},
   "outputs": [
    {
     "data": {
      "text/plain": [
       "['a', 'b', 'c', 'd', 'e']"
      ]
     },
     "execution_count": 21,
     "metadata": {},
     "output_type": "execute_result"
    }
   ],
   "source": [
    "sorted(example_dict)"
   ]
  },
  {
   "cell_type": "code",
   "execution_count": 8,
   "id": "906b12c2",
   "metadata": {},
   "outputs": [
    {
     "data": {
      "text/plain": [
       "[('a', 1), ('b', 20), ('c', 9), ('d', 2), ('e', 11)]"
      ]
     },
     "execution_count": 8,
     "metadata": {},
     "output_type": "execute_result"
    }
   ],
   "source": [
    "sorted(example_dict.items())"
   ]
  },
  {
   "cell_type": "code",
   "execution_count": 17,
   "id": "cc1b03a2",
   "metadata": {},
   "outputs": [
    {
     "data": {
      "text/plain": [
       "{'a': 1, 'd': 2, 'c': 9, 'e': 11, 'b': 20}"
      ]
     },
     "execution_count": 17,
     "metadata": {},
     "output_type": "execute_result"
    }
   ],
   "source": [
    "dict(sorted(example_dict.items(),key=lambda x:x[1]))"
   ]
  },
  {
   "cell_type": "markdown",
   "id": "29d0c253",
   "metadata": {},
   "source": [
    "Here, we used an anonymous lambda function to extract the second value of example_dict.items()"
   ]
  },
  {
   "cell_type": "markdown",
   "id": "a7e96333",
   "metadata": {},
   "source": [
    "It can also be used with the filter and map function.  First, the filter function.  The filter function requires the first argument to be a function."
   ]
  },
  {
   "cell_type": "code",
   "execution_count": 22,
   "id": "ccbde280",
   "metadata": {},
   "outputs": [],
   "source": [
    "a=[1,10,20,40,15]"
   ]
  },
  {
   "cell_type": "code",
   "execution_count": 26,
   "id": "6e2513c0",
   "metadata": {},
   "outputs": [
    {
     "data": {
      "text/plain": [
       "[20, 40, 15]"
      ]
     },
     "execution_count": 26,
     "metadata": {},
     "output_type": "execute_result"
    }
   ],
   "source": [
    "list(filter(lambda x:x>10,a))"
   ]
  },
  {
   "cell_type": "markdown",
   "id": "318d9530",
   "metadata": {},
   "source": [
    "Obviously, the command above can be done using a list comprehension as well (as was shown before).\n",
    "We can also use lambda functions with map() as follows.  Using map, we map each value in a list to a function."
   ]
  },
  {
   "cell_type": "code",
   "execution_count": 29,
   "id": "6b59727d",
   "metadata": {},
   "outputs": [
    {
     "data": {
      "text/plain": [
       "[1, 1000, 8000, 64000, 3375]"
      ]
     },
     "execution_count": 29,
     "metadata": {},
     "output_type": "execute_result"
    }
   ],
   "source": [
    "list(map(lambda a:a**3,a))"
   ]
  },
  {
   "cell_type": "markdown",
   "id": "dbbe79d2",
   "metadata": {},
   "source": [
    "In most cases, a list comprehension can do what a filter or map can do, and therefore I feel that these functions don't seem all that useful."
   ]
  },
  {
   "cell_type": "markdown",
   "id": "8b3196b9",
   "metadata": {},
   "source": [
    "## <a id=\"Import\"> Working with Modules </a>\n",
    "\n",
    "The import command is used to import different modules, just as we used the library() function in R to import different library.  For example, say that we want to find a square root of a number.  We can import the math module."
   ]
  },
  {
   "cell_type": "code",
   "execution_count": 70,
   "id": "180d0311",
   "metadata": {},
   "outputs": [],
   "source": [
    "import math\n",
    "import numpy as np\n",
    "from math import sqrt"
   ]
  },
  {
   "cell_type": "markdown",
   "id": "669e78ae-146d-44b2-acea-4adf907de3eb",
   "metadata": {},
   "source": [
    "In the above examples, to import a module you are interested in, you just specify the name of the module after the import keyword.  If you want to specify a specific function as as sqrt, you can use the \"from <module> import <function>\" command."
   ]
  },
  {
   "cell_type": "markdown",
   "id": "582dfb5a-96ea-4df4-9564-39da3350b93b",
   "metadata": {},
   "source": [
    "## <a id=\"math\">The math module </a>"
   ]
  },
  {
   "cell_type": "markdown",
   "id": "1156af0e-4c46-465f-b72d-f41a7ce8072e",
   "metadata": {},
   "source": [
    "I am not going to cover math in big detail, but it can be used for performing operations such as calculating the square root of a number, extracting the value of pi, the power function, etc. It can also deal with trigonometry (cos, sign, etc>.  I use the dir command to print the different functions available in the math module."
   ]
  },
  {
   "cell_type": "code",
   "execution_count": 72,
   "id": "06a4b52c",
   "metadata": {},
   "outputs": [
    {
     "name": "stdout",
     "output_type": "stream",
     "text": [
      "2.0\n",
      "3.141592653589793\n",
      "100.0\n"
     ]
    },
    {
     "data": {
      "text/plain": [
       "['__doc__',\n",
       " '__loader__',\n",
       " '__name__',\n",
       " '__package__',\n",
       " '__spec__',\n",
       " 'acos',\n",
       " 'acosh',\n",
       " 'asin',\n",
       " 'asinh',\n",
       " 'atan',\n",
       " 'atan2',\n",
       " 'atanh',\n",
       " 'ceil',\n",
       " 'comb',\n",
       " 'copysign',\n",
       " 'cos',\n",
       " 'cosh',\n",
       " 'degrees',\n",
       " 'dist',\n",
       " 'e',\n",
       " 'erf',\n",
       " 'erfc',\n",
       " 'exp',\n",
       " 'expm1',\n",
       " 'fabs',\n",
       " 'factorial',\n",
       " 'floor',\n",
       " 'fmod',\n",
       " 'frexp',\n",
       " 'fsum',\n",
       " 'gamma',\n",
       " 'gcd',\n",
       " 'hypot',\n",
       " 'inf',\n",
       " 'isclose',\n",
       " 'isfinite',\n",
       " 'isinf',\n",
       " 'isnan',\n",
       " 'isqrt',\n",
       " 'lcm',\n",
       " 'ldexp',\n",
       " 'lgamma',\n",
       " 'log',\n",
       " 'log10',\n",
       " 'log1p',\n",
       " 'log2',\n",
       " 'modf',\n",
       " 'nan',\n",
       " 'nextafter',\n",
       " 'perm',\n",
       " 'pi',\n",
       " 'pow',\n",
       " 'prod',\n",
       " 'radians',\n",
       " 'remainder',\n",
       " 'sin',\n",
       " 'sinh',\n",
       " 'sqrt',\n",
       " 'tan',\n",
       " 'tanh',\n",
       " 'tau',\n",
       " 'trunc',\n",
       " 'ulp']"
      ]
     },
     "execution_count": 72,
     "metadata": {},
     "output_type": "execute_result"
    }
   ],
   "source": [
    "import math\n",
    "print(math.sqrt(4))\n",
    "print(math.pi)\n",
    "print(math.pow(10,2))\n",
    "dir(math)"
   ]
  },
  {
   "cell_type": "code",
   "execution_count": 73,
   "id": "43f562ed",
   "metadata": {},
   "outputs": [
    {
     "data": {
      "text/plain": [
       "4.47213595499958"
      ]
     },
     "execution_count": 73,
     "metadata": {},
     "output_type": "execute_result"
    }
   ],
   "source": [
    "sqrt(20)"
   ]
  },
  {
   "cell_type": "markdown",
   "id": "b4e400d9",
   "metadata": {},
   "source": [
    "Because we imported the sqrt function from math, we no long have to use \"math.sqrt) to call the function."
   ]
  },
  {
   "cell_type": "code",
   "execution_count": 74,
   "id": "b2da7c4e",
   "metadata": {},
   "outputs": [
    {
     "name": "stdout",
     "output_type": "stream",
     "text": [
      "10.000000000000002\n"
     ]
    }
   ],
   "source": [
    "print(math.e**math.log(10))"
   ]
  },
  {
   "cell_type": "markdown",
   "id": "9b9fa0b5-3466-4679-8e7f-8b7d3a3b0acc",
   "metadata": {},
   "source": [
    "Let's also try the ceil funtion."
   ]
  },
  {
   "cell_type": "code",
   "execution_count": 77,
   "id": "b42f354c-f761-4551-89e5-36aea1b25a1c",
   "metadata": {},
   "outputs": [
    {
     "data": {
      "text/plain": [
       "4"
      ]
     },
     "execution_count": 77,
     "metadata": {},
     "output_type": "execute_result"
    }
   ],
   "source": [
    "math.ceil(3.5)"
   ]
  },
  {
   "cell_type": "code",
   "execution_count": 78,
   "id": "71d24584-9ee5-4b68-aeec-13db7f74e783",
   "metadata": {},
   "outputs": [
    {
     "data": {
      "text/plain": [
       "4"
      ]
     },
     "execution_count": 78,
     "metadata": {},
     "output_type": "execute_result"
    }
   ],
   "source": [
    "math.ceil(3.1)"
   ]
  },
  {
   "cell_type": "code",
   "execution_count": 79,
   "id": "2fc6f998-79dd-48ee-87c1-59c1b858f05d",
   "metadata": {},
   "outputs": [
    {
     "data": {
      "text/plain": [
       "3"
      ]
     },
     "execution_count": 79,
     "metadata": {},
     "output_type": "execute_result"
    }
   ],
   "source": [
    "math.floor(3.1)"
   ]
  },
  {
   "cell_type": "markdown",
   "id": "3858651a-ff82-42a7-a2b8-37624c3331e7",
   "metadata": {},
   "source": [
    "The ceil function prints the ceiling, while the floor function prints the floor. The ceiling of 3.1 is 4, while the floor is 3."
   ]
  },
  {
   "cell_type": "markdown",
   "id": "d33c63d6",
   "metadata": {},
   "source": [
    "Let me know highlight the Collections package.  Here, one function that is useful is Counter().\n",
    "\n",
    "<b> Scientific Python and Data analysis related packages such as Numpy/Pandas will be covered in a different session. </b>"
   ]
  },
  {
   "cell_type": "markdown",
   "id": "4a2ce15b-525c-4b1f-bcda-987aa6860dc5",
   "metadata": {},
   "source": [
    "## <a id=\"collections\"> The Collections Module </a>"
   ]
  },
  {
   "cell_type": "code",
   "execution_count": 32,
   "id": "1f3207db",
   "metadata": {},
   "outputs": [],
   "source": [
    "import collections"
   ]
  },
  {
   "cell_type": "code",
   "execution_count": 33,
   "id": "764de3f5",
   "metadata": {},
   "outputs": [
    {
     "name": "stdout",
     "output_type": "stream",
     "text": [
      "Counter({'A': 5, 'G': 4, 'T': 3})\n",
      "Counter({'A': 2, 'T': 2})\n",
      "Counter({'apple': 2, 'dog': 2})\n",
      "Counter({'banana': 11, 'apple': 10})\n"
     ]
    }
   ],
   "source": [
    "print(collections.Counter(\"AAAAATTTGGGG\"))\n",
    "print(collections.Counter(['A','A','T','T']))\n",
    "print(collections.Counter([\"apple\",\"dog\",\"dog\",\"apple\"]))\n",
    "print(collections.Counter({\"apple\":10,\"banana\":11}))"
   ]
  },
  {
   "cell_type": "markdown",
   "id": "1213cae1",
   "metadata": {},
   "source": [
    "You can also find the most common items in a collection using the mostcommon method.  Here you can see that I printed the 2 most common items in the collection."
   ]
  },
  {
   "cell_type": "code",
   "execution_count": 34,
   "id": "9a19fdf2",
   "metadata": {},
   "outputs": [
    {
     "data": {
      "text/plain": [
       "[('G', 24), ('A', 11)]"
      ]
     },
     "execution_count": 34,
     "metadata": {},
     "output_type": "execute_result"
    }
   ],
   "source": [
    "collections.Counter(\"AAAAAAAATTTTTTTTGGGGGGGGGGGGGGGGGGGGGGGGCCCCCTTTAAA\").most_common(2)"
   ]
  },
  {
   "cell_type": "markdown",
   "id": "e6c48031",
   "metadata": {},
   "source": [
    "The deque() function can be used for storing a fixed number of items. "
   ]
  },
  {
   "cell_type": "code",
   "execution_count": 35,
   "id": "82dd71f3",
   "metadata": {},
   "outputs": [],
   "source": [
    "from collections import deque"
   ]
  },
  {
   "cell_type": "code",
   "execution_count": 36,
   "id": "c3ee8fd6",
   "metadata": {},
   "outputs": [],
   "source": [
    "j=deque([1,2,3,4,5],maxlen=10)"
   ]
  },
  {
   "cell_type": "code",
   "execution_count": 37,
   "id": "7e672a82",
   "metadata": {},
   "outputs": [],
   "source": [
    "j.append(7)\n",
    "j.append(8)\n",
    "j.append(9)\n",
    "j.append(10)\n",
    "j.append(11)\n",
    "j.append(12)"
   ]
  },
  {
   "cell_type": "code",
   "execution_count": 38,
   "id": "5779aa3a",
   "metadata": {},
   "outputs": [
    {
     "data": {
      "text/plain": [
       "deque([2, 3, 4, 5, 7, 8, 9, 10, 11, 12], maxlen=10)"
      ]
     },
     "execution_count": 38,
     "metadata": {},
     "output_type": "execute_result"
    }
   ],
   "source": [
    "j"
   ]
  },
  {
   "cell_type": "markdown",
   "id": "63bc56d5",
   "metadata": {},
   "source": [
    "Notice that the first value in the collection got removed. This can be done using list as well, but you need to code a bit.  The deque method is a more elegant solution. You can pop from either the left or the right."
   ]
  },
  {
   "cell_type": "code",
   "execution_count": 39,
   "id": "6cbde45a",
   "metadata": {},
   "outputs": [
    {
     "name": "stdout",
     "output_type": "stream",
     "text": [
      "12\n",
      "2\n",
      "deque([3, 4, 5, 7, 8, 9, 10, 11], maxlen=10)\n"
     ]
    }
   ],
   "source": [
    "print(j.pop())\n",
    "print(j.popleft())\n",
    "print(j)"
   ]
  },
  {
   "cell_type": "markdown",
   "id": "d6c12ad5",
   "metadata": {},
   "source": [
    "If you want your tuple to be named, you can use the namedtuple function. The syntax is as follows, first you need to assign a \"type\" to your tuple.  In the example below, the \"type\" is food.  Next, within a square bracket, you add names for your tuple.  To assign values, you need to use the \"types_of_food\" variable as if it is a function.  Within it, you declare your items.  Next, you can use the \".\" to access specific names."
   ]
  },
  {
   "cell_type": "code",
   "execution_count": 40,
   "id": "9dbbca03",
   "metadata": {},
   "outputs": [
    {
     "name": "stdout",
     "output_type": "stream",
     "text": [
      "Food(fruits='apple', vegetables='spinach', juice='orange juice')\n"
     ]
    }
   ],
   "source": [
    "types_of_food=collections.namedtuple('Food',[\"fruits\",\"vegetables\",\"juice\"])\n",
    "food_tuple=types_of_food(\"apple\",\"spinach\",\"orange juice\")\n",
    "print(food_tuple)"
   ]
  },
  {
   "cell_type": "code",
   "execution_count": 41,
   "id": "94a6ccee",
   "metadata": {},
   "outputs": [
    {
     "name": "stdout",
     "output_type": "stream",
     "text": [
      "apple\n",
      "spinach\n"
     ]
    }
   ],
   "source": [
    "print(food_tuple.fruits)\n",
    "print(food_tuple.vegetables)"
   ]
  },
  {
   "cell_type": "code",
   "execution_count": 45,
   "id": "7f4c2777",
   "metadata": {},
   "outputs": [],
   "source": [
    "from collections import namedtuple\n",
    "mods=namedtuple(\"modification\",[\"nucleotide\",\"modification\"])\n",
    "new_mods=mods([\"A\",\"U\"],['m6A','pseudouridine'])"
   ]
  },
  {
   "cell_type": "code",
   "execution_count": 47,
   "id": "1c351500",
   "metadata": {},
   "outputs": [
    {
     "data": {
      "text/plain": [
       "['A', 'U']"
      ]
     },
     "execution_count": 47,
     "metadata": {},
     "output_type": "execute_result"
    }
   ],
   "source": [
    "new_mods.nucleotide"
   ]
  },
  {
   "cell_type": "code",
   "execution_count": 48,
   "id": "4c94317f",
   "metadata": {},
   "outputs": [
    {
     "data": {
      "text/plain": [
       "['m6A', 'pseudouridine']"
      ]
     },
     "execution_count": 48,
     "metadata": {},
     "output_type": "execute_result"
    }
   ],
   "source": [
    "new_mods.modification"
   ]
  },
  {
   "cell_type": "code",
   "execution_count": 49,
   "id": "28f3a137",
   "metadata": {},
   "outputs": [
    {
     "data": {
      "text/plain": [
       "'U'"
      ]
     },
     "execution_count": 49,
     "metadata": {},
     "output_type": "execute_result"
    }
   ],
   "source": [
    "new_mods.nucleotide[1]"
   ]
  },
  {
   "cell_type": "markdown",
   "id": "78d2b4fb",
   "metadata": {},
   "source": [
    "The example above shows that lists could be nested with namedtuples as well.  \n",
    "Below is a different type of container called ChainMap.  It allows us to combine multiple dictionaries."
   ]
  },
  {
   "cell_type": "code",
   "execution_count": 50,
   "id": "faa9c5d9",
   "metadata": {},
   "outputs": [],
   "source": [
    "nucleotide={\"A\":'Adenosine',\n",
    "           'T':\"Thymine\",\n",
    "           \"C\":\"Cytosine\",\n",
    "           \"G\":\"Guanine\"}\n",
    "modification={\"Adenosine\":\"m6A\",\"Cytosine\":'m5C'}\n",
    "combined=collections.ChainMap(nucleotide,modification)"
   ]
  },
  {
   "cell_type": "code",
   "execution_count": 51,
   "id": "057a2ccc",
   "metadata": {},
   "outputs": [
    {
     "name": "stdout",
     "output_type": "stream",
     "text": [
      "m6A\n",
      "Adenosine\n"
     ]
    }
   ],
   "source": [
    "print(combined[\"Adenosine\"])\n",
    "print(combined['A'])"
   ]
  },
  {
   "cell_type": "markdown",
   "id": "134da569",
   "metadata": {},
   "source": [
    "While I called the chainmap dictionary \"combined\", in reality the way chainmap works is by keeping track of different dictionaries in a list."
   ]
  },
  {
   "cell_type": "markdown",
   "id": "f5220143",
   "metadata": {},
   "source": [
    "The collections library also has other functions such as <b>OrderedDict,defaultDict,etc </b>.  I am not going to cover these different functions and leave the reader to look them up if necessary."
   ]
  },
  {
   "cell_type": "markdown",
   "id": "d00f8f31-bd46-416b-ad58-6391129a7d89",
   "metadata": {},
   "source": [
    "## <a id=\"os\"> The OS Module </a>"
   ]
  },
  {
   "cell_type": "markdown",
   "id": "8e8b7b7e",
   "metadata": {},
   "source": [
    "The next module we are going to talk about is the OS module, which can be used to print current working directory, change directory, etc."
   ]
  },
  {
   "cell_type": "code",
   "execution_count": 52,
   "id": "22dd2145",
   "metadata": {},
   "outputs": [],
   "source": [
    "import os"
   ]
  },
  {
   "cell_type": "code",
   "execution_count": 53,
   "id": "68783ba7",
   "metadata": {},
   "outputs": [
    {
     "data": {
      "text/plain": [
       "'C:\\\\Users\\\\banskotan2\\\\Documents\\\\Python Class'"
      ]
     },
     "execution_count": 53,
     "metadata": {},
     "output_type": "execute_result"
    }
   ],
   "source": [
    "os.getcwd()"
   ]
  },
  {
   "cell_type": "code",
   "execution_count": 54,
   "id": "12704a26",
   "metadata": {},
   "outputs": [
    {
     "data": {
      "text/plain": [
       "20"
      ]
     },
     "execution_count": 54,
     "metadata": {},
     "output_type": "execute_result"
    }
   ],
   "source": [
    "os.cpu_count()"
   ]
  },
  {
   "cell_type": "markdown",
   "id": "6e5ef821",
   "metadata": {},
   "source": [
    "There is also os.walk() for finding files in a directory tree, os.mkdir(), os.rmdir(), etc. <br>\n"
   ]
  },
  {
   "cell_type": "markdown",
   "id": "639774f9-8b0d-44ed-8349-69c370f569fe",
   "metadata": {},
   "source": [
    "## <a id=\"random\"> Working with random numbers </a> <br>\n",
    "The <b> random </b> function can be used to generate random numbers.\n",
    "\n",
    "Note also that the numpy package has its own random functions as well!"
   ]
  },
  {
   "cell_type": "code",
   "execution_count": 62,
   "id": "9128c4ff",
   "metadata": {},
   "outputs": [],
   "source": [
    "import random"
   ]
  },
  {
   "cell_type": "markdown",
   "id": "23ad3785",
   "metadata": {},
   "source": [
    "The random.random() function can be used to generate values betweeen 0 to 1."
   ]
  },
  {
   "cell_type": "code",
   "execution_count": 70,
   "id": "e5ca33f7",
   "metadata": {},
   "outputs": [
    {
     "data": {
      "text/plain": [
       "0.16970128136688856"
      ]
     },
     "execution_count": 70,
     "metadata": {},
     "output_type": "execute_result"
    }
   ],
   "source": [
    "random.random()"
   ]
  },
  {
   "cell_type": "code",
   "execution_count": 71,
   "id": "cd8e60d9",
   "metadata": {},
   "outputs": [
    {
     "data": {
      "text/plain": [
       "0.22972894714527736"
      ]
     },
     "execution_count": 71,
     "metadata": {},
     "output_type": "execute_result"
    }
   ],
   "source": [
    "random.random()"
   ]
  },
  {
   "cell_type": "markdown",
   "id": "dda5bc64",
   "metadata": {},
   "source": [
    "The random.randint() function can be used to generate integer between two different values"
   ]
  },
  {
   "cell_type": "code",
   "execution_count": 75,
   "id": "42321af3",
   "metadata": {},
   "outputs": [
    {
     "data": {
      "text/plain": [
       "1"
      ]
     },
     "execution_count": 75,
     "metadata": {},
     "output_type": "execute_result"
    }
   ],
   "source": [
    "random.randint(0,1)"
   ]
  },
  {
   "cell_type": "code",
   "execution_count": 76,
   "id": "04d37b89",
   "metadata": {},
   "outputs": [
    {
     "data": {
      "text/plain": [
       "22"
      ]
     },
     "execution_count": 76,
     "metadata": {},
     "output_type": "execute_result"
    }
   ],
   "source": [
    "random.randint(0,100)"
   ]
  },
  {
   "cell_type": "markdown",
   "id": "5f84a300",
   "metadata": {},
   "source": [
    "For reproducibility, set the seed so that the same value gets produced.  This can be important for algorithms that require random numbers--for example the k-means algorithm"
   ]
  },
  {
   "cell_type": "code",
   "execution_count": 82,
   "id": "d8bc4a23",
   "metadata": {},
   "outputs": [
    {
     "data": {
      "text/plain": [
       "9"
      ]
     },
     "execution_count": 82,
     "metadata": {},
     "output_type": "execute_result"
    }
   ],
   "source": [
    "random.seed(5)\n",
    "random.randint(5,10)"
   ]
  },
  {
   "cell_type": "code",
   "execution_count": 83,
   "id": "26685915",
   "metadata": {},
   "outputs": [
    {
     "data": {
      "text/plain": [
       "7"
      ]
     },
     "execution_count": 83,
     "metadata": {},
     "output_type": "execute_result"
    }
   ],
   "source": [
    "random.randint(5,10)"
   ]
  },
  {
   "cell_type": "code",
   "execution_count": 86,
   "id": "06647841",
   "metadata": {},
   "outputs": [
    {
     "data": {
      "text/plain": [
       "9"
      ]
     },
     "execution_count": 86,
     "metadata": {},
     "output_type": "execute_result"
    }
   ],
   "source": [
    "random.seed(5)\n",
    "random.randint(5,10)"
   ]
  },
  {
   "cell_type": "markdown",
   "id": "c12ab0ef",
   "metadata": {},
   "source": [
    "Some other random number functions:"
   ]
  },
  {
   "cell_type": "code",
   "execution_count": 87,
   "id": "cccfb0b4",
   "metadata": {},
   "outputs": [
    {
     "data": {
      "text/plain": [
       "3"
      ]
     },
     "execution_count": 87,
     "metadata": {},
     "output_type": "execute_result"
    }
   ],
   "source": [
    "random.choice([1,2,3,4,5])"
   ]
  },
  {
   "cell_type": "code",
   "execution_count": 89,
   "id": "f4c13f7b",
   "metadata": {},
   "outputs": [
    {
     "data": {
      "text/plain": [
       "'G'"
      ]
     },
     "execution_count": 89,
     "metadata": {},
     "output_type": "execute_result"
    }
   ],
   "source": [
    "random.choice([\"A\",\"T\",\"G\",\"C\"])"
   ]
  },
  {
   "cell_type": "code",
   "execution_count": 90,
   "id": "696d3cdd",
   "metadata": {},
   "outputs": [
    {
     "data": {
      "text/plain": [
       "'A'"
      ]
     },
     "execution_count": 90,
     "metadata": {},
     "output_type": "execute_result"
    }
   ],
   "source": [
    "random.choice(\"ATGC\")"
   ]
  },
  {
   "cell_type": "code",
   "execution_count": 95,
   "id": "31a8c2d9",
   "metadata": {},
   "outputs": [
    {
     "name": "stdout",
     "output_type": "stream",
     "text": [
      "[4, 3, 2, 1]\n"
     ]
    }
   ],
   "source": [
    "random.seed(10)\n",
    "numbers=[1,2,3,4]\n",
    "random.shuffle(numbers)\n",
    "print(numbers)"
   ]
  },
  {
   "cell_type": "markdown",
   "id": "bfd151e7",
   "metadata": {},
   "source": [
    "## <a id=\"time\"> Working with Time </a> <br>\n",
    "The time module can be used to print time."
   ]
  },
  {
   "cell_type": "code",
   "execution_count": 96,
   "id": "157a0d91",
   "metadata": {},
   "outputs": [],
   "source": [
    "import time"
   ]
  },
  {
   "cell_type": "code",
   "execution_count": 101,
   "id": "b64d269c",
   "metadata": {},
   "outputs": [
    {
     "name": "stdout",
     "output_type": "stream",
     "text": [
      "1697490591.3094707\n"
     ]
    }
   ],
   "source": [
    "print(time.time())"
   ]
  },
  {
   "cell_type": "markdown",
   "id": "46909c96",
   "metadata": {},
   "source": [
    "The time function can be used to check how long it takes to run a program."
   ]
  },
  {
   "cell_type": "code",
   "execution_count": 106,
   "id": "91981de9",
   "metadata": {},
   "outputs": [
    {
     "name": "stdout",
     "output_type": "stream",
     "text": [
      "time elapsed:3.1873350143432617\n"
     ]
    }
   ],
   "source": [
    "start=time.time()\n",
    "for i in range(100000000):\n",
    "    pass\n",
    "end=time.time()\n",
    "print(f\"time elapsed:{end-start}\")"
   ]
  },
  {
   "cell_type": "code",
   "execution_count": 107,
   "id": "af7b02a9",
   "metadata": {},
   "outputs": [
    {
     "name": "stdout",
     "output_type": "stream",
     "text": [
      "time elapsed:16.473917961120605\n"
     ]
    }
   ],
   "source": [
    "start=time.time()\n",
    "for i in range(500000000):\n",
    "    pass\n",
    "end=time.time()\n",
    "print(f\"time elapsed:{end-start}\")"
   ]
  },
  {
   "cell_type": "markdown",
   "id": "31cd1819",
   "metadata": {},
   "source": [
    "Jupyter Notebook also comes with the timeit magic command that can be run as follows:"
   ]
  },
  {
   "cell_type": "code",
   "execution_count": 113,
   "id": "cc4de3bd",
   "metadata": {},
   "outputs": [
    {
     "name": "stdout",
     "output_type": "stream",
     "text": [
      "1.65 ms ± 62.8 µs per loop (mean ± std. dev. of 7 runs, 1,000 loops each)\n"
     ]
    }
   ],
   "source": [
    "%%timeit\n",
    "for i in range(100000):\n",
    "    pass\n"
   ]
  },
  {
   "cell_type": "markdown",
   "id": "ab1f74bb-e345-4f11-ac73-705da4423611",
   "metadata": {},
   "source": [
    "## <a id=\"re\"> Regular Expressions</a>\n",
    "\n",
    "The re module is used for dealing with regular expressions. The name of the package is \"re\".  Let's load it first.\n",
    "First of all, what is a regular expression?  These are expressions that match a particular pattern that you are interested in.  Many different programming languages allow usage of regular expressions: Perl, R, as well as Python.  A few regular expressions to know. <br>\n"
   ]
  },
  {
   "cell_type": "markdown",
   "id": "12731ef6-68e5-4305-ac95-80c2f27b80fd",
   "metadata": {},
   "source": [
    "\n",
    "<font size=\"+5\"><b>*</b></font>: matches zero or more repititions of a character. Greedy.\n",
    "\n",
    "<font size=\"+5\"><b>*?</b></font>: matches zero or more repititions but is not greedy\n",
    "\n",
    "<font size=\"+5\"><b>+</b></font> :matches one or more repitition of a character\n",
    "\n",
    "<font size=\"+5\"><b>+?</b></font>: One or more repititions and is not greedy.\n",
    "\n",
    "<font size=\"+5\"><b>.</b></font>: Dot matches one character except newline.\n",
    "\n",
    "<font size=\"+5\"><b>^</b>:  Starting string</font>\n",
    "\n",
    "<font size=\"+5\"><b>$</b>: ending string</font>\n",
    "\n",
    "<font size=\"+5\"><b>{m} </b> </font> :Matches m repititions of the previous regular expression\n",
    "\n",
    "<font size=\"+5\"><b>{m,n}</b> </font>: Matches m to n repititions. Greedy.\n",
    "\n",
    "<font size=\"+5\"><b>{m,n}?</b></font>:  Matches m to n repititions, but is not greedy.\n",
    "\n",
    "<font size=\"+5\"><b>\\</b></font>: Escape spectial characters. For example, you want to match a \".\", which is a special character. \n",
    " \n",
    "<font size=\"+5\"><b>[]<b></font>: Matches characters in the square bracket.\n",
    "\n",
    "<font size=\"+5\"><b>|</b></font>:  For example A|B matches either A or B \n",
    "\n",
    "<font size=\"+5\"><b>(...)</b></font>:  Where \"...\" is a regular expression. For group capture.\n",
    "\n",
    "<font size=\"+5\"><b>\\n</b></font>:  For example \\1.  This matches group 1.\n",
    "\n",
    "<font size=\"+5\"><b>\\b</b></font>:  Matches empty string at the beginning or end of a group\n",
    "\n",
    "<font size=\"+5\"><b>\\B</b></font>:  Matches empty strong NOT at the beginning or end.\n",
    "\n",
    "<font size=\"+5\"><b>\\d</b></font>:  Matches a number\n",
    "\n",
    "<font size=\"+5\"><b>\\D</b></font>:  Matches something that is not a number\n",
    "\n",
    "<font size=\"+5\"><b>\\s</b></font>:  Matches whitespace\n",
    "\n",
    "<font size=\"+5\"><b>\\S</b></font>:  Matches something that is not whitespace\n",
    "\n",
    "<font size=\"+5\"><b>\\w</b></font>: Matches a word\n",
    "\n",
    "<font size=\"+5\"><b>\\W</b></font>: Matches something that is not a word\n"
   ]
  },
  {
   "cell_type": "markdown",
   "id": "d348fa62-b643-42fd-871e-d9599ba37a1b",
   "metadata": {},
   "source": [
    "<b> And there are many other operators out there</b>"
   ]
  },
  {
   "cell_type": "code",
   "execution_count": 2,
   "id": "46fe58db-1c92-4f4e-b254-8d344d79a88d",
   "metadata": {},
   "outputs": [],
   "source": [
    "import re"
   ]
  },
  {
   "cell_type": "markdown",
   "id": "70fd54c7-faca-4582-8bbb-453c2f7bea21",
   "metadata": {},
   "source": []
  },
  {
   "cell_type": "code",
   "execution_count": 3,
   "id": "d5df02c5-44e1-4d0c-b243-4a316d051cd4",
   "metadata": {},
   "outputs": [],
   "source": [
    "txt=\"I want to know. Have you ever seen the rain?\""
   ]
  },
  {
   "cell_type": "markdown",
   "id": "487f3ae5-eebf-4206-a527-1aa1de98f0bc",
   "metadata": {},
   "source": [
    "The re.search() function can be used to find a match.  if it matches, then it return an object."
   ]
  },
  {
   "cell_type": "code",
   "execution_count": 8,
   "id": "6aee16e8-3de3-4675-b9fc-7959c79f9b08",
   "metadata": {},
   "outputs": [],
   "source": [
    "re.search(\"edljdkd\",txt)"
   ]
  },
  {
   "cell_type": "code",
   "execution_count": 14,
   "id": "f7172415-bcaa-4612-a1b0-12f8a9c69640",
   "metadata": {},
   "outputs": [
    {
     "data": {
      "text/plain": [
       "<re.Match object; span=(0, 15), match='I want to know.'>"
      ]
     },
     "execution_count": 14,
     "metadata": {},
     "output_type": "execute_result"
    }
   ],
   "source": [
    "re.search(\".*know\\\\.\",txt)"
   ]
  },
  {
   "cell_type": "code",
   "execution_count": 18,
   "id": "d07becee-b508-422c-b3cb-2628a3ed65bc",
   "metadata": {},
   "outputs": [
    {
     "name": "stdout",
     "output_type": "stream",
     "text": [
      "yes\n"
     ]
    }
   ],
   "source": [
    "if re.search(\"know\",txt): print(\"yes\")"
   ]
  },
  {
   "cell_type": "code",
   "execution_count": 20,
   "id": "a59783a0-b3c1-41fe-9513-5f3288908fc8",
   "metadata": {},
   "outputs": [],
   "source": [
    "if re.search(\"gibberish\",txt):print(\"Yes\")"
   ]
  },
  {
   "cell_type": "code",
   "execution_count": 21,
   "id": "b6505a14-58c1-461f-88bc-c1234dd019d7",
   "metadata": {},
   "outputs": [
    {
     "name": "stdout",
     "output_type": "stream",
     "text": [
      "No\n"
     ]
    }
   ],
   "source": [
    "if not re.search(\"gibberish\",txt):print(\"No\")"
   ]
  },
  {
   "cell_type": "code",
   "execution_count": 22,
   "id": "0c67d96e-991f-4f1f-97a4-412f75e6e88b",
   "metadata": {},
   "outputs": [],
   "source": []
  },
  {
   "cell_type": "code",
   "execution_count": 24,
   "id": "93980b1f-f5c1-472f-b2fc-cac902faf7e3",
   "metadata": {},
   "outputs": [
    {
     "data": {
      "text/plain": [
       "<re.Match object; span=(3, 5), match='AT'>"
      ]
     },
     "execution_count": 24,
     "metadata": {},
     "output_type": "execute_result"
    }
   ],
   "source": [
    "re.search(\"ATG*\",txt)"
   ]
  },
  {
   "cell_type": "markdown",
   "id": "1f14824b-13da-48bb-a53d-574a358588bd",
   "metadata": {},
   "source": [
    "The reason that the above statement matches is because the * implies that G can be 0 or more characters.\n",
    "<br>\n",
    "Printing the original string can be achieved by using the string method."
   ]
  },
  {
   "cell_type": "code",
   "execution_count": 48,
   "id": "70ddf70f-9f94-4aff-8907-9d8761f94609",
   "metadata": {},
   "outputs": [
    {
     "data": {
      "text/plain": [
       "'AAAATTTTAAAGGGGCCTTT'"
      ]
     },
     "execution_count": 48,
     "metadata": {},
     "output_type": "execute_result"
    }
   ],
   "source": [
    "txt=\"AAAATTTTAAAGGGGCCTTT\"\n",
    "re.search(\"ATG*\",txt).string"
   ]
  },
  {
   "cell_type": "markdown",
   "id": "4737aaa0-6ea1-4bda-a879-ed778c4b9408",
   "metadata": {},
   "source": [
    "The .string attribute does not appear to be that informative.  However, the group() method will return the match, which can be useful."
   ]
  },
  {
   "cell_type": "code",
   "execution_count": 53,
   "id": "6ebeeadc-0313-4f46-89c9-3a180cc511bf",
   "metadata": {},
   "outputs": [
    {
     "data": {
      "text/plain": [
       "'AT'"
      ]
     },
     "execution_count": 53,
     "metadata": {},
     "output_type": "execute_result"
    }
   ],
   "source": [
    "txt=\"AAAATTTTAAAGGGGCCTTT\"\n",
    "re.search(\"ATG*\",txt).group()"
   ]
  },
  {
   "cell_type": "markdown",
   "id": "7ab935e3-e14b-4e84-99f1-ce7cbb459018",
   "metadata": {},
   "source": [
    "Here are 3 example for comparison.  First we use the group() method without specifying anything inside.  This returns the full match.<br>\n",
    "Next, we specify 1 within group().  This returns the first match.\n",
    "After this, we spcify 2.  This returns the second group."
   ]
  },
  {
   "cell_type": "code",
   "execution_count": 63,
   "id": "36beeb10-516b-4039-bb07-f7f86a273e34",
   "metadata": {},
   "outputs": [
    {
     "name": "stdout",
     "output_type": "stream",
     "text": [
      "ATTTTAAAGGGGCCT\n",
      "AT\n",
      "GCCT\n"
     ]
    }
   ],
   "source": [
    "txt=\"AAAATTTTAAAGGGGCCTTT\"\n",
    "print(re.search(\"(ATG*).*(G.*CT)\",txt).group())\n",
    "print(re.search(\"(ATG*).*(G.*CT)\",txt).group(1))\n",
    "print(re.search(\"(ATG*).*(G.*CT)\",txt).group(2))\n"
   ]
  },
  {
   "cell_type": "markdown",
   "id": "6ccd6e67-fa8e-4325-8063-8cfef0bb8bd7",
   "metadata": {},
   "source": [
    "The span() method can be used to return the indices(start and end) of the match in the form of a tuple.  As was the case with the group() command, we can indeed specify the group #."
   ]
  },
  {
   "cell_type": "code",
   "execution_count": 69,
   "id": "fd1a7009-448d-4458-a24e-a29330716377",
   "metadata": {},
   "outputs": [
    {
     "name": "stdout",
     "output_type": "stream",
     "text": [
      "(3, 18)\n",
      "(3, 5)\n",
      "(14, 18)\n"
     ]
    }
   ],
   "source": [
    "txt=\"AAAATTTTAAAGGGGCCTTT\"\n",
    "print(re.search(\"(ATG*).*(G.*CT)\",txt).span())\n",
    "print(re.search(\"(ATG*).*(G.*CT)\",txt).span(1))\n",
    "print(re.search(\"(ATG*).*(G.*CT)\",txt).span(2))\n"
   ]
  },
  {
   "cell_type": "markdown",
   "id": "a80c3518-3b82-430f-a55c-a94f05a589cd",
   "metadata": {},
   "source": [
    "The next is the findall() function, which returns all matches."
   ]
  },
  {
   "cell_type": "code",
   "execution_count": 26,
   "id": "71d52e10-1abd-4829-9c90-0c40749d9dd9",
   "metadata": {},
   "outputs": [
    {
     "data": {
      "text/plain": [
       "['A', 'A', 'A', 'A', 'A', 'A', 'A']"
      ]
     },
     "execution_count": 26,
     "metadata": {},
     "output_type": "execute_result"
    }
   ],
   "source": [
    "re.findall(\"A\",txt)"
   ]
  },
  {
   "cell_type": "markdown",
   "id": "cf5ee152-4865-42da-917e-33acd369f58d",
   "metadata": {},
   "source": [
    "The findall() function returns an empty list if there is no match as can be seen below."
   ]
  },
  {
   "cell_type": "code",
   "execution_count": 29,
   "id": "daab510f-0732-4141-8caa-0e55bae2e46f",
   "metadata": {},
   "outputs": [
    {
     "data": {
      "text/plain": [
       "[]"
      ]
     },
     "execution_count": 29,
     "metadata": {},
     "output_type": "execute_result"
    }
   ],
   "source": [
    "txt=\"AAAATTTTAAAGGGGCCTTT\"\n",
    "re.findall(\"ATGC\",txt)"
   ]
  },
  {
   "cell_type": "markdown",
   "id": "4f88fd12-1223-4122-9f3a-9c224e14fd63",
   "metadata": {},
   "source": [
    "The re package also has a split() function, which is more powerful than the builtin split() function."
   ]
  },
  {
   "cell_type": "code",
   "execution_count": 32,
   "id": "b307542f-acd5-40df-bfc8-8a7c607d843a",
   "metadata": {},
   "outputs": [
    {
     "data": {
      "text/plain": [
       "['I ', ' going to the park']"
      ]
     },
     "execution_count": 32,
     "metadata": {},
     "output_type": "execute_result"
    }
   ],
   "source": [
    "txt=\"I am going to the park\"\n",
    "re.split(\"am|the\",txt)"
   ]
  },
  {
   "cell_type": "markdown",
   "id": "9f06c692-0e29-45cb-b302-8f73afb7b926",
   "metadata": {},
   "source": [
    "In the example above, we split using the | (or) function to split where the match is either \"am\" or \"the\".  Note that the match is not included in the returned list."
   ]
  },
  {
   "cell_type": "code",
   "execution_count": 36,
   "id": "f8875ae1-bba2-4e2c-aee8-8e3a0290e00c",
   "metadata": {},
   "outputs": [
    {
     "data": {
      "text/plain": [
       "['I ', ' going to the park']"
      ]
     },
     "execution_count": 36,
     "metadata": {},
     "output_type": "execute_result"
    }
   ],
   "source": [
    "re.split(\"am|the\",txt,maxsplit=1)"
   ]
  },
  {
   "cell_type": "markdown",
   "id": "d8ddac71-c1a6-4e95-9643-6705967b2454",
   "metadata": {},
   "source": [
    "The sub() function can be used for subtitution. <br>\n",
    "The syntax is re.sub(\\<old substring\\>, \\<new substring\\>, \\<full text\\>)\n",
    "An example below.  "
   ]
  },
  {
   "cell_type": "code",
   "execution_count": 42,
   "id": "76483376-7094-46eb-9282-dcc71d90e7ef",
   "metadata": {},
   "outputs": [
    {
     "data": {
      "text/plain": [
       "'ENSMUSG000000003'"
      ]
     },
     "execution_count": 42,
     "metadata": {},
     "output_type": "execute_result"
    }
   ],
   "source": [
    "ensembl_ID=\"ENSG000000003\"\n",
    "re.sub(\"ENSG\",\"ENSMUSG\",ensembl_ID)"
   ]
  },
  {
   "cell_type": "markdown",
   "id": "cacddbe7",
   "metadata": {},
   "source": [
    "## <a id=\"Bioinformatics\">Bioinformatics Examples </a>"
   ]
  },
  {
   "cell_type": "markdown",
   "id": "53b9ac83",
   "metadata": {},
   "source": [
    "#### Example 1: \n",
    "Count the number of A,T,G,C in a sequence."
   ]
  },
  {
   "cell_type": "code",
   "execution_count": 21,
   "id": "23858a23",
   "metadata": {
    "hide_input": true,
    "tags": []
   },
   "outputs": [],
   "source": [
    "from collections import Counter\n",
    "def count_sequence(sequence):\n",
    "    return Counter(sequence)"
   ]
  },
  {
   "cell_type": "code",
   "execution_count": 22,
   "id": "e356d586",
   "metadata": {
    "tags": []
   },
   "outputs": [
    {
     "name": "stdout",
     "output_type": "stream",
     "text": [
      "Counter({'A': 10, 'T': 8, 'C': 4, 'G': 1})\n"
     ]
    }
   ],
   "source": [
    "print(count_sequence(\"AAAAAAAAAATTTTTTTTGCCCC\"))"
   ]
  },
  {
   "cell_type": "markdown",
   "id": "c0a4707c",
   "metadata": {},
   "source": [
    "#### Example 2:\n",
    "Report the percentage of A T G C"
   ]
  },
  {
   "cell_type": "code",
   "execution_count": 182,
   "id": "bba8dea1",
   "metadata": {
    "tags": []
   },
   "outputs": [],
   "source": [
    "def percentage_sequence(sequence,rounding=1):\n",
    "    seq_dict=dict(Counter(sequence))\n",
    "    #print(sum(seq_dict.values()))\n",
    "    return {key:round(100*(value/sum(seq_dict.values())),rounding) for key,value in seq_dict.items()}"
   ]
  },
  {
   "cell_type": "code",
   "execution_count": 183,
   "id": "368fa8c6",
   "metadata": {
    "tags": []
   },
   "outputs": [
    {
     "name": "stdout",
     "output_type": "stream",
     "text": [
      "{'A': 43.5, 'T': 34.8, 'G': 4.3, 'C': 17.4}\n"
     ]
    }
   ],
   "source": [
    "print(percentage_sequence(\"AAAAAAAAAATTTTTTTTGCCCC\"))"
   ]
  },
  {
   "cell_type": "code",
   "execution_count": 186,
   "id": "2aa1445c",
   "metadata": {
    "tags": []
   },
   "outputs": [
    {
     "name": "stdout",
     "output_type": "stream",
     "text": [
      "{'A': 43.48, 'T': 34.78, 'G': 4.35, 'C': 17.39}\n"
     ]
    }
   ],
   "source": [
    "print(percentage_sequence(\"AAAAAAAAAATTTTTTTTGCCCC\",2))"
   ]
  },
  {
   "cell_type": "code",
   "execution_count": 187,
   "id": "81110ec7",
   "metadata": {
    "tags": []
   },
   "outputs": [
    {
     "name": "stdout",
     "output_type": "stream",
     "text": [
      "{'A': 25.0, 'T': 25.0, 'G': 25.0, 'C': 25.0}\n"
     ]
    }
   ],
   "source": [
    "print(percentage_sequence(\"AAAATTTTGGGGCCCC\",1))"
   ]
  },
  {
   "cell_type": "markdown",
   "id": "3513883a",
   "metadata": {},
   "source": [
    "#### Example 3 <br>\n",
    "Return kmers of size n.  If a kmer is not of size k, exclude it."
   ]
  },
  {
   "cell_type": "code",
   "execution_count": 227,
   "id": "0919ca5e",
   "metadata": {
    "tags": []
   },
   "outputs": [],
   "source": [
    "def kmer_size_n(sequence,k=4):\n",
    "    return [sequence[n:(n+k)] for n in range(0,len(sequence),k) if len(sequence[n:(n+k)])%k==0]"
   ]
  },
  {
   "cell_type": "code",
   "execution_count": 228,
   "id": "ba142aec",
   "metadata": {
    "tags": []
   },
   "outputs": [
    {
     "data": {
      "text/plain": [
       "['ATGC']"
      ]
     },
     "execution_count": 228,
     "metadata": {},
     "output_type": "execute_result"
    }
   ],
   "source": [
    "kmer_size_n(\"ATGCAT\")"
   ]
  },
  {
   "cell_type": "code",
   "execution_count": 229,
   "id": "baeda6fd",
   "metadata": {
    "tags": []
   },
   "outputs": [
    {
     "data": {
      "text/plain": [
       "['ATGC', 'AATT']"
      ]
     },
     "execution_count": 229,
     "metadata": {},
     "output_type": "execute_result"
    }
   ],
   "source": [
    "kmer_size_n(\"ATGCAATT\")"
   ]
  },
  {
   "cell_type": "markdown",
   "id": "ef633a3f",
   "metadata": {},
   "source": [
    "kmer_size_n(\"AAA\")"
   ]
  },
  {
   "cell_type": "code",
   "execution_count": 230,
   "id": "38156903",
   "metadata": {
    "tags": []
   },
   "outputs": [
    {
     "data": {
      "text/plain": [
       "['AAAA', 'TTGC']"
      ]
     },
     "execution_count": 230,
     "metadata": {},
     "output_type": "execute_result"
    }
   ],
   "source": [
    "kmer_size_n(\"AAAATTGCA\")"
   ]
  },
  {
   "cell_type": "code",
   "execution_count": 232,
   "id": "8664e5ab",
   "metadata": {
    "tags": []
   },
   "outputs": [
    {
     "data": {
      "text/plain": [
       "['ATG', 'ATC']"
      ]
     },
     "execution_count": 232,
     "metadata": {},
     "output_type": "execute_result"
    }
   ],
   "source": [
    "kmer_size_n(\"ATGATC\",3)"
   ]
  },
  {
   "cell_type": "markdown",
   "id": "90be6132",
   "metadata": {},
   "source": [
    "### Example 4 <br>\n",
    "Return a kmer of size n only if it is a palindrome and it is of size k.  A palindrome is the same sequence reversed.  For example, the reverse of ATA is also ATA"
   ]
  },
  {
   "cell_type": "code",
   "execution_count": 233,
   "id": "62272cbb",
   "metadata": {},
   "outputs": [],
   "source": [
    "def kmer_palindrome(sequence,k=4):\n",
    "    return [sequence[n:(n+k)] for n in range(0,len(sequence),k) if len(sequence[n:(n+k)])%k==0 and sequence[n:(n+k)]==\"\".join(reversed(sequence[n:(n+k)]))]"
   ]
  },
  {
   "cell_type": "code",
   "execution_count": 239,
   "id": "1e13ab61",
   "metadata": {},
   "outputs": [
    {
     "data": {
      "text/plain": [
       "['ATTA']"
      ]
     },
     "execution_count": 239,
     "metadata": {},
     "output_type": "execute_result"
    }
   ],
   "source": [
    "kmer_palindrome(\"ATAAAATTATATATTA\")"
   ]
  },
  {
   "cell_type": "code",
   "execution_count": 240,
   "id": "e96ad739",
   "metadata": {},
   "outputs": [
    {
     "data": {
      "text/plain": [
       "['ATA', 'TAT']"
      ]
     },
     "execution_count": 240,
     "metadata": {},
     "output_type": "execute_result"
    }
   ],
   "source": [
    "kmer_palindrome(\"ATATATTTAATT\",k=3)"
   ]
  },
  {
   "cell_type": "markdown",
   "id": "a73f189e-57b8-4956-8b96-a3c743270c29",
   "metadata": {},
   "source": [
    "### Example 5"
   ]
  },
  {
   "cell_type": "markdown",
   "id": "1b4cce59-a22b-4abd-adbc-cf6d3c5c5769",
   "metadata": {},
   "source": [
    "Return the reverse complement of a sequence."
   ]
  },
  {
   "cell_type": "code",
   "execution_count": 36,
   "id": "f522dee9-beb9-44fb-800d-ef754559d423",
   "metadata": {},
   "outputs": [],
   "source": [
    "def reverse_complement(seq):\n",
    "    return \"\".join([k for k in seq.translate(str.maketrans(\"ATGC\",\"TACG\"))])[::-1]"
   ]
  },
  {
   "cell_type": "code",
   "execution_count": 37,
   "id": "71ff339d-f6ce-4ce4-b58c-1084f4d1ebd9",
   "metadata": {},
   "outputs": [
    {
     "data": {
      "text/plain": [
       "'ATATGCAT'"
      ]
     },
     "execution_count": 37,
     "metadata": {},
     "output_type": "execute_result"
    }
   ],
   "source": [
    "reverse_complement(\"ATGCATAT\")"
   ]
  },
  {
   "cell_type": "code",
   "execution_count": 38,
   "id": "8da638c4-b5a7-49ad-b518-9894663d955e",
   "metadata": {},
   "outputs": [
    {
     "data": {
      "text/plain": [
       "'GGGCCCAAAAATTTT'"
      ]
     },
     "execution_count": 38,
     "metadata": {},
     "output_type": "execute_result"
    }
   ],
   "source": [
    "reverse_complement(\"AAAATTTTTGGGCCC\")"
   ]
  },
  {
   "cell_type": "code",
   "execution_count": 39,
   "id": "510eaea8-dd9a-4afb-a9c0-b60a317914ba",
   "metadata": {},
   "outputs": [
    {
     "data": {
      "text/plain": [
       "'GGCCTTAAGATATGC'"
      ]
     },
     "execution_count": 39,
     "metadata": {},
     "output_type": "execute_result"
    }
   ],
   "source": [
    "reverse_complement(\"GCATATCTTAAGGCC\")"
   ]
  },
  {
   "cell_type": "markdown",
   "id": "dd3f29b7-b29e-40a6-920f-a413e2b75947",
   "metadata": {},
   "source": [
    "Translate an RNA sequence to Protein, given just the coding region."
   ]
  },
  {
   "cell_type": "code",
   "execution_count": 65,
   "id": "d248f203-c951-4bf2-a781-5017189385a4",
   "metadata": {},
   "outputs": [],
   "source": [
    "def translate_seq(RNA):\n",
    "    translation_dict={\"TTT\":\"F\",\n",
    "                      \"TTC\":\"F\",\n",
    "                      \"TTA\":\"L\",\n",
    "                      \"TTG\":\"L\",\n",
    "                      \"CTT\":\"L\",\n",
    "                      \"CTC\":\"L\",\n",
    "                      \"CTA\":\"L\",\n",
    "                      \"CTG\":\"L\",\n",
    "                      \"ATT\":\"I\",\n",
    "                      \"ATC\":\"I\",\n",
    "                      \"ATA\":\"I\",\n",
    "                      \"ATG\":\"M\",\n",
    "                      \"GTT\":\"V\",\n",
    "                      \"GTC\":\"V\",\n",
    "                      \"GTA\":\"V\",\n",
    "                      \"GTG\":\"V\",\n",
    "                      \"TCT\":\"S\",\n",
    "                      \"TCC\":\"S\",\n",
    "                      \"TCA\":\"S\",\n",
    "                      \"TCG\":\"S\",\n",
    "                      \"CCT\":\"P\",\n",
    "                      \"CCC\":\"P\",\n",
    "                      \"CCA\":\"P\",\n",
    "                      \"CCG\":\"P\",\n",
    "                      \"ACT\":\"T\",\n",
    "                      \"ACC\":\"T\",\n",
    "                      \"ACG\":\"T\",\n",
    "                      \"ACA\":\"T\",\n",
    "                      \"GCT\":\"A\",\n",
    "                      \"GCC\":\"A\",\n",
    "                      \"GCA\":\"A\",\n",
    "                      \"GCG\":\"A\",\n",
    "                      \"TAT\":\"Y\",\n",
    "                      \"TAC\":\"Y\",\n",
    "                      \"TAA\":\"*\",\n",
    "                      \"TAG\":\"*\",\n",
    "                      \"CAT\":\"H\",\n",
    "                      \"CAC\":\"H\",\n",
    "                      \"CAA\":\"Q\",\n",
    "                      \"CAG\":\"Q\",\n",
    "                      \"AAT\":\"N\",\n",
    "                      \"AAC\":\"N\",\n",
    "                      \"AAA\":\"K\",\n",
    "                      \"AAG\":\"K\",\n",
    "                      \"GAT\":\"D\",\n",
    "                      \"GAC\":\"D\",\n",
    "                      \"GAA\":\"E\",\n",
    "                      \"GAG\":\"E\",\n",
    "                      \"TGT\":\"C\",\n",
    "                      \"TGC\":\"C\",\n",
    "                      \"TGA\":\"*\",\n",
    "                      \"TGG\":\"W\",\n",
    "                      \"CGT\":\"R\",\n",
    "                      \"CGC\":\"R\",\n",
    "                      \"CGA\":\"R\",\n",
    "                      \"CGG\":\"R\",\n",
    "                      \"AGT\":\"S\",\n",
    "                      \"AGC\":\"S\",\n",
    "                      \"AGA\":\"R\",\n",
    "                      \"AGG\":\"R\",\n",
    "                      \"GGT\":\"G\",\n",
    "                      \"GGC\":\"G\",\n",
    "                      \"GGA\":\"G\",\n",
    "                      \"GGG\":\"G\"}\n",
    "    return \"\".join([translation_dict[RNA[k:k+3]] for k in range(0,len(RNA),3)])\n",
    "    "
   ]
  },
  {
   "cell_type": "code",
   "execution_count": 66,
   "id": "50e6bd63-cc8c-4104-a676-bbe4ac318384",
   "metadata": {},
   "outputs": [
    {
     "data": {
      "text/plain": [
       "'MQ'"
      ]
     },
     "execution_count": 66,
     "metadata": {},
     "output_type": "execute_result"
    }
   ],
   "source": [
    "translate_seq(\"ATGCAG\")"
   ]
  },
  {
   "cell_type": "code",
   "execution_count": 59,
   "id": "ad3c8a86-cb69-4ef3-acb5-2487a99a1838",
   "metadata": {},
   "outputs": [],
   "source": [
    "sequence_from_function=translate_seq(\"ATGGCGGCTAACGCTACTACCAACCCGTCGCAGCTGCTGCCCTTAGAGCTTGTGGACAAATGTATAGGATCAAGAATTCACATCGTGATGAAGAGTGATAAGGAAATTGTTGGTACTCTTCTAGGATTTGATGACTTTGTCAATATGGTACTGGAAGATGTCACTGAGTTTGAAATCACACCAGAAGGAAGAAGGATTACTAAATTAGATCAGATTTTGCTAAATGGAAATAATATAACAATGCTGGTTCCTGGAGGAGAAGGACCTGAAGTGTGA\")"
   ]
  },
  {
   "cell_type": "code",
   "execution_count": 64,
   "id": "784f6807-a130-450b-96ca-e4a023d89983",
   "metadata": {},
   "outputs": [
    {
     "name": "stdout",
     "output_type": "stream",
     "text": [
      "MAANATTNPSQLLPLELVDKCIGSRIHIVMKSDKEIVGTLLGFDDFVNMVLEDVTEFEITPEGRRITKLDQILLNGNNITMLVPGGEGPEV*\n"
     ]
    }
   ],
   "source": [
    "print(sequence_from_function)"
   ]
  },
  {
   "cell_type": "code",
   "execution_count": 62,
   "id": "61576ac4-c944-4db3-96d7-724f7c24f4dd",
   "metadata": {},
   "outputs": [],
   "source": [
    "actual_sequence=\"MAANATTNPSQLLPLELVDKCIGSRIHIVMKSDKEIVGTLLGFDDFVNMVLEDVTEFEITPEGRRITKLDQILLNGNNITMLVPGGEGPEV*\""
   ]
  },
  {
   "cell_type": "code",
   "execution_count": 63,
   "id": "fb8519d2-8fa8-4b1b-9972-a05adc2b80a3",
   "metadata": {},
   "outputs": [
    {
     "data": {
      "text/plain": [
       "True"
      ]
     },
     "execution_count": 63,
     "metadata": {},
     "output_type": "execute_result"
    }
   ],
   "source": [
    "sequence_from_function==actual_sequence"
   ]
  },
  {
   "cell_type": "markdown",
   "id": "607f88ab-27b6-4c50-80f9-6d11f5269ecb",
   "metadata": {},
   "source": [
    "## <a id=\"Conclusion\"> What we covered </a>"
   ]
  },
  {
   "cell_type": "markdown",
   "id": "4fdd4aa4-0ae8-4294-b80b-413370c97d69",
   "metadata": {},
   "source": [
    "Print, Input statements\n",
    "\n",
    "Conditionals\n",
    "\n",
    "Functions\n",
    "\n",
    "Iteration/Loops\n",
    "\n",
    "String manipulation\n",
    "\n",
    "Lists, Tuples, Sets, Dictionaries\n",
    "\n",
    "List and Dictionary Comprehension\n",
    "\n",
    "Collections package\n",
    "\n",
    "Error Types and error handling\n",
    "\n",
    "OS package\n",
    "\n",
    "Math package\n",
    "\n",
    "Time package\n",
    "\n",
    "Random package\n"
   ]
  },
  {
   "cell_type": "markdown",
   "id": "1bbb3f9c-92a9-41de-8616-fb9643dde61b",
   "metadata": {},
   "source": [
    "<b>What we have not covered (and we can cover in future classes)</b>:<br>\n",
    "- Generators\n",
    "- Decorators\n",
    "- Python for Bioinformatics\n",
    "    - Biopython\n",
    "- Scientific Computing, Data Analysis and Visualization\n",
    "    - Pandas\n",
    "    - Matplotlib, Seaborn\n",
    "    - Numpy\n",
    "    - Scipy\n",
    "- Deep Learning\n",
    "    - Packages:\n",
    "        - Tensorflow\n",
    "        - Pytorch\n",
    "    - Algorithms that can be covered:\n",
    "        - Fully-connected neural network\n",
    "        - Convolutional Neural Network\n",
    "    - Natural Language Processing:\n",
    "        Large Language Models(LLMs) using huggingface."
   ]
  },
  {
   "cell_type": "code",
   "execution_count": null,
   "id": "52029fe9-3e70-4031-83b0-50c2ecc251e9",
   "metadata": {},
   "outputs": [],
   "source": []
  }
 ],
 "metadata": {
  "kernelspec": {
   "display_name": "Python 3 (ipykernel)",
   "language": "python",
   "name": "python3"
  },
  "language_info": {
   "codemirror_mode": {
    "name": "ipython",
    "version": 3
   },
   "file_extension": ".py",
   "mimetype": "text/x-python",
   "name": "python",
   "nbconvert_exporter": "python",
   "pygments_lexer": "ipython3",
   "version": "3.10.9"
  }
 },
 "nbformat": 4,
 "nbformat_minor": 5
}
