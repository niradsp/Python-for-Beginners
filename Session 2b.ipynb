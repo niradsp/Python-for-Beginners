{
 "cells": [
  {
   "cell_type": "markdown",
   "id": "3a80b695",
   "metadata": {},
   "source": [
    "# <center> Python Tutorial Session 2 </center>"
   ]
  },
  {
   "cell_type": "markdown",
   "id": "fcbcef1b",
   "metadata": {},
   "source": [
    "## What we covered in our previous session:\n",
    " - Error Types and Error Handling\n",
    " - List Comprehension\n",
    " - Dictionary Comprehension\n",
    " - Lambda Functions\n",
    " - Importing Modules\n",
    " - The Math module"
   ]
  },
  {
   "cell_type": "markdown",
   "id": "680732c3",
   "metadata": {},
   "source": [
    "## <font color=green>Table of Contents IIb </font>\n",
    " - [The Collections module](#collections)\n",
    " - [The OS module](#os)\n",
    " - [Working with random numbers](#random)\n",
    " - [Working with Time](#time)\n",
    " - [Regular Expressions](#re)\n",
    " - [Bioinformatics Examples](#Bioinformatics)\n",
    " - [What we covered](#Conclusion)"
   ]
  },
  {
   "cell_type": "markdown",
   "id": "4a2ce15b-525c-4b1f-bcda-987aa6860dc5",
   "metadata": {},
   "source": [
    "## <a id=\"collections\"> The Collections Module </a>"
   ]
  },
  {
   "cell_type": "code",
   "execution_count": 1,
   "id": "1f3207db",
   "metadata": {},
   "outputs": [],
   "source": [
    "import collections"
   ]
  },
  {
   "cell_type": "code",
   "execution_count": 3,
   "id": "764de3f5",
   "metadata": {},
   "outputs": [
    {
     "name": "stdout",
     "output_type": "stream",
     "text": [
      "Counter({'A': 5, 'G': 4, 'T': 3})\n",
      "Counter({'A': 2, 'T': 2})\n",
      "Counter({'apple': 2, 'dog': 2})\n",
      "Counter({'banana': 11, 'apple': 10})\n"
     ]
    }
   ],
   "source": [
    "print(collections.Counter(\"AAAAATTTGGGG\"))\n",
    "print(collections.Counter(['A','A','T','T']))\n",
    "print(collections.Counter([\"apple\",\"dog\",\"dog\",\"apple\"]))\n",
    "print(collections.Counter({\"apple\":10,\"banana\":11}))"
   ]
  },
  {
   "cell_type": "markdown",
   "id": "1213cae1",
   "metadata": {},
   "source": [
    "You can also find the most common items in a collection using the mostcommon method.  Here you can see that I printed the 2 most common items in the collection."
   ]
  },
  {
   "cell_type": "code",
   "execution_count": 4,
   "id": "9a19fdf2",
   "metadata": {},
   "outputs": [
    {
     "data": {
      "text/plain": [
       "[('G', 24), ('A', 11)]"
      ]
     },
     "execution_count": 4,
     "metadata": {},
     "output_type": "execute_result"
    }
   ],
   "source": [
    "collections.Counter(\"AAAAAAAATTTTTTTTGGGGGGGGGGGGGGGGGGGGGGGGCCCCCTTTAAA\").most_common(2)"
   ]
  },
  {
   "cell_type": "markdown",
   "id": "e6c48031",
   "metadata": {},
   "source": [
    "The deque() function can be used for storing a fixed number of items. "
   ]
  },
  {
   "cell_type": "code",
   "execution_count": 5,
   "id": "82dd71f3",
   "metadata": {},
   "outputs": [],
   "source": [
    "from collections import deque"
   ]
  },
  {
   "cell_type": "code",
   "execution_count": 6,
   "id": "c3ee8fd6",
   "metadata": {},
   "outputs": [],
   "source": [
    "j=deque([1,2,3,4,5],maxlen=10)"
   ]
  },
  {
   "cell_type": "code",
   "execution_count": 7,
   "id": "7e672a82",
   "metadata": {},
   "outputs": [],
   "source": [
    "j.append(6)\n",
    "j.append(7)\n",
    "j.append(8)\n",
    "j.append(9)\n",
    "j.append(10)\n",
    "j.append(11)"
   ]
  },
  {
   "cell_type": "code",
   "execution_count": 8,
   "id": "5779aa3a",
   "metadata": {},
   "outputs": [
    {
     "data": {
      "text/plain": [
       "deque([2, 3, 4, 5, 6, 7, 8, 9, 10, 11], maxlen=10)"
      ]
     },
     "execution_count": 8,
     "metadata": {},
     "output_type": "execute_result"
    }
   ],
   "source": [
    "j"
   ]
  },
  {
   "cell_type": "markdown",
   "id": "63bc56d5",
   "metadata": {},
   "source": [
    "Notice that the first value in the collection got removed. This can be done using list as well, but you need to code a bit.  The deque method is a more elegant solution. You can pop from either the left or the right."
   ]
  },
  {
   "cell_type": "code",
   "execution_count": 9,
   "id": "6cbde45a",
   "metadata": {},
   "outputs": [
    {
     "name": "stdout",
     "output_type": "stream",
     "text": [
      "11\n",
      "2\n",
      "deque([3, 4, 5, 6, 7, 8, 9, 10], maxlen=10)\n"
     ]
    }
   ],
   "source": [
    "print(j.pop())\n",
    "print(j.popleft())\n",
    "print(j)"
   ]
  },
  {
   "cell_type": "markdown",
   "id": "d6c12ad5",
   "metadata": {},
   "source": [
    "If you want your tuple to be named, you can use the namedtuple function. The syntax is as follows, first you need to assign a \"type\" to your tuple.  In the example below, the \"type\" is food.  Next, within a square bracket, you add names for your tuple.  To assign values, you need to use the \"types_of_food\" variable as if it is a function.  Within it, you declare your items.  Next, you can use the \".\" to access specific names."
   ]
  },
  {
   "cell_type": "code",
   "execution_count": 10,
   "id": "9dbbca03",
   "metadata": {},
   "outputs": [
    {
     "name": "stdout",
     "output_type": "stream",
     "text": [
      "Food(fruits='apple', vegetables='spinach', juice='orange juice')\n"
     ]
    }
   ],
   "source": [
    "types_of_food=collections.namedtuple('Food',[\"fruits\",\"vegetables\",\"juice\"])\n",
    "food_tuple=types_of_food(\"apple\",\"spinach\",\"orange juice\")\n",
    "print(food_tuple)"
   ]
  },
  {
   "cell_type": "code",
   "execution_count": 11,
   "id": "94a6ccee",
   "metadata": {},
   "outputs": [
    {
     "name": "stdout",
     "output_type": "stream",
     "text": [
      "apple\n",
      "spinach\n"
     ]
    }
   ],
   "source": [
    "print(food_tuple.fruits)\n",
    "print(food_tuple.vegetables)"
   ]
  },
  {
   "cell_type": "code",
   "execution_count": 12,
   "id": "7f4c2777",
   "metadata": {},
   "outputs": [],
   "source": [
    "from collections import namedtuple\n",
    "mods=namedtuple(\"modification\",[\"nucleotide\",\"modification\"])\n",
    "new_mods=mods([\"A\",\"U\"],['m6A','pseudouridine'])"
   ]
  },
  {
   "cell_type": "code",
   "execution_count": 13,
   "id": "1c351500",
   "metadata": {},
   "outputs": [
    {
     "data": {
      "text/plain": [
       "['A', 'U']"
      ]
     },
     "execution_count": 13,
     "metadata": {},
     "output_type": "execute_result"
    }
   ],
   "source": [
    "new_mods.nucleotide"
   ]
  },
  {
   "cell_type": "code",
   "execution_count": 14,
   "id": "4c94317f",
   "metadata": {},
   "outputs": [
    {
     "data": {
      "text/plain": [
       "['m6A', 'pseudouridine']"
      ]
     },
     "execution_count": 14,
     "metadata": {},
     "output_type": "execute_result"
    }
   ],
   "source": [
    "new_mods.modification"
   ]
  },
  {
   "cell_type": "code",
   "execution_count": 15,
   "id": "28f3a137",
   "metadata": {},
   "outputs": [
    {
     "data": {
      "text/plain": [
       "'U'"
      ]
     },
     "execution_count": 15,
     "metadata": {},
     "output_type": "execute_result"
    }
   ],
   "source": [
    "new_mods.nucleotide[1]"
   ]
  },
  {
   "cell_type": "code",
   "execution_count": 16,
   "id": "271539bb-07fa-421d-ae38-bf7c028aa20d",
   "metadata": {},
   "outputs": [
    {
     "data": {
      "text/plain": [
       "modification(nucleotide=['A', 'U'], modification=['m6A', 'pseudouridine'])"
      ]
     },
     "execution_count": 16,
     "metadata": {},
     "output_type": "execute_result"
    }
   ],
   "source": [
    "new_mods"
   ]
  },
  {
   "cell_type": "markdown",
   "id": "78d2b4fb",
   "metadata": {},
   "source": [
    "The example above shows that lists could be nested with namedtuples as well.  \n",
    "Below is a different type of container called ChainMap.  It allows us to combine multiple dictionaries."
   ]
  },
  {
   "cell_type": "code",
   "execution_count": 17,
   "id": "faa9c5d9",
   "metadata": {},
   "outputs": [],
   "source": [
    "nucleotide={\"A\":'Adenosine',\n",
    "           'T':\"Thymine\",\n",
    "           \"C\":\"Cytosine\",\n",
    "           \"G\":\"Guanine\"}\n",
    "modification={\"Adenosine\":\"m6A\",\"Cytosine\":'m5C'}\n",
    "combined=collections.ChainMap(nucleotide,modification)"
   ]
  },
  {
   "cell_type": "code",
   "execution_count": 18,
   "id": "057a2ccc",
   "metadata": {},
   "outputs": [
    {
     "name": "stdout",
     "output_type": "stream",
     "text": [
      "m6A\n",
      "Adenosine\n"
     ]
    }
   ],
   "source": [
    "print(combined[\"Adenosine\"])\n",
    "print(combined['A'])"
   ]
  },
  {
   "cell_type": "markdown",
   "id": "134da569",
   "metadata": {},
   "source": [
    "While I called the chainmap dictionary \"combined\", in reality the way chainmap works is by keeping track of different dictionaries in a list."
   ]
  },
  {
   "cell_type": "markdown",
   "id": "f5220143",
   "metadata": {},
   "source": [
    "The collections library also has other functions such as <b>OrderedDict,defaultDict,etc </b>.  I am not going to cover these different functions and leave the reader to look them up if necessary."
   ]
  },
  {
   "cell_type": "markdown",
   "id": "d00f8f31-bd46-416b-ad58-6391129a7d89",
   "metadata": {},
   "source": [
    "## <a id=\"os\"> The OS Module </a>"
   ]
  },
  {
   "cell_type": "markdown",
   "id": "8e8b7b7e",
   "metadata": {},
   "source": [
    "The next module we are going to talk about is the OS module, which can be used to print current working directory, change directory, etc."
   ]
  },
  {
   "cell_type": "code",
   "execution_count": 19,
   "id": "22dd2145",
   "metadata": {},
   "outputs": [],
   "source": [
    "import os"
   ]
  },
  {
   "cell_type": "code",
   "execution_count": 20,
   "id": "68783ba7",
   "metadata": {},
   "outputs": [
    {
     "data": {
      "text/plain": [
       "'C:\\\\Users\\\\banskotan2\\\\Documents\\\\Python Class'"
      ]
     },
     "execution_count": 20,
     "metadata": {},
     "output_type": "execute_result"
    }
   ],
   "source": [
    "os.getcwd()"
   ]
  },
  {
   "cell_type": "code",
   "execution_count": 21,
   "id": "12704a26",
   "metadata": {},
   "outputs": [
    {
     "data": {
      "text/plain": [
       "20"
      ]
     },
     "execution_count": 21,
     "metadata": {},
     "output_type": "execute_result"
    }
   ],
   "source": [
    "os.cpu_count()"
   ]
  },
  {
   "cell_type": "code",
   "execution_count": 22,
   "id": "866e1457-f7b4-414c-87e4-e392bea49392",
   "metadata": {},
   "outputs": [
    {
     "data": {
      "text/plain": [
       "['.ipynb_checkpoints',\n",
       " 'new_file.txt',\n",
       " 'Session 1a.ipynb',\n",
       " 'Session 1b.ipynb',\n",
       " 'Session 2a.ipynb',\n",
       " 'Session 2b.ipynb']"
      ]
     },
     "execution_count": 22,
     "metadata": {},
     "output_type": "execute_result"
    }
   ],
   "source": [
    "os.listdir()"
   ]
  },
  {
   "cell_type": "markdown",
   "id": "6e5ef821",
   "metadata": {},
   "source": [
    "There is also os.walk() for finding files in a directory tree, os.mkdir(), os.rmdir(), os.chdir(),etc. <br>\n"
   ]
  },
  {
   "cell_type": "markdown",
   "id": "639774f9-8b0d-44ed-8349-69c370f569fe",
   "metadata": {},
   "source": [
    "## <a id=\"random\"> Working with random numbers </a> <br>\n",
    "The <b> random </b> function can be used to generate random numbers.\n",
    "\n",
    "Note also that the numpy package has its own random functions as well!"
   ]
  },
  {
   "cell_type": "code",
   "execution_count": 24,
   "id": "9128c4ff",
   "metadata": {},
   "outputs": [],
   "source": [
    "import random"
   ]
  },
  {
   "cell_type": "markdown",
   "id": "23ad3785",
   "metadata": {},
   "source": [
    "The random.random() function can be used to generate values betweeen 0 to 1."
   ]
  },
  {
   "cell_type": "code",
   "execution_count": 25,
   "id": "e5ca33f7",
   "metadata": {},
   "outputs": [
    {
     "data": {
      "text/plain": [
       "0.9056917606447467"
      ]
     },
     "execution_count": 25,
     "metadata": {},
     "output_type": "execute_result"
    }
   ],
   "source": [
    "random.random()"
   ]
  },
  {
   "cell_type": "code",
   "execution_count": 26,
   "id": "cd8e60d9",
   "metadata": {},
   "outputs": [
    {
     "data": {
      "text/plain": [
       "0.9380524590177166"
      ]
     },
     "execution_count": 26,
     "metadata": {},
     "output_type": "execute_result"
    }
   ],
   "source": [
    "random.random()"
   ]
  },
  {
   "cell_type": "markdown",
   "id": "dda5bc64",
   "metadata": {},
   "source": [
    "The random.randint() function can be used to generate integer between two different values"
   ]
  },
  {
   "cell_type": "code",
   "execution_count": 27,
   "id": "42321af3",
   "metadata": {},
   "outputs": [
    {
     "data": {
      "text/plain": [
       "0"
      ]
     },
     "execution_count": 27,
     "metadata": {},
     "output_type": "execute_result"
    }
   ],
   "source": [
    "random.randint(0,1)"
   ]
  },
  {
   "cell_type": "code",
   "execution_count": 28,
   "id": "04d37b89",
   "metadata": {},
   "outputs": [
    {
     "data": {
      "text/plain": [
       "58"
      ]
     },
     "execution_count": 28,
     "metadata": {},
     "output_type": "execute_result"
    }
   ],
   "source": [
    "random.randint(0,100)"
   ]
  },
  {
   "cell_type": "markdown",
   "id": "5f84a300",
   "metadata": {},
   "source": [
    "For reproducibility, set the seed so that the same value gets produced.  This can be important for algorithms that require random numbers--for example the k-means algorithm"
   ]
  },
  {
   "cell_type": "code",
   "execution_count": 29,
   "id": "d8bc4a23",
   "metadata": {},
   "outputs": [
    {
     "data": {
      "text/plain": [
       "9"
      ]
     },
     "execution_count": 29,
     "metadata": {},
     "output_type": "execute_result"
    }
   ],
   "source": [
    "random.seed(5)\n",
    "random.randint(5,10)"
   ]
  },
  {
   "cell_type": "code",
   "execution_count": 30,
   "id": "26685915",
   "metadata": {},
   "outputs": [
    {
     "data": {
      "text/plain": [
       "7"
      ]
     },
     "execution_count": 30,
     "metadata": {},
     "output_type": "execute_result"
    }
   ],
   "source": [
    "random.randint(5,10)"
   ]
  },
  {
   "cell_type": "code",
   "execution_count": 31,
   "id": "06647841",
   "metadata": {},
   "outputs": [
    {
     "data": {
      "text/plain": [
       "9"
      ]
     },
     "execution_count": 31,
     "metadata": {},
     "output_type": "execute_result"
    }
   ],
   "source": [
    "random.seed(5)\n",
    "random.randint(5,10)"
   ]
  },
  {
   "cell_type": "markdown",
   "id": "c12ab0ef",
   "metadata": {},
   "source": [
    "Some other random number functions:"
   ]
  },
  {
   "cell_type": "code",
   "execution_count": 32,
   "id": "cccfb0b4",
   "metadata": {},
   "outputs": [
    {
     "data": {
      "text/plain": [
       "3"
      ]
     },
     "execution_count": 32,
     "metadata": {},
     "output_type": "execute_result"
    }
   ],
   "source": [
    "random.choice([1,2,3,4,5])"
   ]
  },
  {
   "cell_type": "code",
   "execution_count": 33,
   "id": "f4c13f7b",
   "metadata": {},
   "outputs": [
    {
     "data": {
      "text/plain": [
       "'G'"
      ]
     },
     "execution_count": 33,
     "metadata": {},
     "output_type": "execute_result"
    }
   ],
   "source": [
    "random.choice([\"A\",\"T\",\"G\",\"C\"])"
   ]
  },
  {
   "cell_type": "code",
   "execution_count": 34,
   "id": "696d3cdd",
   "metadata": {},
   "outputs": [
    {
     "data": {
      "text/plain": [
       "'A'"
      ]
     },
     "execution_count": 34,
     "metadata": {},
     "output_type": "execute_result"
    }
   ],
   "source": [
    "random.choice(\"ATGC\")"
   ]
  },
  {
   "cell_type": "code",
   "execution_count": 35,
   "id": "31a8c2d9",
   "metadata": {},
   "outputs": [
    {
     "name": "stdout",
     "output_type": "stream",
     "text": [
      "[4, 3, 2, 1]\n"
     ]
    }
   ],
   "source": [
    "random.seed(10)\n",
    "numbers=[1,2,3,4]\n",
    "random.shuffle(numbers)\n",
    "print(numbers)"
   ]
  },
  {
   "cell_type": "markdown",
   "id": "bfd151e7",
   "metadata": {},
   "source": [
    "## <a id=\"time\"> Working with Time </a> <br>\n",
    "The time module can be used to print time."
   ]
  },
  {
   "cell_type": "code",
   "execution_count": 36,
   "id": "157a0d91",
   "metadata": {},
   "outputs": [],
   "source": [
    "import time"
   ]
  },
  {
   "cell_type": "code",
   "execution_count": 37,
   "id": "b64d269c",
   "metadata": {},
   "outputs": [
    {
     "name": "stdout",
     "output_type": "stream",
     "text": [
      "1699990235.907581\n"
     ]
    }
   ],
   "source": [
    "print(time.time())"
   ]
  },
  {
   "cell_type": "markdown",
   "id": "46909c96",
   "metadata": {},
   "source": [
    "The time function can be used to check how long it takes to run a program."
   ]
  },
  {
   "cell_type": "code",
   "execution_count": 38,
   "id": "91981de9",
   "metadata": {},
   "outputs": [
    {
     "name": "stdout",
     "output_type": "stream",
     "text": [
      "time elapsed:1.9190759658813477\n"
     ]
    }
   ],
   "source": [
    "start=time.time()\n",
    "for i in range(100000000):\n",
    "    pass\n",
    "end=time.time()\n",
    "print(f\"time elapsed:{end-start}\")"
   ]
  },
  {
   "cell_type": "code",
   "execution_count": 39,
   "id": "af7b02a9",
   "metadata": {},
   "outputs": [
    {
     "name": "stdout",
     "output_type": "stream",
     "text": [
      "time elapsed:9.887067556381226\n"
     ]
    }
   ],
   "source": [
    "start=time.time()\n",
    "for i in range(500000000):\n",
    "    pass\n",
    "end=time.time()\n",
    "print(f\"time elapsed:{end-start}\")"
   ]
  },
  {
   "cell_type": "markdown",
   "id": "31cd1819",
   "metadata": {},
   "source": [
    "Jupyter Notebook also comes with the timeit magic command that can be run as follows:"
   ]
  },
  {
   "cell_type": "code",
   "execution_count": 40,
   "id": "cc4de3bd",
   "metadata": {},
   "outputs": [
    {
     "name": "stdout",
     "output_type": "stream",
     "text": [
      "962 µs ± 25.1 µs per loop (mean ± std. dev. of 7 runs, 1,000 loops each)\n"
     ]
    }
   ],
   "source": [
    "%%timeit\n",
    "for i in range(100000):\n",
    "    pass\n"
   ]
  },
  {
   "cell_type": "markdown",
   "id": "ab1f74bb-e345-4f11-ac73-705da4423611",
   "metadata": {},
   "source": [
    "## <a id=\"re\"> Regular Expressions</a>\n",
    "\n",
    "The re module is used for dealing with regular expressions, which is a method for parsing strings based on patterns. The name of the package is \"re\".  Let's load it first.\n",
    "First of all, what is a regular expression?  These are expressions that match a particular pattern that you are interested in.  Many different programming languages allow usage of regular expressions: Perl, R, as well as Python.  A few regular expressions to know. <br>\n"
   ]
  },
  {
   "cell_type": "markdown",
   "id": "12731ef6-68e5-4305-ac95-80c2f27b80fd",
   "metadata": {},
   "source": [
    "\n",
    "<font size=\"+5\"><b>*</b></font>: matches zero or more repititions of a character. Greedy.\n",
    "\n",
    "<font size=\"+5\"><b>*?</b></font>: matches zero or more repititions but is not greedy\n",
    "\n",
    "<font size=\"+5\"><b>+</b></font> :matches one or more repitition of a character\n",
    "\n",
    "<font size=\"+5\"><b>+?</b></font>: One or more repititions and is not greedy.\n",
    "\n",
    "<font size=\"+5\"><b>.</b></font>: Dot matches one character except newline.\n",
    "\n",
    "<font size=\"+5\"><b>^</b>:  Starting string</font>\n",
    "\n",
    "<font size=\"+5\"><b>$</b>: ending string</font>\n",
    "\n",
    "<font size=\"+5\"><b>{m} </b> </font> :Matches m repititions of the previous regular expression\n",
    "\n",
    "<font size=\"+5\"><b>{m,n}</b> </font>: Matches m to n repititions. Greedy.\n",
    "\n",
    "<font size=\"+5\"><b>{m,n}?</b></font>:  Matches m to n repititions, but is not greedy.\n",
    "\n",
    "<font size=\"+5\"><b>\\</b></font>: Escape spetial characters. For example, you want to match a \".\", which is a special character. \n",
    " \n",
    "<font size=\"+5\"><b>[]<b></font>: Matches characters in the square bracket.\n",
    "\n",
    "<font size=\"+5\"><b>|</b></font>:  For example A|B matches either A or B \n",
    "\n",
    "<font size=\"+5\"><b>(...)</b></font>:  Where \"...\" is a regular expression. For group capture.\n",
    "\n",
    "<font size=\"+5\"><b>\\n</b></font>:  For example \\1.  This matches group 1.\n",
    "\n",
    "<font size=\"+5\"><b>\\b</b></font>:  Matches empty string at the beginning or end of a group\n",
    "\n",
    "<font size=\"+5\"><b>\\B</b></font>:  Matches empty strong NOT at the beginning or end.\n",
    "\n",
    "<font size=\"+5\"><b>\\d</b></font>:  Matches a number\n",
    "\n",
    "<font size=\"+5\"><b>\\D</b></font>:  Matches something that is not a number\n",
    "\n",
    "<font size=\"+5\"><b>\\s</b></font>:  Matches whitespace\n",
    "\n",
    "<font size=\"+5\"><b>\\S</b></font>:  Matches something that is not whitespace\n",
    "\n",
    "<font size=\"+5\"><b>\\w</b></font>: Matches a word\n",
    "\n",
    "<font size=\"+5\"><b>\\W</b></font>: Matches something that is not a word\n"
   ]
  },
  {
   "cell_type": "markdown",
   "id": "d348fa62-b643-42fd-871e-d9599ba37a1b",
   "metadata": {},
   "source": [
    "<b> And there are many other operators out there</b>"
   ]
  },
  {
   "cell_type": "code",
   "execution_count": 42,
   "id": "46fe58db-1c92-4f4e-b254-8d344d79a88d",
   "metadata": {},
   "outputs": [],
   "source": [
    "import re"
   ]
  },
  {
   "cell_type": "code",
   "execution_count": 43,
   "id": "d5df02c5-44e1-4d0c-b243-4a316d051cd4",
   "metadata": {},
   "outputs": [],
   "source": [
    "txt=\"I want to know. Have you ever seen the rain?\""
   ]
  },
  {
   "cell_type": "markdown",
   "id": "487f3ae5-eebf-4206-a527-1aa1de98f0bc",
   "metadata": {},
   "source": [
    "The re.search() function can be used to find a match.  if it matches, then it return an object."
   ]
  },
  {
   "cell_type": "code",
   "execution_count": 44,
   "id": "6aee16e8-3de3-4675-b9fc-7959c79f9b08",
   "metadata": {},
   "outputs": [],
   "source": [
    "re.search(\"edljdkd\",txt)"
   ]
  },
  {
   "cell_type": "code",
   "execution_count": 45,
   "id": "f7172415-bcaa-4612-a1b0-12f8a9c69640",
   "metadata": {},
   "outputs": [
    {
     "data": {
      "text/plain": [
       "<re.Match object; span=(0, 15), match='I want to know.'>"
      ]
     },
     "execution_count": 45,
     "metadata": {},
     "output_type": "execute_result"
    }
   ],
   "source": [
    "re.search(\".*know\\\\.\",txt)"
   ]
  },
  {
   "cell_type": "code",
   "execution_count": 46,
   "id": "d07becee-b508-422c-b3cb-2628a3ed65bc",
   "metadata": {},
   "outputs": [
    {
     "name": "stdout",
     "output_type": "stream",
     "text": [
      "yes\n"
     ]
    }
   ],
   "source": [
    "if re.search(\"know\",txt): print(\"yes\")"
   ]
  },
  {
   "cell_type": "code",
   "execution_count": 47,
   "id": "a59783a0-b3c1-41fe-9513-5f3288908fc8",
   "metadata": {},
   "outputs": [],
   "source": [
    "if re.search(\"gibberish\",txt):print(\"Yes\")"
   ]
  },
  {
   "cell_type": "code",
   "execution_count": 48,
   "id": "b6505a14-58c1-461f-88bc-c1234dd019d7",
   "metadata": {},
   "outputs": [
    {
     "name": "stdout",
     "output_type": "stream",
     "text": [
      "No\n"
     ]
    }
   ],
   "source": [
    "if not re.search(\"gibberish\",txt):print(\"No\")"
   ]
  },
  {
   "cell_type": "code",
   "execution_count": 51,
   "id": "0c67d96e-991f-4f1f-97a4-412f75e6e88b",
   "metadata": {},
   "outputs": [],
   "source": [
    "txt=\"ATTTTT\""
   ]
  },
  {
   "cell_type": "code",
   "execution_count": 52,
   "id": "93980b1f-f5c1-472f-b2fc-cac902faf7e3",
   "metadata": {},
   "outputs": [
    {
     "data": {
      "text/plain": [
       "<re.Match object; span=(0, 2), match='AT'>"
      ]
     },
     "execution_count": 52,
     "metadata": {},
     "output_type": "execute_result"
    }
   ],
   "source": [
    "re.search(\"ATG*\",txt)"
   ]
  },
  {
   "cell_type": "markdown",
   "id": "1f14824b-13da-48bb-a53d-574a358588bd",
   "metadata": {},
   "source": [
    "The reason that the above statement matches is because the * implies that G can be 0 or more characters.\n",
    "<br>\n",
    "Printing the original string can be achieved by using the string method."
   ]
  },
  {
   "cell_type": "code",
   "execution_count": 54,
   "id": "70ddf70f-9f94-4aff-8907-9d8761f94609",
   "metadata": {},
   "outputs": [
    {
     "data": {
      "text/plain": [
       "'AAAATTTTAAAGGGGCCTTT'"
      ]
     },
     "execution_count": 54,
     "metadata": {},
     "output_type": "execute_result"
    }
   ],
   "source": [
    "txt=\"AAAATTTTAAAGGGGCCTTT\"\n",
    "re.search(\"ATG*\",txt).string"
   ]
  },
  {
   "cell_type": "markdown",
   "id": "4737aaa0-6ea1-4bda-a879-ed778c4b9408",
   "metadata": {},
   "source": [
    "The .string attribute does not appear to be that informative.  However, the group() method will return the match, which can be useful."
   ]
  },
  {
   "cell_type": "code",
   "execution_count": 55,
   "id": "6ebeeadc-0313-4f46-89c9-3a180cc511bf",
   "metadata": {},
   "outputs": [
    {
     "data": {
      "text/plain": [
       "'AT'"
      ]
     },
     "execution_count": 55,
     "metadata": {},
     "output_type": "execute_result"
    }
   ],
   "source": [
    "txt=\"AAAATTTTAAAGGGGCCTTT\"\n",
    "re.search(\"ATG*\",txt).group()"
   ]
  },
  {
   "cell_type": "markdown",
   "id": "7ab935e3-e14b-4e84-99f1-ce7cbb459018",
   "metadata": {},
   "source": [
    "Here are 3 example for comparison.  First we use the group() method without specifying anything inside.  This returns the full match.<br>\n",
    "Next, we specify 1 within group().  This returns the first match.\n",
    "After this, we spcify 2.  This returns the second group."
   ]
  },
  {
   "cell_type": "code",
   "execution_count": 56,
   "id": "36beeb10-516b-4039-bb07-f7f86a273e34",
   "metadata": {},
   "outputs": [
    {
     "name": "stdout",
     "output_type": "stream",
     "text": [
      "ATTTTAAAGGGGCCT\n",
      "AT\n",
      "GCCT\n"
     ]
    }
   ],
   "source": [
    "txt=\"AAAATTTTAAAGGGGCCTTT\"\n",
    "print(re.search(\"(ATG*).*(G.*CT)\",txt).group())\n",
    "print(re.search(\"(ATG*).*(G.*CT)\",txt).group(1))\n",
    "print(re.search(\"(ATG*).*(G.*CT)\",txt).group(2))\n"
   ]
  },
  {
   "cell_type": "markdown",
   "id": "6ccd6e67-fa8e-4325-8063-8cfef0bb8bd7",
   "metadata": {},
   "source": [
    "The span() method can be used to return the indices(start and end) of the match in the form of a tuple.  As was the case with the group() command, we can indeed specify the group #."
   ]
  },
  {
   "cell_type": "code",
   "execution_count": 57,
   "id": "fd1a7009-448d-4458-a24e-a29330716377",
   "metadata": {},
   "outputs": [
    {
     "name": "stdout",
     "output_type": "stream",
     "text": [
      "(3, 18)\n",
      "(3, 5)\n",
      "(14, 18)\n"
     ]
    }
   ],
   "source": [
    "txt=\"AAAATTTTAAAGGGGCCTTT\"\n",
    "print(re.search(\"(ATG*).*(G.*CT)\",txt).span())\n",
    "print(re.search(\"(ATG*).*(G.*CT)\",txt).span(1))\n",
    "print(re.search(\"(ATG*).*(G.*CT)\",txt).span(2))\n"
   ]
  },
  {
   "cell_type": "markdown",
   "id": "a80c3518-3b82-430f-a55c-a94f05a589cd",
   "metadata": {},
   "source": [
    "The next is the findall() function, which returns all matches."
   ]
  },
  {
   "cell_type": "code",
   "execution_count": 58,
   "id": "71d52e10-1abd-4829-9c90-0c40749d9dd9",
   "metadata": {},
   "outputs": [
    {
     "data": {
      "text/plain": [
       "['A', 'A', 'A', 'A', 'A', 'A', 'A']"
      ]
     },
     "execution_count": 58,
     "metadata": {},
     "output_type": "execute_result"
    }
   ],
   "source": [
    "re.findall(\"A\",txt)"
   ]
  },
  {
   "cell_type": "markdown",
   "id": "cf5ee152-4865-42da-917e-33acd369f58d",
   "metadata": {},
   "source": [
    "The findall() function returns an empty list if there is no match as can be seen below."
   ]
  },
  {
   "cell_type": "code",
   "execution_count": 59,
   "id": "daab510f-0732-4141-8caa-0e55bae2e46f",
   "metadata": {},
   "outputs": [
    {
     "data": {
      "text/plain": [
       "[]"
      ]
     },
     "execution_count": 59,
     "metadata": {},
     "output_type": "execute_result"
    }
   ],
   "source": [
    "txt=\"AAAATTTTAAAGGGGCCTTT\"\n",
    "re.findall(\"ATGC\",txt)"
   ]
  },
  {
   "cell_type": "markdown",
   "id": "4f88fd12-1223-4122-9f3a-9c224e14fd63",
   "metadata": {},
   "source": [
    "The re package also has a split() function, which is more powerful than the builtin split() function."
   ]
  },
  {
   "cell_type": "code",
   "execution_count": 60,
   "id": "b307542f-acd5-40df-bfc8-8a7c607d843a",
   "metadata": {},
   "outputs": [
    {
     "data": {
      "text/plain": [
       "['I ', ' going to ', ' park']"
      ]
     },
     "execution_count": 60,
     "metadata": {},
     "output_type": "execute_result"
    }
   ],
   "source": [
    "txt=\"I am going to the park\"\n",
    "re.split(\"am|the\",txt)"
   ]
  },
  {
   "cell_type": "markdown",
   "id": "9f06c692-0e29-45cb-b302-8f73afb7b926",
   "metadata": {},
   "source": [
    "In the example above, we split using the | (or) function to split where the match is either \"am\" or \"the\".  Note that the match is not included in the returned list."
   ]
  },
  {
   "cell_type": "code",
   "execution_count": 61,
   "id": "f8875ae1-bba2-4e2c-aee8-8e3a0290e00c",
   "metadata": {},
   "outputs": [
    {
     "data": {
      "text/plain": [
       "['I ', ' going to the park']"
      ]
     },
     "execution_count": 61,
     "metadata": {},
     "output_type": "execute_result"
    }
   ],
   "source": [
    "re.split(\"am|the\",txt,maxsplit=1)"
   ]
  },
  {
   "cell_type": "markdown",
   "id": "d8ddac71-c1a6-4e95-9643-6705967b2454",
   "metadata": {},
   "source": [
    "The sub() function can be used for subtitution. <br>\n",
    "The syntax is re.sub(\\<old substring\\>, \\<new substring\\>, \\<full text\\>)\n",
    "An example below.  "
   ]
  },
  {
   "cell_type": "code",
   "execution_count": 62,
   "id": "76483376-7094-46eb-9282-dcc71d90e7ef",
   "metadata": {},
   "outputs": [
    {
     "data": {
      "text/plain": [
       "'ENSMUSG000000003'"
      ]
     },
     "execution_count": 62,
     "metadata": {},
     "output_type": "execute_result"
    }
   ],
   "source": [
    "ensembl_ID=\"ENSG000000003\"\n",
    "re.sub(\"ENSG\",\"ENSMUSG\",ensembl_ID)"
   ]
  },
  {
   "cell_type": "markdown",
   "id": "cacddbe7",
   "metadata": {},
   "source": [
    "## <a id=\"Bioinformatics\">Bioinformatics Examples </a>"
   ]
  },
  {
   "cell_type": "markdown",
   "id": "53b9ac83",
   "metadata": {},
   "source": [
    "#### Example 1: \n",
    "Count the number of A,T,G,C in a sequence."
   ]
  },
  {
   "cell_type": "code",
   "execution_count": 63,
   "id": "23858a23",
   "metadata": {
    "hide_input": true,
    "tags": []
   },
   "outputs": [],
   "source": [
    "from collections import Counter\n",
    "def count_sequence(sequence):\n",
    "    return Counter(sequence)"
   ]
  },
  {
   "cell_type": "code",
   "execution_count": 64,
   "id": "e356d586",
   "metadata": {
    "tags": []
   },
   "outputs": [
    {
     "name": "stdout",
     "output_type": "stream",
     "text": [
      "Counter({'A': 10, 'T': 8, 'C': 4, 'G': 1})\n"
     ]
    }
   ],
   "source": [
    "print(count_sequence(\"AAAAAAAAAATTTTTTTTGCCCC\"))"
   ]
  },
  {
   "cell_type": "markdown",
   "id": "c0a4707c",
   "metadata": {},
   "source": [
    "#### Example 2:\n",
    "Report the percentage of A T G C"
   ]
  },
  {
   "cell_type": "code",
   "execution_count": 65,
   "id": "bba8dea1",
   "metadata": {
    "tags": []
   },
   "outputs": [],
   "source": [
    "def percentage_sequence(sequence,rounding=1):\n",
    "    seq_dict=dict(Counter(sequence))\n",
    "    #print(sum(seq_dict.values()))\n",
    "    return {key:round(100*(value/sum(seq_dict.values())),rounding) for key,value in seq_dict.items()}"
   ]
  },
  {
   "cell_type": "code",
   "execution_count": 66,
   "id": "368fa8c6",
   "metadata": {
    "tags": []
   },
   "outputs": [
    {
     "name": "stdout",
     "output_type": "stream",
     "text": [
      "{'A': 43.5, 'T': 34.8, 'G': 4.3, 'C': 17.4}\n"
     ]
    }
   ],
   "source": [
    "print(percentage_sequence(\"AAAAAAAAAATTTTTTTTGCCCC\"))"
   ]
  },
  {
   "cell_type": "code",
   "execution_count": 67,
   "id": "2aa1445c",
   "metadata": {
    "tags": []
   },
   "outputs": [
    {
     "name": "stdout",
     "output_type": "stream",
     "text": [
      "{'A': 43.48, 'T': 34.78, 'G': 4.35, 'C': 17.39}\n"
     ]
    }
   ],
   "source": [
    "print(percentage_sequence(\"AAAAAAAAAATTTTTTTTGCCCC\",2))"
   ]
  },
  {
   "cell_type": "code",
   "execution_count": 68,
   "id": "81110ec7",
   "metadata": {
    "tags": []
   },
   "outputs": [
    {
     "name": "stdout",
     "output_type": "stream",
     "text": [
      "{'A': 25.0, 'T': 25.0, 'G': 25.0, 'C': 25.0}\n"
     ]
    }
   ],
   "source": [
    "print(percentage_sequence(\"AAAATTTTGGGGCCCC\",1))"
   ]
  },
  {
   "cell_type": "markdown",
   "id": "3513883a",
   "metadata": {},
   "source": [
    "#### Example 3 <br>\n",
    "Return kmers of size n.  If a kmer is not of size k, exclude it."
   ]
  },
  {
   "cell_type": "code",
   "execution_count": 69,
   "id": "0919ca5e",
   "metadata": {
    "tags": []
   },
   "outputs": [],
   "source": [
    "def kmer_size_n(sequence,k=4):\n",
    "    return [sequence[n:(n+k)] for n in range(0,len(sequence),k) if len(sequence[n:(n+k)])%k==0]"
   ]
  },
  {
   "cell_type": "code",
   "execution_count": 70,
   "id": "ba142aec",
   "metadata": {
    "tags": []
   },
   "outputs": [
    {
     "data": {
      "text/plain": [
       "['ATGC']"
      ]
     },
     "execution_count": 70,
     "metadata": {},
     "output_type": "execute_result"
    }
   ],
   "source": [
    "kmer_size_n(\"ATGCAT\")"
   ]
  },
  {
   "cell_type": "code",
   "execution_count": 71,
   "id": "baeda6fd",
   "metadata": {
    "tags": []
   },
   "outputs": [
    {
     "data": {
      "text/plain": [
       "['ATGC', 'AATT']"
      ]
     },
     "execution_count": 71,
     "metadata": {},
     "output_type": "execute_result"
    }
   ],
   "source": [
    "kmer_size_n(\"ATGCAATT\")"
   ]
  },
  {
   "cell_type": "markdown",
   "id": "ef633a3f",
   "metadata": {},
   "source": [
    "kmer_size_n(\"AAA\")"
   ]
  },
  {
   "cell_type": "code",
   "execution_count": 72,
   "id": "38156903",
   "metadata": {
    "tags": []
   },
   "outputs": [
    {
     "data": {
      "text/plain": [
       "['AAAA', 'TTGC']"
      ]
     },
     "execution_count": 72,
     "metadata": {},
     "output_type": "execute_result"
    }
   ],
   "source": [
    "kmer_size_n(\"AAAATTGCA\")"
   ]
  },
  {
   "cell_type": "code",
   "execution_count": 73,
   "id": "8664e5ab",
   "metadata": {
    "tags": []
   },
   "outputs": [
    {
     "data": {
      "text/plain": [
       "['ATG', 'ATC']"
      ]
     },
     "execution_count": 73,
     "metadata": {},
     "output_type": "execute_result"
    }
   ],
   "source": [
    "kmer_size_n(\"ATGATC\",3)"
   ]
  },
  {
   "cell_type": "markdown",
   "id": "90be6132",
   "metadata": {},
   "source": [
    "### Example 4 <br>\n",
    "Return a kmer of size n only if it is a palindrome and it is of size k.  A palindrome is the same sequence reversed.  For example, the reverse of ATA is also ATA"
   ]
  },
  {
   "cell_type": "code",
   "execution_count": 74,
   "id": "62272cbb",
   "metadata": {},
   "outputs": [],
   "source": [
    "def kmer_palindrome(sequence,k=4):\n",
    "    return [sequence[n:(n+k)] for n in range(0,len(sequence),k) if len(sequence[n:(n+k)])%k==0 and sequence[n:(n+k)]==\"\".join(reversed(sequence[n:(n+k)]))]"
   ]
  },
  {
   "cell_type": "code",
   "execution_count": 75,
   "id": "1e13ab61",
   "metadata": {},
   "outputs": [
    {
     "data": {
      "text/plain": [
       "['ATTA']"
      ]
     },
     "execution_count": 75,
     "metadata": {},
     "output_type": "execute_result"
    }
   ],
   "source": [
    "kmer_palindrome(\"ATAAAATTATATATTA\")"
   ]
  },
  {
   "cell_type": "code",
   "execution_count": 76,
   "id": "e96ad739",
   "metadata": {},
   "outputs": [
    {
     "data": {
      "text/plain": [
       "['ATA', 'TAT']"
      ]
     },
     "execution_count": 76,
     "metadata": {},
     "output_type": "execute_result"
    }
   ],
   "source": [
    "kmer_palindrome(\"ATATATTTAATT\",k=3)"
   ]
  },
  {
   "cell_type": "markdown",
   "id": "a73f189e-57b8-4956-8b96-a3c743270c29",
   "metadata": {},
   "source": [
    "### Example 5"
   ]
  },
  {
   "cell_type": "markdown",
   "id": "1b4cce59-a22b-4abd-adbc-cf6d3c5c5769",
   "metadata": {},
   "source": [
    "Return the reverse complement of a sequence."
   ]
  },
  {
   "cell_type": "code",
   "execution_count": 77,
   "id": "f522dee9-beb9-44fb-800d-ef754559d423",
   "metadata": {},
   "outputs": [],
   "source": [
    "def reverse_complement(seq):\n",
    "    return \"\".join([k for k in seq.translate(str.maketrans(\"ATGC\",\"TACG\"))])[::-1]"
   ]
  },
  {
   "cell_type": "code",
   "execution_count": 78,
   "id": "71ff339d-f6ce-4ce4-b58c-1084f4d1ebd9",
   "metadata": {},
   "outputs": [
    {
     "data": {
      "text/plain": [
       "'ATATGCAT'"
      ]
     },
     "execution_count": 78,
     "metadata": {},
     "output_type": "execute_result"
    }
   ],
   "source": [
    "reverse_complement(\"ATGCATAT\")"
   ]
  },
  {
   "cell_type": "code",
   "execution_count": 79,
   "id": "8da638c4-b5a7-49ad-b518-9894663d955e",
   "metadata": {},
   "outputs": [
    {
     "data": {
      "text/plain": [
       "'GGGCCCAAAAATTTT'"
      ]
     },
     "execution_count": 79,
     "metadata": {},
     "output_type": "execute_result"
    }
   ],
   "source": [
    "reverse_complement(\"AAAATTTTTGGGCCC\")"
   ]
  },
  {
   "cell_type": "code",
   "execution_count": 80,
   "id": "510eaea8-dd9a-4afb-a9c0-b60a317914ba",
   "metadata": {},
   "outputs": [
    {
     "data": {
      "text/plain": [
       "'GGCCTTAAGATATGC'"
      ]
     },
     "execution_count": 80,
     "metadata": {},
     "output_type": "execute_result"
    }
   ],
   "source": [
    "reverse_complement(\"GCATATCTTAAGGCC\")"
   ]
  },
  {
   "cell_type": "markdown",
   "id": "dd3f29b7-b29e-40a6-920f-a413e2b75947",
   "metadata": {},
   "source": [
    "Translate an RNA sequence to Protein, given just the coding region."
   ]
  },
  {
   "cell_type": "code",
   "execution_count": 81,
   "id": "d248f203-c951-4bf2-a781-5017189385a4",
   "metadata": {},
   "outputs": [],
   "source": [
    "def translate_seq(RNA):\n",
    "    translation_dict={\"TTT\":\"F\",\n",
    "                      \"TTC\":\"F\",\n",
    "                      \"TTA\":\"L\",\n",
    "                      \"TTG\":\"L\",\n",
    "                      \"CTT\":\"L\",\n",
    "                      \"CTC\":\"L\",\n",
    "                      \"CTA\":\"L\",\n",
    "                      \"CTG\":\"L\",\n",
    "                      \"ATT\":\"I\",\n",
    "                      \"ATC\":\"I\",\n",
    "                      \"ATA\":\"I\",\n",
    "                      \"ATG\":\"M\",\n",
    "                      \"GTT\":\"V\",\n",
    "                      \"GTC\":\"V\",\n",
    "                      \"GTA\":\"V\",\n",
    "                      \"GTG\":\"V\",\n",
    "                      \"TCT\":\"S\",\n",
    "                      \"TCC\":\"S\",\n",
    "                      \"TCA\":\"S\",\n",
    "                      \"TCG\":\"S\",\n",
    "                      \"CCT\":\"P\",\n",
    "                      \"CCC\":\"P\",\n",
    "                      \"CCA\":\"P\",\n",
    "                      \"CCG\":\"P\",\n",
    "                      \"ACT\":\"T\",\n",
    "                      \"ACC\":\"T\",\n",
    "                      \"ACG\":\"T\",\n",
    "                      \"ACA\":\"T\",\n",
    "                      \"GCT\":\"A\",\n",
    "                      \"GCC\":\"A\",\n",
    "                      \"GCA\":\"A\",\n",
    "                      \"GCG\":\"A\",\n",
    "                      \"TAT\":\"Y\",\n",
    "                      \"TAC\":\"Y\",\n",
    "                      \"TAA\":\"*\",\n",
    "                      \"TAG\":\"*\",\n",
    "                      \"CAT\":\"H\",\n",
    "                      \"CAC\":\"H\",\n",
    "                      \"CAA\":\"Q\",\n",
    "                      \"CAG\":\"Q\",\n",
    "                      \"AAT\":\"N\",\n",
    "                      \"AAC\":\"N\",\n",
    "                      \"AAA\":\"K\",\n",
    "                      \"AAG\":\"K\",\n",
    "                      \"GAT\":\"D\",\n",
    "                      \"GAC\":\"D\",\n",
    "                      \"GAA\":\"E\",\n",
    "                      \"GAG\":\"E\",\n",
    "                      \"TGT\":\"C\",\n",
    "                      \"TGC\":\"C\",\n",
    "                      \"TGA\":\"*\",\n",
    "                      \"TGG\":\"W\",\n",
    "                      \"CGT\":\"R\",\n",
    "                      \"CGC\":\"R\",\n",
    "                      \"CGA\":\"R\",\n",
    "                      \"CGG\":\"R\",\n",
    "                      \"AGT\":\"S\",\n",
    "                      \"AGC\":\"S\",\n",
    "                      \"AGA\":\"R\",\n",
    "                      \"AGG\":\"R\",\n",
    "                      \"GGT\":\"G\",\n",
    "                      \"GGC\":\"G\",\n",
    "                      \"GGA\":\"G\",\n",
    "                      \"GGG\":\"G\"}\n",
    "    return \"\".join([translation_dict[RNA[k:k+3]] for k in range(0,len(RNA),3)])\n",
    "    "
   ]
  },
  {
   "cell_type": "code",
   "execution_count": 82,
   "id": "50e6bd63-cc8c-4104-a676-bbe4ac318384",
   "metadata": {},
   "outputs": [
    {
     "data": {
      "text/plain": [
       "'MQ'"
      ]
     },
     "execution_count": 82,
     "metadata": {},
     "output_type": "execute_result"
    }
   ],
   "source": [
    "translate_seq(\"ATGCAG\")"
   ]
  },
  {
   "cell_type": "code",
   "execution_count": 83,
   "id": "ad3c8a86-cb69-4ef3-acb5-2487a99a1838",
   "metadata": {},
   "outputs": [],
   "source": [
    "sequence_from_function=translate_seq(\"ATGGCGGCTAACGCTACTACCAACCCGTCGCAGCTGCTGCCCTTAGAGCTTGTGGACAAATGTATAGGATCAAGAATTCACATCGTGATGAAGAGTGATAAGGAAATTGTTGGTACTCTTCTAGGATTTGATGACTTTGTCAATATGGTACTGGAAGATGTCACTGAGTTTGAAATCACACCAGAAGGAAGAAGGATTACTAAATTAGATCAGATTTTGCTAAATGGAAATAATATAACAATGCTGGTTCCTGGAGGAGAAGGACCTGAAGTGTGA\")"
   ]
  },
  {
   "cell_type": "code",
   "execution_count": 84,
   "id": "784f6807-a130-450b-96ca-e4a023d89983",
   "metadata": {},
   "outputs": [
    {
     "name": "stdout",
     "output_type": "stream",
     "text": [
      "MAANATTNPSQLLPLELVDKCIGSRIHIVMKSDKEIVGTLLGFDDFVNMVLEDVTEFEITPEGRRITKLDQILLNGNNITMLVPGGEGPEV*\n"
     ]
    }
   ],
   "source": [
    "print(sequence_from_function)"
   ]
  },
  {
   "cell_type": "code",
   "execution_count": 85,
   "id": "61576ac4-c944-4db3-96d7-724f7c24f4dd",
   "metadata": {},
   "outputs": [],
   "source": [
    "actual_sequence=\"MAANATTNPSQLLPLELVDKCIGSRIHIVMKSDKEIVGTLLGFDDFVNMVLEDVTEFEITPEGRRITKLDQILLNGNNITMLVPGGEGPEV*\""
   ]
  },
  {
   "cell_type": "code",
   "execution_count": 86,
   "id": "fb8519d2-8fa8-4b1b-9972-a05adc2b80a3",
   "metadata": {},
   "outputs": [
    {
     "data": {
      "text/plain": [
       "True"
      ]
     },
     "execution_count": 86,
     "metadata": {},
     "output_type": "execute_result"
    }
   ],
   "source": [
    "sequence_from_function==actual_sequence"
   ]
  },
  {
   "cell_type": "markdown",
   "id": "607f88ab-27b6-4c50-80f9-6d11f5269ecb",
   "metadata": {},
   "source": [
    "## <a id=\"Conclusion\"> What we covered </a>"
   ]
  },
  {
   "cell_type": "markdown",
   "id": "4fdd4aa4-0ae8-4294-b80b-413370c97d69",
   "metadata": {},
   "source": [
    "Print, Input statements\n",
    "\n",
    "Conditionals\n",
    "\n",
    "Functions\n",
    "\n",
    "Iteration/Loops\n",
    "\n",
    "String manipulation\n",
    "\n",
    "Lists, Tuples, Sets, Dictionaries\n",
    "\n",
    "List and Dictionary Comprehension\n",
    "\n",
    "Collections package\n",
    "\n",
    "Error Types and error handling\n",
    "\n",
    "OS package\n",
    "\n",
    "Math package\n",
    "\n",
    "Time package\n",
    "\n",
    "Random package\n"
   ]
  },
  {
   "cell_type": "markdown",
   "id": "1bbb3f9c-92a9-41de-8616-fb9643dde61b",
   "metadata": {},
   "source": [
    "<b>What we have not covered (and we can cover in future classes)</b>:<br>\n",
    "- Generators\n",
    "- Decorators\n",
    "- Python for Bioinformatics\n",
    "    - Biopython\n",
    "- Scientific Computing, Data Analysis and Visualization\n",
    "    - Pandas\n",
    "    - Matplotlib, Seaborn\n",
    "    - Numpy\n",
    "    - Scipy\n",
    "- Deep Learning\n",
    "    - Packages:\n",
    "        - Tensorflow\n",
    "        - Pytorch\n",
    "    - Algorithms that can be covered:\n",
    "        - Fully-connected neural network\n",
    "        - Convolutional Neural Network\n",
    "    - Natural Language Processing:\n",
    "        Large Language Models(LLMs) using huggingface."
   ]
  }
 ],
 "metadata": {
  "kernelspec": {
   "display_name": "Python 3 (ipykernel)",
   "language": "python",
   "name": "python3"
  },
  "language_info": {
   "codemirror_mode": {
    "name": "ipython",
    "version": 3
   },
   "file_extension": ".py",
   "mimetype": "text/x-python",
   "name": "python",
   "nbconvert_exporter": "python",
   "pygments_lexer": "ipython3",
   "version": "3.10.9"
  }
 },
 "nbformat": 4,
 "nbformat_minor": 5
}
