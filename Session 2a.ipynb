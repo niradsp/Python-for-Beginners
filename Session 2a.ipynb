{
 "cells": [
  {
   "cell_type": "markdown",
   "id": "3a80b695",
   "metadata": {},
   "source": [
    "# <center> Python Tutorial Session 2a </center>"
   ]
  },
  {
   "cell_type": "markdown",
   "id": "fcbcef1b",
   "metadata": {},
   "source": [
    "## What we covered in our previous session:\n",
    "- Print/Input \n",
    "- Variables\n",
    "- Function\n",
    "- Loop\n",
    "- List\n",
    "- Dictionary\n",
    "- Set\n",
    "- String Manipulation"
   ]
  },
  {
   "cell_type": "markdown",
   "id": "680732c3",
   "metadata": {},
   "source": [
    "## <font color=green>Table of Contents IIa </font>\n",
    " - [Error Types and Error Handling](#errors)\n",
    " - [List Comprehension](#listcomp)\n",
    " - [Dictionary Comprehension](#Dictionarycomp)\n",
    " - [Lambda Functions](#LambdaFunc)\n",
    " - [Importing Modules](#Import)\n",
    " - [The Math module](#math)"
   ]
  },
  {
   "cell_type": "markdown",
   "id": "af45b322",
   "metadata": {},
   "source": [
    "We are going to cover some of these intermediate concepts today.  \n",
    "\n",
    "<b> Data Analysis and Scientific Packages will not be covered today.  There will be a different class. </b>\n",
    "\n",
    "List Comprehension and Dictionary Comprehension allow us to generate new lists and Dictionaries using a more compact syntax."
   ]
  },
  {
   "cell_type": "markdown",
   "id": "0dbd06dc",
   "metadata": {},
   "source": [
    "## <a id=\"errors\"> Different Error Types </a>"
   ]
  },
  {
   "cell_type": "markdown",
   "id": "d932a7e9",
   "metadata": {},
   "source": [
    "Depending on the errors in your script, python generates/displays different error messages.  This can be helpful for debugging your script."
   ]
  },
  {
   "cell_type": "markdown",
   "id": "7abdd82f",
   "metadata": {},
   "source": [
    "#### <b> Syntax Error </b>\n",
    "This occurs when you do not follow the syntax/rule of the command that you are using.  A good example of this is using the print function without the parenthesis.  In this case, the error output also lets you know that you forgot the parenthesis.  \n"
   ]
  },
  {
   "cell_type": "code",
   "execution_count": 1,
   "id": "2dafe130",
   "metadata": {},
   "outputs": [
    {
     "ename": "SyntaxError",
     "evalue": "Missing parentheses in call to 'print'. Did you mean print(...)? (796388850.py, line 1)",
     "output_type": "error",
     "traceback": [
      "\u001b[1;36m  Cell \u001b[1;32mIn[1], line 1\u001b[1;36m\u001b[0m\n\u001b[1;33m    print \"Hello World\"\u001b[0m\n\u001b[1;37m    ^\u001b[0m\n\u001b[1;31mSyntaxError\u001b[0m\u001b[1;31m:\u001b[0m Missing parentheses in call to 'print'. Did you mean print(...)?\n"
     ]
    }
   ],
   "source": [
    "print \"Hello World\""
   ]
  },
  {
   "cell_type": "markdown",
   "id": "b214d867",
   "metadata": {},
   "source": [
    "The next common error that can occur is an index error.  Suppose your list has 10 numbers, and you try to print the 11th index, this results in an index error, as follows.  The output lets you know that the list index is out of range."
   ]
  },
  {
   "cell_type": "code",
   "execution_count": 2,
   "id": "d1578e3d",
   "metadata": {},
   "outputs": [
    {
     "ename": "IndexError",
     "evalue": "list index out of range",
     "output_type": "error",
     "traceback": [
      "\u001b[1;31m---------------------------------------------------------------------------\u001b[0m",
      "\u001b[1;31mIndexError\u001b[0m                                Traceback (most recent call last)",
      "Cell \u001b[1;32mIn[2], line 2\u001b[0m\n\u001b[0;32m      1\u001b[0m a\u001b[38;5;241m=\u001b[39m[\u001b[38;5;241m1\u001b[39m,\u001b[38;5;241m2\u001b[39m,\u001b[38;5;241m3\u001b[39m,\u001b[38;5;241m4\u001b[39m,\u001b[38;5;241m5\u001b[39m]\n\u001b[1;32m----> 2\u001b[0m \u001b[38;5;28mprint\u001b[39m(\u001b[43ma\u001b[49m\u001b[43m[\u001b[49m\u001b[38;5;241;43m5\u001b[39;49m\u001b[43m]\u001b[49m)\n",
      "\u001b[1;31mIndexError\u001b[0m: list index out of range"
     ]
    }
   ],
   "source": [
    "a=[1,2,3,4,5]\n",
    "print(a[5])"
   ]
  },
  {
   "cell_type": "markdown",
   "id": "95bf3a71",
   "metadata": {},
   "source": [
    "Key Error is thrown when a key is not found in a dictionary."
   ]
  },
  {
   "cell_type": "code",
   "execution_count": 3,
   "id": "4b62b57c",
   "metadata": {},
   "outputs": [
    {
     "ename": "KeyError",
     "evalue": "'h'",
     "output_type": "error",
     "traceback": [
      "\u001b[1;31m---------------------------------------------------------------------------\u001b[0m",
      "\u001b[1;31mKeyError\u001b[0m                                  Traceback (most recent call last)",
      "Cell \u001b[1;32mIn[3], line 2\u001b[0m\n\u001b[0;32m      1\u001b[0m dict_a\u001b[38;5;241m=\u001b[39m{\u001b[38;5;124m\"\u001b[39m\u001b[38;5;124ma\u001b[39m\u001b[38;5;124m\"\u001b[39m:\u001b[38;5;124m\"\u001b[39m\u001b[38;5;124ma\u001b[39m\u001b[38;5;124m\"\u001b[39m,\u001b[38;5;124m\"\u001b[39m\u001b[38;5;124mb\u001b[39m\u001b[38;5;124m\"\u001b[39m:\u001b[38;5;124m\"\u001b[39m\u001b[38;5;124mb\u001b[39m\u001b[38;5;124m\"\u001b[39m,\u001b[38;5;124m\"\u001b[39m\u001b[38;5;124mc\u001b[39m\u001b[38;5;124m\"\u001b[39m:\u001b[38;5;124m\"\u001b[39m\u001b[38;5;124mc\u001b[39m\u001b[38;5;124m\"\u001b[39m,\u001b[38;5;124m\"\u001b[39m\u001b[38;5;124md\u001b[39m\u001b[38;5;124m\"\u001b[39m:\u001b[38;5;124m\"\u001b[39m\u001b[38;5;124md\u001b[39m\u001b[38;5;124m\"\u001b[39m}\n\u001b[1;32m----> 2\u001b[0m \u001b[38;5;28mprint\u001b[39m(\u001b[43mdict_a\u001b[49m\u001b[43m[\u001b[49m\u001b[38;5;124;43m'\u001b[39;49m\u001b[38;5;124;43mh\u001b[39;49m\u001b[38;5;124;43m'\u001b[39;49m\u001b[43m]\u001b[49m)\n",
      "\u001b[1;31mKeyError\u001b[0m: 'h'"
     ]
    }
   ],
   "source": [
    "dict_a={\"a\":\"a\",\"b\":\"b\",\"c\":\"c\",\"d\":\"d\"}\n",
    "print(dict_a['h'])"
   ]
  },
  {
   "cell_type": "markdown",
   "id": "39fe2fff",
   "metadata": {},
   "source": [
    "TypeError is thrown when the types don't match.  For example, one value is string, while the other is a float or integer."
   ]
  },
  {
   "cell_type": "code",
   "execution_count": 8,
   "id": "e72f48dc",
   "metadata": {},
   "outputs": [
    {
     "ename": "TypeError",
     "evalue": "can only concatenate str (not \"int\") to str",
     "output_type": "error",
     "traceback": [
      "\u001b[1;31m---------------------------------------------------------------------------\u001b[0m",
      "\u001b[1;31mTypeError\u001b[0m                                 Traceback (most recent call last)",
      "Cell \u001b[1;32mIn[8], line 1\u001b[0m\n\u001b[1;32m----> 1\u001b[0m \u001b[38;5;124;43m\"\u001b[39;49m\u001b[38;5;124;43ma\u001b[39;49m\u001b[38;5;124;43m\"\u001b[39;49m\u001b[38;5;241;43m+\u001b[39;49m\u001b[38;5;241;43m3\u001b[39;49m\n",
      "\u001b[1;31mTypeError\u001b[0m: can only concatenate str (not \"int\") to str"
     ]
    }
   ],
   "source": [
    "\"a\"+3"
   ]
  },
  {
   "cell_type": "markdown",
   "id": "dbc98ccb",
   "metadata": {},
   "source": [
    "A value error is thrown when an argument to a function is of inappropriate type.  Here we tried converting \"apple\" to integer using the int() function.  This will not work.  Also, if you pass a list to a dictionary, that will generate a value error as well."
   ]
  },
  {
   "cell_type": "code",
   "execution_count": 9,
   "id": "762d4b51",
   "metadata": {},
   "outputs": [
    {
     "ename": "ValueError",
     "evalue": "invalid literal for int() with base 10: 'apple'",
     "output_type": "error",
     "traceback": [
      "\u001b[1;31m---------------------------------------------------------------------------\u001b[0m",
      "\u001b[1;31mValueError\u001b[0m                                Traceback (most recent call last)",
      "Cell \u001b[1;32mIn[9], line 1\u001b[0m\n\u001b[1;32m----> 1\u001b[0m \u001b[38;5;28;43mint\u001b[39;49m\u001b[43m(\u001b[49m\u001b[38;5;124;43m\"\u001b[39;49m\u001b[38;5;124;43mapple\u001b[39;49m\u001b[38;5;124;43m\"\u001b[39;49m\u001b[43m)\u001b[49m\n",
      "\u001b[1;31mValueError\u001b[0m: invalid literal for int() with base 10: 'apple'"
     ]
    }
   ],
   "source": [
    "int(\"apple\")"
   ]
  },
  {
   "cell_type": "code",
   "execution_count": 10,
   "id": "359c9bf7",
   "metadata": {},
   "outputs": [
    {
     "ename": "TypeError",
     "evalue": "cannot convert dictionary update sequence element #0 to a sequence",
     "output_type": "error",
     "traceback": [
      "\u001b[1;31m---------------------------------------------------------------------------\u001b[0m",
      "\u001b[1;31mTypeError\u001b[0m                                 Traceback (most recent call last)",
      "Cell \u001b[1;32mIn[10], line 1\u001b[0m\n\u001b[1;32m----> 1\u001b[0m \u001b[38;5;28;43mdict\u001b[39;49m\u001b[43m(\u001b[49m\u001b[43m[\u001b[49m\u001b[38;5;241;43m1\u001b[39;49m\u001b[43m,\u001b[49m\u001b[38;5;241;43m2\u001b[39;49m\u001b[43m,\u001b[49m\u001b[38;5;241;43m3\u001b[39;49m\u001b[43m]\u001b[49m\u001b[43m)\u001b[49m\n",
      "\u001b[1;31mTypeError\u001b[0m: cannot convert dictionary update sequence element #0 to a sequence"
     ]
    }
   ],
   "source": [
    "dict([1,2,3])"
   ]
  },
  {
   "cell_type": "markdown",
   "id": "c59897a5",
   "metadata": {},
   "source": [
    "There is division by 0 error, which occurs when you divide by 0, as the name implies."
   ]
  },
  {
   "cell_type": "code",
   "execution_count": 11,
   "id": "922281d3",
   "metadata": {},
   "outputs": [
    {
     "ename": "ZeroDivisionError",
     "evalue": "division by zero",
     "output_type": "error",
     "traceback": [
      "\u001b[1;31m---------------------------------------------------------------------------\u001b[0m",
      "\u001b[1;31mZeroDivisionError\u001b[0m                         Traceback (most recent call last)",
      "Cell \u001b[1;32mIn[11], line 1\u001b[0m\n\u001b[1;32m----> 1\u001b[0m \u001b[38;5;241;43m3\u001b[39;49m\u001b[38;5;241;43m/\u001b[39;49m\u001b[38;5;241;43m0\u001b[39;49m\n",
      "\u001b[1;31mZeroDivisionError\u001b[0m: division by zero"
     ]
    }
   ],
   "source": [
    "3/0"
   ]
  },
  {
   "cell_type": "markdown",
   "id": "cfb0caf5",
   "metadata": {},
   "source": [
    "How do we handle errors in python?\n",
    "\n",
    "The try-except statements can be used to handle different error types. \n",
    "\n",
    "The way it works is, the program first tries to execute the try block.  If there are no errors, the value of j is set to True, and the loop ends.  On the other hand, if your number is a 0, then it generates a ZeroDivisionError.  This then prints the appropriate message(i.e. the number cannot be 0).  On the other hand, if the number you input is of an incorrect type, this generates a ValueError.  Note that there can be many except blocks."
   ]
  },
  {
   "cell_type": "code",
   "execution_count": 14,
   "id": "3629ff48",
   "metadata": {},
   "outputs": [
    {
     "name": "stdin",
     "output_type": "stream",
     "text": [
      "Enter a number:  3\n"
     ]
    },
    {
     "name": "stdout",
     "output_type": "stream",
     "text": [
      "3.3333333333333335\n"
     ]
    }
   ],
   "source": [
    "j=False\n",
    "while(j==False):\n",
    "    try:\n",
    "        j=int(input(\"Enter a number: \"))\n",
    "        print(10/j)\n",
    "        j=True\n",
    "    except ZeroDivisionError:\n",
    "        print(\"The number cannot be 0\")\n",
    "    except ValueError:\n",
    "        print(\"The number is not an integer\")\n",
    "    "
   ]
  },
  {
   "cell_type": "markdown",
   "id": "878c3f75",
   "metadata": {},
   "source": [
    "We can extend the try except block by also including the \"else\" and \"finally\" blocks. The else block is executed if there are no error messages.  The \"finally\" block is executed regardless of the error message.  Let's extend the code above to include these two blocks."
   ]
  },
  {
   "cell_type": "code",
   "execution_count": 15,
   "id": "61b2fe61",
   "metadata": {},
   "outputs": [
    {
     "name": "stdin",
     "output_type": "stream",
     "text": [
      "Enter a number:  \"1\"\n"
     ]
    },
    {
     "name": "stdout",
     "output_type": "stream",
     "text": [
      "The number is not an integer\n",
      "Iteration # 1\n"
     ]
    },
    {
     "name": "stdin",
     "output_type": "stream",
     "text": [
      "Enter a number:  0\n"
     ]
    },
    {
     "name": "stdout",
     "output_type": "stream",
     "text": [
      "The number cannot be 0\n",
      "Iteration # 2\n"
     ]
    },
    {
     "name": "stdin",
     "output_type": "stream",
     "text": [
      "Enter a number:  3\n"
     ]
    },
    {
     "name": "stdout",
     "output_type": "stream",
     "text": [
      "3.3333333333333335\n",
      "Iteration # 3\n"
     ]
    }
   ],
   "source": [
    "j=False\n",
    "ct=0\n",
    "while(j==False):\n",
    "    try:\n",
    "        j=int(input(\"Enter a number: \"))\n",
    "        k=(10/j)\n",
    "    except ZeroDivisionError:\n",
    "        print(\"The number cannot be 0\")\n",
    "    except ValueError:\n",
    "        print(\"The number is not an integer\")\n",
    "    else:\n",
    "        j=True\n",
    "        print(k)\n",
    "    finally:\n",
    "        ct=ct+1\n",
    "        print(f\"Iteration # {ct}\")"
   ]
  },
  {
   "cell_type": "markdown",
   "id": "d475b8c5",
   "metadata": {},
   "source": [
    "There are many other error types generated by Python, which I have not listed here.  If you google \"different error types in python\" there are many hits.\n",
    "\n",
    "There is also a raise command if you want to raise an error message.  Suppose you want the values to be greater than 3, but it is less than 3.  You can raise an appropriate error message."
   ]
  },
  {
   "cell_type": "code",
   "execution_count": 20,
   "id": "c2a21494",
   "metadata": {},
   "outputs": [
    {
     "name": "stdin",
     "output_type": "stream",
     "text": [
      "What is the value of x?  0\n"
     ]
    }
   ],
   "source": [
    "j=int(input(\"What is the value of x? \"))\n",
    "if(j<3 and j>=1):\n",
    "    raise SyntaxError(\"The value is less than 3\")\n",
    "if(j<0):\n",
    "    raise TypeError(\"negative value not allowed.\")"
   ]
  },
  {
   "cell_type": "markdown",
   "id": "496e3938",
   "metadata": {},
   "source": [
    "## <a id=\"listcomp\"> List Comprehension </a>\n",
    "A list comprehension is basically a way to use a loop and conditions within square ([]) brackets.  \n",
    "In other words, it is a way to quickly loop through a list and generate a new list that meets certain criteria.\n",
    "A list comprehension follows the following syntax, and it is within a square bracket:\n",
    "\n",
    "<i> <b>[Expression for item in iterable if condition] </i></b>\n",
    "\n",
    "The Expression can be the same variable as item, but it can be something else.\n",
    "\n",
    "An iterable can be a string, a tuple, or any other iterable that you can think of."
   ]
  },
  {
   "cell_type": "code",
   "execution_count": 21,
   "id": "2a1fa08e",
   "metadata": {},
   "outputs": [
    {
     "name": "stdout",
     "output_type": "stream",
     "text": [
      "[0, 1, 2, 3, 4, 5, 6, 7, 8, 9]\n"
     ]
    }
   ],
   "source": [
    "j=[i for i in range(10)]\n",
    "print(j)"
   ]
  },
  {
   "cell_type": "markdown",
   "id": "fb76dcac",
   "metadata": {},
   "source": [
    "Obviously, there is a different way to generate a list without relying on list comprehension."
   ]
  },
  {
   "cell_type": "code",
   "execution_count": 22,
   "id": "681b9f48",
   "metadata": {},
   "outputs": [
    {
     "data": {
      "text/plain": [
       "[0, 1, 2, 3, 4, 5, 6, 7, 8, 9]"
      ]
     },
     "execution_count": 22,
     "metadata": {},
     "output_type": "execute_result"
    }
   ],
   "source": [
    "list(range(10))"
   ]
  },
  {
   "cell_type": "markdown",
   "id": "14d8a344",
   "metadata": {},
   "source": [
    "Which is a bit more compact than the list comprehension above. Let's first look at how to generate  even number from 1 to 10 using a traditional for loop."
   ]
  },
  {
   "cell_type": "code",
   "execution_count": 23,
   "id": "f0f090bf",
   "metadata": {},
   "outputs": [
    {
     "name": "stdout",
     "output_type": "stream",
     "text": [
      "2\n",
      "4\n",
      "6\n",
      "8\n",
      "10\n"
     ]
    }
   ],
   "source": [
    "for i in range(1,11):\n",
    "    if i%2==0:\n",
    "        print(i)"
   ]
  },
  {
   "cell_type": "markdown",
   "id": "77eb794c",
   "metadata": {},
   "source": [
    "Here is a more compact way by using list comprehension."
   ]
  },
  {
   "cell_type": "code",
   "execution_count": 24,
   "id": "2ddb01f3",
   "metadata": {},
   "outputs": [
    {
     "data": {
      "text/plain": [
       "[2, 4, 6, 8, 10]"
      ]
     },
     "execution_count": 24,
     "metadata": {},
     "output_type": "execute_result"
    }
   ],
   "source": [
    "[j for j in range(1,11) if j%2==0]"
   ]
  },
  {
   "cell_type": "markdown",
   "id": "7af3ddb6",
   "metadata": {},
   "source": [
    "How about prime number."
   ]
  },
  {
   "cell_type": "code",
   "execution_count": 25,
   "id": "75c3f267",
   "metadata": {},
   "outputs": [
    {
     "data": {
      "text/plain": [
       "[1, 2, 3, 5, 7, 11, 13, 17, 19]"
      ]
     },
     "execution_count": 25,
     "metadata": {},
     "output_type": "execute_result"
    }
   ],
   "source": [
    "[j for j in range(1,20) if 0 not in [j%k for k in range(2,j)]]"
   ]
  },
  {
   "cell_type": "markdown",
   "id": "7acccd49",
   "metadata": {},
   "source": [
    "It is also easy to make a script that print non-prime numbers as follows."
   ]
  },
  {
   "cell_type": "code",
   "execution_count": 26,
   "id": "13f65928",
   "metadata": {},
   "outputs": [
    {
     "data": {
      "text/plain": [
       "[4, 6, 8, 9, 10, 12, 14, 15, 16, 18]"
      ]
     },
     "execution_count": 26,
     "metadata": {},
     "output_type": "execute_result"
    }
   ],
   "source": [
    "[j for j in range(20) if 0 in [j%k for k in range(2,j)]]"
   ]
  },
  {
   "cell_type": "markdown",
   "id": "e57b6679",
   "metadata": {},
   "source": [
    "Here, the second nested loop comprehension tests to see if each value of j is divisible by a number >1."
   ]
  },
  {
   "cell_type": "markdown",
   "id": "1f34f57f",
   "metadata": {},
   "source": [
    "What if want to convert each value in a list to a string.  The following will not work."
   ]
  },
  {
   "cell_type": "code",
   "execution_count": 27,
   "id": "52e410ec",
   "metadata": {},
   "outputs": [
    {
     "data": {
      "text/plain": [
       "'[1, 2, 3, 4, 5]'"
      ]
     },
     "execution_count": 27,
     "metadata": {},
     "output_type": "execute_result"
    }
   ],
   "source": [
    "a=[1,2,3,4,5]\n",
    "b=str(a)\n",
    "b"
   ]
  },
  {
   "cell_type": "markdown",
   "id": "d9f372f0",
   "metadata": {},
   "source": [
    "This can be done in a single line using list comprehension"
   ]
  },
  {
   "cell_type": "code",
   "execution_count": 28,
   "id": "819f6840",
   "metadata": {},
   "outputs": [
    {
     "data": {
      "text/plain": [
       "['1', '2', '3', '4', '5']"
      ]
     },
     "execution_count": 28,
     "metadata": {},
     "output_type": "execute_result"
    }
   ],
   "source": [
    "[str(j) for j in a]"
   ]
  },
  {
   "cell_type": "markdown",
   "id": "2593cee7",
   "metadata": {},
   "source": [
    "Some other examples.  Repeat a number or character multiple times"
   ]
  },
  {
   "cell_type": "code",
   "execution_count": 29,
   "id": "daf70e63",
   "metadata": {},
   "outputs": [
    {
     "name": "stdout",
     "output_type": "stream",
     "text": [
      "[1, 1, 1, 1, 1, 1, 1, 1, 1, 1]\n",
      "['orange', 'orange', 'orange', 'orange', 'orange']\n"
     ]
    }
   ],
   "source": [
    "print([1 for i in range(10)])\n",
    "print(['orange' for i in range(5)])"
   ]
  },
  {
   "cell_type": "markdown",
   "id": "d586c395",
   "metadata": {},
   "source": [
    "## <a id=\"Dictionarycomp\">Dictionary Comprehension </a>"
   ]
  },
  {
   "cell_type": "markdown",
   "id": "e1a980f8",
   "metadata": {},
   "source": [
    "Dictionary Comprehensions are similar to List Comprehensions, except that it creates a dictionary rather than a list.\n",
    "\n",
    "The syntax is:\n",
    "\n",
    "<b></i>{key:value for (key,value) in iterable} </b></i>\n",
    "\n",
    "A basic example of this:"
   ]
  },
  {
   "cell_type": "code",
   "execution_count": 30,
   "id": "df830c7e",
   "metadata": {},
   "outputs": [
    {
     "data": {
      "text/plain": [
       "{1: 2, 3: 4, 5: 6}"
      ]
     },
     "execution_count": 30,
     "metadata": {},
     "output_type": "execute_result"
    }
   ],
   "source": [
    "{key:value for (key,value) in ((1,2),(3,4),(5,6))}"
   ]
  },
  {
   "cell_type": "markdown",
   "id": "74b844fc",
   "metadata": {},
   "source": [
    "We can combine this we zip as follows:"
   ]
  },
  {
   "cell_type": "code",
   "execution_count": 31,
   "id": "b90d7560",
   "metadata": {},
   "outputs": [
    {
     "name": "stdout",
     "output_type": "stream",
     "text": [
      "{'fruit': ['apple', 'banana', 'mango'], 'vegetable': ['spinach', 'broccoli', 'asparagus']}\n",
      "['apple', 'banana', 'mango']\n"
     ]
    }
   ],
   "source": [
    "keys=['fruit','vegetable']\n",
    "values=[['apple','banana','mango'],['spinach','broccoli','asparagus']]\n",
    "new_dict={keys:values for (keys,values)in zip(keys,values)}\n",
    "print(new_dict)\n",
    "print(new_dict['fruit'])"
   ]
  },
  {
   "cell_type": "code",
   "execution_count": 32,
   "id": "72eedfba",
   "metadata": {},
   "outputs": [
    {
     "data": {
      "text/plain": [
       "{'fruit': 'apple', 'vegetable': 'spinach'}"
      ]
     },
     "execution_count": 32,
     "metadata": {},
     "output_type": "execute_result"
    }
   ],
   "source": [
    "{key:value[0] for (key,value) in new_dict.items() if value[0]==\"spinach\" or value[0]==\"apple\"}"
   ]
  },
  {
   "cell_type": "markdown",
   "id": "abc8f86b",
   "metadata": {},
   "source": [
    "The above line creates a new dictionary that maps fruit or vegetable to spinach or apple, and no longer has lists as values"
   ]
  },
  {
   "cell_type": "markdown",
   "id": "2c00dc18",
   "metadata": {},
   "source": [
    "## <a id=\"LambdaFunc\"> Lambda Functions</a>"
   ]
  },
  {
   "cell_type": "markdown",
   "id": "2d28e08e",
   "metadata": {},
   "source": [
    "Lambda functions are anonymous functions.  They do not have a name associated with them.  They can be used for sorting, where we want to specify key to sort by.  Here is an example, where I sort a dictionary."
   ]
  },
  {
   "cell_type": "code",
   "execution_count": 33,
   "id": "3bd88342",
   "metadata": {},
   "outputs": [],
   "source": [
    "example_dict={\"a\":1,\n",
    "             \"b\":20,\n",
    "             \"c\":9,\n",
    "             \"d\":2,\n",
    "             \"e\":11}"
   ]
  },
  {
   "cell_type": "code",
   "execution_count": 34,
   "id": "2a0f7475",
   "metadata": {},
   "outputs": [
    {
     "data": {
      "text/plain": [
       "['a', 'b', 'c', 'd', 'e']"
      ]
     },
     "execution_count": 34,
     "metadata": {},
     "output_type": "execute_result"
    }
   ],
   "source": [
    "sorted(example_dict)"
   ]
  },
  {
   "cell_type": "code",
   "execution_count": 35,
   "id": "906b12c2",
   "metadata": {},
   "outputs": [
    {
     "data": {
      "text/plain": [
       "[('a', 1), ('b', 20), ('c', 9), ('d', 2), ('e', 11)]"
      ]
     },
     "execution_count": 35,
     "metadata": {},
     "output_type": "execute_result"
    }
   ],
   "source": [
    "sorted(example_dict.items())"
   ]
  },
  {
   "cell_type": "code",
   "execution_count": 36,
   "id": "cc1b03a2",
   "metadata": {},
   "outputs": [
    {
     "data": {
      "text/plain": [
       "{'a': 1, 'd': 2, 'c': 9, 'e': 11, 'b': 20}"
      ]
     },
     "execution_count": 36,
     "metadata": {},
     "output_type": "execute_result"
    }
   ],
   "source": [
    "dict(sorted(example_dict.items(),key=lambda x:x[1]))"
   ]
  },
  {
   "cell_type": "markdown",
   "id": "29d0c253",
   "metadata": {},
   "source": [
    "Here, we used an anonymous lambda function to extract the second value of example_dict.items()"
   ]
  },
  {
   "cell_type": "markdown",
   "id": "a7e96333",
   "metadata": {},
   "source": [
    "It can also be used with the filter and map functions.  First, the filter function.  The filter function requires the first argument to be a function."
   ]
  },
  {
   "cell_type": "code",
   "execution_count": 37,
   "id": "ccbde280",
   "metadata": {},
   "outputs": [],
   "source": [
    "a=[1,10,20,40,15]"
   ]
  },
  {
   "cell_type": "code",
   "execution_count": 38,
   "id": "6e2513c0",
   "metadata": {},
   "outputs": [
    {
     "data": {
      "text/plain": [
       "[20, 40, 15]"
      ]
     },
     "execution_count": 38,
     "metadata": {},
     "output_type": "execute_result"
    }
   ],
   "source": [
    "list(filter(lambda x:x>10,a))"
   ]
  },
  {
   "cell_type": "markdown",
   "id": "318d9530",
   "metadata": {},
   "source": [
    "Obviously, the command above can be done using a list comprehension as well (as was shown before).\n",
    "We can also use lambda functions with map() as follows.  Using map, we map each value in a list to a function."
   ]
  },
  {
   "cell_type": "code",
   "execution_count": 39,
   "id": "6b59727d",
   "metadata": {},
   "outputs": [
    {
     "data": {
      "text/plain": [
       "[1, 1000, 8000, 64000, 3375]"
      ]
     },
     "execution_count": 39,
     "metadata": {},
     "output_type": "execute_result"
    }
   ],
   "source": [
    "list(map(lambda a:a**3,a))"
   ]
  },
  {
   "cell_type": "markdown",
   "id": "dbbe79d2",
   "metadata": {},
   "source": [
    "In most cases, a list comprehension can do what a filter or map can do, and therefore I feel that these functions don't seem all that useful."
   ]
  },
  {
   "cell_type": "markdown",
   "id": "8b3196b9",
   "metadata": {},
   "source": [
    "## <a id=\"Import\"> Working with Modules </a>\n",
    "\n",
    "The import command is used to import different modules, just as we used the library() function in R to import different library.  For example, say that we want to find a square root of a number.  We can import the math module."
   ]
  },
  {
   "cell_type": "code",
   "execution_count": 40,
   "id": "180d0311",
   "metadata": {},
   "outputs": [],
   "source": [
    "import math\n",
    "import numpy as np\n",
    "from math import sqrt"
   ]
  },
  {
   "cell_type": "markdown",
   "id": "669e78ae-146d-44b2-acea-4adf907de3eb",
   "metadata": {},
   "source": [
    "In the above examples, to import a module you are interested in, you just specify the name of the module after the import keyword.  If you want to specify a specific function as as sqrt, you can use the \"from <module> import <function>\" command."
   ]
  },
  {
   "cell_type": "markdown",
   "id": "582dfb5a-96ea-4df4-9564-39da3350b93b",
   "metadata": {},
   "source": [
    "## <a id=\"math\">The math module </a>"
   ]
  },
  {
   "cell_type": "markdown",
   "id": "1156af0e-4c46-465f-b72d-f41a7ce8072e",
   "metadata": {},
   "source": [
    "I am not going to cover math in big detail, but it can be used for performing operations such as calculating the square root of a number, extracting the value of pi, the power function, etc. It can also deal with trigonometry (cos, sign, etc>.  I use the dir command to print the different functions available in the math module."
   ]
  },
  {
   "cell_type": "code",
   "execution_count": 41,
   "id": "06a4b52c",
   "metadata": {},
   "outputs": [
    {
     "name": "stdout",
     "output_type": "stream",
     "text": [
      "2.0\n",
      "3.141592653589793\n",
      "100.0\n"
     ]
    },
    {
     "data": {
      "text/plain": [
       "['__doc__',\n",
       " '__loader__',\n",
       " '__name__',\n",
       " '__package__',\n",
       " '__spec__',\n",
       " 'acos',\n",
       " 'acosh',\n",
       " 'asin',\n",
       " 'asinh',\n",
       " 'atan',\n",
       " 'atan2',\n",
       " 'atanh',\n",
       " 'ceil',\n",
       " 'comb',\n",
       " 'copysign',\n",
       " 'cos',\n",
       " 'cosh',\n",
       " 'degrees',\n",
       " 'dist',\n",
       " 'e',\n",
       " 'erf',\n",
       " 'erfc',\n",
       " 'exp',\n",
       " 'expm1',\n",
       " 'fabs',\n",
       " 'factorial',\n",
       " 'floor',\n",
       " 'fmod',\n",
       " 'frexp',\n",
       " 'fsum',\n",
       " 'gamma',\n",
       " 'gcd',\n",
       " 'hypot',\n",
       " 'inf',\n",
       " 'isclose',\n",
       " 'isfinite',\n",
       " 'isinf',\n",
       " 'isnan',\n",
       " 'isqrt',\n",
       " 'lcm',\n",
       " 'ldexp',\n",
       " 'lgamma',\n",
       " 'log',\n",
       " 'log10',\n",
       " 'log1p',\n",
       " 'log2',\n",
       " 'modf',\n",
       " 'nan',\n",
       " 'nextafter',\n",
       " 'perm',\n",
       " 'pi',\n",
       " 'pow',\n",
       " 'prod',\n",
       " 'radians',\n",
       " 'remainder',\n",
       " 'sin',\n",
       " 'sinh',\n",
       " 'sqrt',\n",
       " 'tan',\n",
       " 'tanh',\n",
       " 'tau',\n",
       " 'trunc',\n",
       " 'ulp']"
      ]
     },
     "execution_count": 41,
     "metadata": {},
     "output_type": "execute_result"
    }
   ],
   "source": [
    "import math\n",
    "print(math.sqrt(4))\n",
    "print(math.pi)\n",
    "print(math.pow(10,2))\n",
    "dir(math)"
   ]
  },
  {
   "cell_type": "code",
   "execution_count": 42,
   "id": "43f562ed",
   "metadata": {},
   "outputs": [
    {
     "data": {
      "text/plain": [
       "4.47213595499958"
      ]
     },
     "execution_count": 42,
     "metadata": {},
     "output_type": "execute_result"
    }
   ],
   "source": [
    "sqrt(20)"
   ]
  },
  {
   "cell_type": "markdown",
   "id": "b4e400d9",
   "metadata": {},
   "source": [
    "Because we imported the sqrt function from math, we no long have to use \"math.sqrt) to call the function."
   ]
  },
  {
   "cell_type": "code",
   "execution_count": 43,
   "id": "b2da7c4e",
   "metadata": {},
   "outputs": [
    {
     "name": "stdout",
     "output_type": "stream",
     "text": [
      "10.000000000000002\n"
     ]
    }
   ],
   "source": [
    "print(math.e**math.log(10))"
   ]
  },
  {
   "cell_type": "markdown",
   "id": "9b9fa0b5-3466-4679-8e7f-8b7d3a3b0acc",
   "metadata": {},
   "source": [
    "Let's also try the ceil funtion."
   ]
  },
  {
   "cell_type": "code",
   "execution_count": 44,
   "id": "b42f354c-f761-4551-89e5-36aea1b25a1c",
   "metadata": {},
   "outputs": [
    {
     "data": {
      "text/plain": [
       "4"
      ]
     },
     "execution_count": 44,
     "metadata": {},
     "output_type": "execute_result"
    }
   ],
   "source": [
    "math.ceil(3.5)"
   ]
  },
  {
   "cell_type": "code",
   "execution_count": 45,
   "id": "71d24584-9ee5-4b68-aeec-13db7f74e783",
   "metadata": {},
   "outputs": [
    {
     "data": {
      "text/plain": [
       "4"
      ]
     },
     "execution_count": 45,
     "metadata": {},
     "output_type": "execute_result"
    }
   ],
   "source": [
    "math.ceil(3.1)"
   ]
  },
  {
   "cell_type": "code",
   "execution_count": 46,
   "id": "2fc6f998-79dd-48ee-87c1-59c1b858f05d",
   "metadata": {},
   "outputs": [
    {
     "data": {
      "text/plain": [
       "3"
      ]
     },
     "execution_count": 46,
     "metadata": {},
     "output_type": "execute_result"
    }
   ],
   "source": [
    "math.floor(3.1)"
   ]
  },
  {
   "cell_type": "markdown",
   "id": "3858651a-ff82-42a7-a2b8-37624c3331e7",
   "metadata": {},
   "source": [
    "The ceil function prints the ceiling, while the floor function prints the floor. The ceiling of 3.1 is 4, while the floor is 3."
   ]
  }
 ],
 "metadata": {
  "kernelspec": {
   "display_name": "Python 3 (ipykernel)",
   "language": "python",
   "name": "python3"
  },
  "language_info": {
   "codemirror_mode": {
    "name": "ipython",
    "version": 3
   },
   "file_extension": ".py",
   "mimetype": "text/x-python",
   "name": "python",
   "nbconvert_exporter": "python",
   "pygments_lexer": "ipython3",
   "version": "3.10.9"
  }
 },
 "nbformat": 4,
 "nbformat_minor": 5
}
