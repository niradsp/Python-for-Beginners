{
 "cells": [
  {
   "cell_type": "markdown",
   "id": "9dc30886",
   "metadata": {},
   "source": [
    "![python image](https://www.python.org/static/img/python-logo@2x.png)"
   ]
  },
  {
   "cell_type": "markdown",
   "id": "7a279f82",
   "metadata": {},
   "source": [
    "# <center> Python Tutorial -Session 1b</center>\n"
   ]
  },
  {
   "cell_type": "markdown",
   "id": "288143a2-8192-4c5e-ba00-3f4aa397af34",
   "metadata": {},
   "source": [
    "## What we covered in our previous session:\n",
    "- Print/Input \n",
    "- Variables\n",
    "- Function\n",
    "- Loop"
   ]
  },
  {
   "cell_type": "markdown",
   "id": "54ac1dcc",
   "metadata": {},
   "source": [
    " - ### [Data Structures](#data)\n",
    "     - [Tuple](#tuple)\n",
    "     - [List](#list)\n",
    "     - [Dictionary](#dictionary)\n",
    "     - [Set](#set)\n",
    " - ### [String Operations](#string)\n",
    " - ### [Saving to a file](#file)\n"
   ]
  },
  {
   "cell_type": "markdown",
   "id": "bea98ad7",
   "metadata": {},
   "source": [
    "## <a id=\"data\">Data Structures</a>"
   ]
  },
  {
   "cell_type": "markdown",
   "id": "7a73140a-a94a-4129-8781-76faa3bb6e9f",
   "metadata": {},
   "source": [
    "In python (and any other programming languages), data structures are basically containers that allow you to store a collection of data.<br>\n",
    "There are multiple builtin data structures in python.  The table below gives a breakdown on when they can be used.  \n",
    "\n",
    "<b>Tuple</b>(Immutable): Use with round brackets, i.e. <font size=\"+2\">()</font>\n",
    "\n",
    "<b>List(Mutable)</b>: Use with square brackets, i.e. <font size=\"+2\"> []</font>\n",
    "\n",
    "<b>Sets(No duplicate elements)</b>:Use with curly brackets, i.e. <font size=\"+2\"> {} </font>\n",
    "\n",
    "<b>Dictionaries(Key-value pairs)</b>:Use with curly brackets <font size=\"+2\"> {} </font>"
   ]
  },
  {
   "cell_type": "markdown",
   "id": "f846152d",
   "metadata": {},
   "source": [
    "### <a id=\"tuple\">Tuple</a>"
   ]
  },
  {
   "cell_type": "markdown",
   "id": "b3916585",
   "metadata": {},
   "source": [
    "A tuple is one of the ways to store a collection of data.  It is \"immutable\" in the sense that you are unable to change the values.  This is in contrast to a list, which allows you to change the data. You use round brackets to denote a tuple as follow"
   ]
  },
  {
   "cell_type": "code",
   "execution_count": 1,
   "id": "337d37c4",
   "metadata": {},
   "outputs": [],
   "source": [
    "a=(1,2,3)"
   ]
  },
  {
   "cell_type": "markdown",
   "id": "30723a8f",
   "metadata": {},
   "source": [
    "Here are some simple stuff that you can do with a tuple.  You can print the length of your collections, find the sum, find the minimum, find the maximum, etc."
   ]
  },
  {
   "cell_type": "code",
   "execution_count": 2,
   "id": "0fb3b72b",
   "metadata": {},
   "outputs": [
    {
     "data": {
      "text/plain": [
       "tuple"
      ]
     },
     "execution_count": 2,
     "metadata": {},
     "output_type": "execute_result"
    }
   ],
   "source": [
    "type(a)"
   ]
  },
  {
   "cell_type": "markdown",
   "id": "a0d6cc83",
   "metadata": {},
   "source": [
    "The following command, where I am trying to change the value of index 0, will not work in a tuple. This will result in a type error.\n",
    "\n",
    "a=(1,2,3)\n",
    "\n",
    "a[0]=10"
   ]
  },
  {
   "cell_type": "markdown",
   "id": "cb946857",
   "metadata": {},
   "source": [
    "By the way, you can use indexing and slicing with tuple. In python, the first index starts at 0, and the last index is equal to length of the collection minus 1."
   ]
  },
  {
   "cell_type": "code",
   "execution_count": 5,
   "id": "58871d61",
   "metadata": {},
   "outputs": [
    {
     "name": "stdout",
     "output_type": "stream",
     "text": [
      "1\n",
      "3\n",
      "3\n"
     ]
    }
   ],
   "source": [
    "a=(1,2,3)\n",
    "print(a[0])\n",
    "print(a[len(a)-1])\n",
    "print(a[2])"
   ]
  },
  {
   "cell_type": "markdown",
   "id": "6b79a9af",
   "metadata": {},
   "source": [
    "In order to create a slice of your collection, you use the : operator, and you supply the range.  Note that the last index value does not count"
   ]
  },
  {
   "cell_type": "code",
   "execution_count": 6,
   "id": "6b3c11ef",
   "metadata": {},
   "outputs": [
    {
     "name": "stdout",
     "output_type": "stream",
     "text": [
      "(1, 2, 3)\n"
     ]
    }
   ],
   "source": [
    "a=(1,2,3,4,5,6,7)\n",
    "print(a[0:3])"
   ]
  },
  {
   "cell_type": "code",
   "execution_count": 7,
   "id": "29a07b36",
   "metadata": {},
   "outputs": [
    {
     "data": {
      "text/plain": [
       "6"
      ]
     },
     "execution_count": 7,
     "metadata": {},
     "output_type": "execute_result"
    }
   ],
   "source": [
    "a[-2]"
   ]
  },
  {
   "cell_type": "markdown",
   "id": "59301c94-3ea1-412e-b2e5-b583611ca7ca",
   "metadata": {},
   "source": [
    "You can find the length of a tuple as follow:"
   ]
  },
  {
   "cell_type": "code",
   "execution_count": 8,
   "id": "9dd24031",
   "metadata": {},
   "outputs": [
    {
     "data": {
      "text/plain": [
       "7"
      ]
     },
     "execution_count": 8,
     "metadata": {},
     "output_type": "execute_result"
    }
   ],
   "source": [
    "len(a)"
   ]
  },
  {
   "cell_type": "markdown",
   "id": "3ac56596-c35a-494b-9ba6-ae51ac47121a",
   "metadata": {},
   "source": [
    "You can also sum the tuple"
   ]
  },
  {
   "cell_type": "code",
   "execution_count": 9,
   "id": "7af3692c",
   "metadata": {},
   "outputs": [
    {
     "data": {
      "text/plain": [
       "28"
      ]
     },
     "execution_count": 9,
     "metadata": {},
     "output_type": "execute_result"
    }
   ],
   "source": [
    "sum(a)"
   ]
  },
  {
   "cell_type": "markdown",
   "id": "f616b8d0-34a3-4a24-afe1-cb56430f351e",
   "metadata": {},
   "source": [
    "Find the minimum."
   ]
  },
  {
   "cell_type": "code",
   "execution_count": 10,
   "id": "980a42a8",
   "metadata": {},
   "outputs": [
    {
     "data": {
      "text/plain": [
       "1"
      ]
     },
     "execution_count": 10,
     "metadata": {},
     "output_type": "execute_result"
    }
   ],
   "source": [
    "min(a)"
   ]
  },
  {
   "cell_type": "markdown",
   "id": "5c580a47-2847-41f9-99d6-2a40bb337ae4",
   "metadata": {},
   "source": [
    "Find the maximum"
   ]
  },
  {
   "cell_type": "code",
   "execution_count": 11,
   "id": "6f310468",
   "metadata": {},
   "outputs": [
    {
     "data": {
      "text/plain": [
       "7"
      ]
     },
     "execution_count": 11,
     "metadata": {},
     "output_type": "execute_result"
    }
   ],
   "source": [
    "max(a)"
   ]
  },
  {
   "cell_type": "markdown",
   "id": "d1876590",
   "metadata": {},
   "source": [
    "Note that you can sort a tuple.  However the output is a list as the square bracket below suggests."
   ]
  },
  {
   "cell_type": "code",
   "execution_count": 14,
   "id": "fd8c8825",
   "metadata": {},
   "outputs": [
    {
     "name": "stdout",
     "output_type": "stream",
     "text": [
      "<class 'tuple'>\n",
      "[4, 6, 9, 11]\n",
      "<class 'list'>\n",
      "(4, 6, 9, 11)\n"
     ]
    }
   ],
   "source": [
    "a=(11, 9,4,6)\n",
    "print(type(a))\n",
    "print(sorted(a))\n",
    "print(type(sorted(a)))\n",
    "print(tuple(sorted(a)))"
   ]
  },
  {
   "cell_type": "markdown",
   "id": "a1c9a934",
   "metadata": {},
   "source": [
    "You can use either a tuple(or a list as I will show below) with a loop.  The first example is using the index.  We use the range command in conjunction with len to get the index"
   ]
  },
  {
   "cell_type": "code",
   "execution_count": 15,
   "id": "4759bc59",
   "metadata": {},
   "outputs": [
    {
     "name": "stdout",
     "output_type": "stream",
     "text": [
      "apple\n",
      "banana\n",
      "pineapple\n",
      "mango\n"
     ]
    }
   ],
   "source": [
    "a=(\"apple\",\"banana\",\"pineapple\",\"mango\")\n",
    "for i in range(len(a)):\n",
    "    print(a[i])"
   ]
  },
  {
   "cell_type": "markdown",
   "id": "d574b799",
   "metadata": {},
   "source": [
    "The \"in\" operator can also be used to test whether an item can be found in a tuple or not, as follows."
   ]
  },
  {
   "cell_type": "code",
   "execution_count": 16,
   "id": "37cb0a8d",
   "metadata": {},
   "outputs": [
    {
     "data": {
      "text/plain": [
       "True"
      ]
     },
     "execution_count": 16,
     "metadata": {},
     "output_type": "execute_result"
    }
   ],
   "source": [
    "\"apple\" in a"
   ]
  },
  {
   "cell_type": "code",
   "execution_count": 17,
   "id": "2add3021",
   "metadata": {},
   "outputs": [
    {
     "data": {
      "text/plain": [
       "False"
      ]
     },
     "execution_count": 17,
     "metadata": {},
     "output_type": "execute_result"
    }
   ],
   "source": [
    "\"orange\" in a"
   ]
  },
  {
   "cell_type": "markdown",
   "id": "73614994",
   "metadata": {},
   "source": [
    "Alternatively, you can use \"in\" as follows:"
   ]
  },
  {
   "cell_type": "code",
   "execution_count": 18,
   "id": "a6b3f24d",
   "metadata": {},
   "outputs": [
    {
     "name": "stdout",
     "output_type": "stream",
     "text": [
      "apple\n",
      "banana\n",
      "pineapple\n",
      "mango\n"
     ]
    }
   ],
   "source": [
    "b=(\"apple\",\"banana\",\"pineapple\",\"mango\")\n",
    "for fruit in b:\n",
    "    print(fruit)"
   ]
  },
  {
   "cell_type": "markdown",
   "id": "8ec855cb",
   "metadata": {},
   "source": [
    "Concatenating tuple. It can be done as follows"
   ]
  },
  {
   "cell_type": "code",
   "execution_count": 19,
   "id": "d85727ac",
   "metadata": {},
   "outputs": [
    {
     "name": "stdout",
     "output_type": "stream",
     "text": [
      "(1, 2, 3, 'apple', 'banana', 'orange')\n"
     ]
    }
   ],
   "source": [
    "a=(1,2,3)\n",
    "b=(\"apple\",\"banana\",\"orange\")\n",
    "c=a+b\n",
    "print(c)"
   ]
  },
  {
   "cell_type": "markdown",
   "id": "9d3be316-f9c6-4a1b-8bca-7192e4d5cd77",
   "metadata": {},
   "source": [
    "##### Exercise 10\n",
    "<i>  Given a tuple of motifs and a sequence, print the motif if it is found in the sequence. </i>.\n",
    "\n",
    "<i> If none of the motifs are found in the sequence, return \"None of the motifs are found in the sequence\"\n",
    "    \n",
    "Time: <b> 2 minutes </b>"
   ]
  },
  {
   "cell_type": "markdown",
   "id": "c169cb0b-a590-41b5-8ea8-3ddf0b2b7976",
   "metadata": {},
   "source": [
    "------------"
   ]
  },
  {
   "cell_type": "code",
   "execution_count": 20,
   "id": "5c5e2a9e-505f-40e6-8890-737f8fc1124c",
   "metadata": {},
   "outputs": [],
   "source": [
    "def find_motifs(motifs, sequence):\n",
    "    ##Code here\n",
    "        pass "
   ]
  },
  {
   "cell_type": "code",
   "execution_count": 21,
   "id": "5ae5cc1e-b74c-480b-88d3-e666a9d26a8c",
   "metadata": {},
   "outputs": [],
   "source": [
    "find_motifs((\"ATGC\",\"GGCA\",\"ATGG\"),\"ATGGCA\")"
   ]
  },
  {
   "cell_type": "code",
   "execution_count": 22,
   "id": "d64b5480-0cb0-43f7-9034-37fe34ea93d2",
   "metadata": {},
   "outputs": [],
   "source": [
    "find_motifs((\"AGCA\",\"GGCA\",\"GGGG\"),\"GGGGAAGCCCC\")"
   ]
  },
  {
   "cell_type": "code",
   "execution_count": 23,
   "id": "1b49dc8f-19a2-4d66-8620-fb4a92ead3b6",
   "metadata": {},
   "outputs": [],
   "source": [
    "find_motifs((\"AAAAA\",\"GGGGG\"),\"ATGCA\")"
   ]
  },
  {
   "cell_type": "markdown",
   "id": "09ae38dd",
   "metadata": {},
   "source": [
    "### <a id=\"list\">List </a>\n",
    "A list is another way to store a collection of data.  A list starts and ends with square brackets(i.e. \"[\" and \"]\"). Some example of lists below\n",
    "You use lists if you want to change your data and perform manipulations on it.\n",
    "Tuple on the other hand is faster. If you want speed and you don't want to change the original data, you go with tuple."
   ]
  },
  {
   "cell_type": "code",
   "execution_count": 24,
   "id": "2cc50ae6",
   "metadata": {},
   "outputs": [
    {
     "name": "stdout",
     "output_type": "stream",
     "text": [
      "list 1:[1, 2, 3, 4, 5]\n",
      "list2:['a', 'b', 'c', 'd', 'e']\n",
      "list 3:['a', 1, 2, 3]\n"
     ]
    }
   ],
   "source": [
    "list1=[1,2,3,4,5]\n",
    "list2=[\"a\",\"b\",\"c\",\"d\",\"e\"]\n",
    "list3=[\"a\",1,2,3]\n",
    "print(f\"list 1:{list1}\")\n",
    "print(f\"list2:{list2}\")\n",
    "print(f\"list 3:{list3}\")"
   ]
  },
  {
   "cell_type": "markdown",
   "id": "b124cbf6",
   "metadata": {},
   "source": [
    "A list is \"mutable\", meaning that you are able to change values.  Note that a list is 0-indexed.  "
   ]
  },
  {
   "cell_type": "code",
   "execution_count": 25,
   "id": "7e62413f",
   "metadata": {},
   "outputs": [
    {
     "name": "stdout",
     "output_type": "stream",
     "text": [
      "List 1 before modification: [1, 2, 3, 4, 5]\n",
      "List 1 after modification:[10, 2, 3, 4, 5]\n"
     ]
    }
   ],
   "source": [
    "list1=[1,2,3,4,5]\n",
    "print(f\"List 1 before modification: {list1}\")\n",
    "list1[0]=10\n",
    "print(f\"List 1 after modification:{list1}\")"
   ]
  },
  {
   "cell_type": "markdown",
   "id": "18f6f44c",
   "metadata": {},
   "source": [
    "Be careful when you assign a list to another variable.  If this second list is changed, the first list will also change"
   ]
  },
  {
   "cell_type": "code",
   "execution_count": 26,
   "id": "fe43a402",
   "metadata": {},
   "outputs": [
    {
     "name": "stdout",
     "output_type": "stream",
     "text": [
      "List 1 before changing List2 [1, 2, 3, 4, 5]\n",
      "List 1 after changing list2 [10, 2, 3, 4, 5]\n"
     ]
    }
   ],
   "source": [
    "list1=[1,2,3,4,5]\n",
    "list2=list1\n",
    "print(f\"List 1 before changing List2 {list1}\")\n",
    "list2[0]=10\n",
    "print(f\"List 1 after changing list2 {list1}\")\n"
   ]
  },
  {
   "cell_type": "markdown",
   "id": "508d2569",
   "metadata": {},
   "source": [
    "Notice above that list 1 was never changed.  Only list 2 was changed.  However, list 1 also changed when list 2 was changed. In order to rectify this, you can use the .copy() method"
   ]
  },
  {
   "cell_type": "code",
   "execution_count": 27,
   "id": "9c7c40fa",
   "metadata": {},
   "outputs": [
    {
     "name": "stdout",
     "output_type": "stream",
     "text": [
      "List 1 before changing List 2[1, 2, 3, 4, 5]\n",
      "List 1 after changing List 2[1, 2, 3, 4, 5]\n"
     ]
    }
   ],
   "source": [
    "list1=[1,2,3,4,5]\n",
    "list2=list1.copy()\n",
    "print(f\"List 1 before changing List 2{list1}\")\n",
    "list2[0]=10\n",
    "print(f\"List 1 after changing List 2{list1}\")"
   ]
  },
  {
   "cell_type": "markdown",
   "id": "ebd37c5c",
   "metadata": {},
   "source": [
    "You can create slices of a list"
   ]
  },
  {
   "cell_type": "code",
   "execution_count": 28,
   "id": "18d0fe1f",
   "metadata": {},
   "outputs": [
    {
     "name": "stdout",
     "output_type": "stream",
     "text": [
      "1\n"
     ]
    }
   ],
   "source": [
    "list1=[1,2,3,4]\n",
    "list2=list1[0]\n",
    "print(list2)"
   ]
  },
  {
   "cell_type": "markdown",
   "id": "386ea0e8",
   "metadata": {},
   "source": [
    "The \":\" operator can be used to specify the range.  For example list1[0:4].  Note that index #4 is not counted. The slice only goes from 0 to 3. Notice though that you when you assign using the slice method, then list 1 is not modified."
   ]
  },
  {
   "cell_type": "code",
   "execution_count": 29,
   "id": "a6943b0f",
   "metadata": {},
   "outputs": [
    {
     "name": "stdout",
     "output_type": "stream",
     "text": [
      "[12, 2, 3, 4]\n",
      "[1, 2, 3, 4]\n"
     ]
    }
   ],
   "source": [
    "list1=[1,2,3,4]\n",
    "list2=list1[0:4]\n",
    "list2[0]=12\n",
    "print(list2)\n",
    "print(list1)"
   ]
  },
  {
   "cell_type": "markdown",
   "id": "286835e8",
   "metadata": {},
   "source": [
    "Notice though that when you assign list 2 to list 1 using the \"=\" operator and modify list 2, list 1 also changes.  "
   ]
  },
  {
   "cell_type": "code",
   "execution_count": 31,
   "id": "7136ad77",
   "metadata": {},
   "outputs": [
    {
     "name": "stdout",
     "output_type": "stream",
     "text": [
      "[1, 2, 9, 6]\n",
      "[1, 2, 9, 6]\n"
     ]
    }
   ],
   "source": [
    "list1=[1,2,3,4]\n",
    "list2=list1\n",
    "list2[2:4]=[9,6]\n",
    "print(list2)\n",
    "print(list1)"
   ]
  },
  {
   "cell_type": "markdown",
   "id": "38485ce9-fb28-49f5-86b9-aabb4839a147",
   "metadata": {},
   "source": [
    "If you want to assign to a new list, assign the slice directly"
   ]
  },
  {
   "cell_type": "code",
   "execution_count": 32,
   "id": "28b1251c",
   "metadata": {},
   "outputs": [
    {
     "name": "stdout",
     "output_type": "stream",
     "text": [
      "Original list 2[3, 4]\n",
      "List 2 after changing the first index. [10, 4]\n",
      "List 1 after changing the first index[1, 2, 3, 4]\n"
     ]
    }
   ],
   "source": [
    "list1=[1,2,3,4]\n",
    "list2=list1[2:4]\n",
    "print(f\"Original list 2{list2}\")\n",
    "list2[0]=10\n",
    "print(f\"List 2 after changing the first index. {list2}\")\n",
    "print(f\"List 1 after changing the first index{list1}\")"
   ]
  },
  {
   "cell_type": "markdown",
   "id": "eea8321a",
   "metadata": {},
   "source": [
    "Another way to copy from 1 list to another, where modifying the second list does not modify the first list is by using[:]"
   ]
  },
  {
   "cell_type": "code",
   "execution_count": 33,
   "id": "938804e6",
   "metadata": {},
   "outputs": [
    {
     "name": "stdout",
     "output_type": "stream",
     "text": [
      "[1, 2, 3, 4]\n",
      "['apple', 2, 3, 4]\n"
     ]
    }
   ],
   "source": [
    "list1=[1,2,3,4]\n",
    "list2=list1[:]\n",
    "list2[0]=\"apple\"\n",
    "print(list1)\n",
    "print(list2)"
   ]
  },
  {
   "cell_type": "markdown",
   "id": "6dc9af10",
   "metadata": {},
   "source": [
    "You can also index from the reverse using negative value"
   ]
  },
  {
   "cell_type": "code",
   "execution_count": 34,
   "id": "8b82cc3d",
   "metadata": {},
   "outputs": [
    {
     "name": "stdout",
     "output_type": "stream",
     "text": [
      "4\n"
     ]
    }
   ],
   "source": [
    "list1=[1,2,3,4]\n",
    "print(list1[-1])"
   ]
  },
  {
   "cell_type": "markdown",
   "id": "52d0df1e-8951-4582-8519-edd254d3f86a",
   "metadata": {},
   "source": [
    "Remember that starting index is 0, but if you want to index from the reverse, the starting index is -1"
   ]
  },
  {
   "cell_type": "code",
   "execution_count": 35,
   "id": "fe2bd70b",
   "metadata": {},
   "outputs": [
    {
     "data": {
      "text/plain": [
       "1"
      ]
     },
     "execution_count": 35,
     "metadata": {},
     "output_type": "execute_result"
    }
   ],
   "source": [
    "list1[0]"
   ]
  },
  {
   "cell_type": "markdown",
   "id": "dc2964d3-8d68-46c9-9efb-097fc29ea403",
   "metadata": {},
   "source": [
    "You can also slice from reverse as follows. As usual, the last index does not count."
   ]
  },
  {
   "cell_type": "code",
   "execution_count": 36,
   "id": "472f5aec",
   "metadata": {},
   "outputs": [
    {
     "name": "stdout",
     "output_type": "stream",
     "text": [
      "[4, 5]\n"
     ]
    }
   ],
   "source": [
    "list1=[1,2,3,4,5,6]\n",
    "print(list1[-3:-1])"
   ]
  },
  {
   "cell_type": "markdown",
   "id": "9f848b38",
   "metadata": {},
   "source": [
    "You can also specify how much you want to step by as followss:"
   ]
  },
  {
   "cell_type": "code",
   "execution_count": 37,
   "id": "42403d31",
   "metadata": {},
   "outputs": [
    {
     "name": "stdout",
     "output_type": "stream",
     "text": [
      "[1, 3, 5]\n"
     ]
    }
   ],
   "source": [
    "a=[1,2,3,4,5,6]\n",
    "print(a[0:6:2])"
   ]
  },
  {
   "cell_type": "markdown",
   "id": "5d014444",
   "metadata": {},
   "source": [
    "Actually, you do not need to specify the start and end.  The following will skip by 2 starting with the first index"
   ]
  },
  {
   "cell_type": "code",
   "execution_count": 38,
   "id": "30d0aa9c",
   "metadata": {},
   "outputs": [
    {
     "name": "stdout",
     "output_type": "stream",
     "text": [
      "[1, 3, 5]\n"
     ]
    }
   ],
   "source": [
    "print(a[::2])"
   ]
  },
  {
   "cell_type": "markdown",
   "id": "78f1017b",
   "metadata": {},
   "source": [
    "We can also mix and match positive and negative indices as follows:"
   ]
  },
  {
   "cell_type": "code",
   "execution_count": 39,
   "id": "139ad9b3",
   "metadata": {},
   "outputs": [
    {
     "name": "stdout",
     "output_type": "stream",
     "text": [
      "[3, 4, 5]\n"
     ]
    }
   ],
   "source": [
    "print(list1[2:-1])"
   ]
  },
  {
   "cell_type": "markdown",
   "id": "9087bdec",
   "metadata": {},
   "source": [
    "Examples of different operations you can perform on lists.\n",
    "\n",
    "We can take the same, find the length, find the minimum and maximum, etc."
   ]
  },
  {
   "cell_type": "code",
   "execution_count": 41,
   "id": "75401342",
   "metadata": {},
   "outputs": [
    {
     "data": {
      "text/plain": [
       "6"
      ]
     },
     "execution_count": 41,
     "metadata": {},
     "output_type": "execute_result"
    }
   ],
   "source": [
    "list1=[1,2,3]\n",
    "sum(list1)"
   ]
  },
  {
   "cell_type": "code",
   "execution_count": 42,
   "id": "5a47d9ec",
   "metadata": {},
   "outputs": [
    {
     "data": {
      "text/plain": [
       "3"
      ]
     },
     "execution_count": 42,
     "metadata": {},
     "output_type": "execute_result"
    }
   ],
   "source": [
    "len(list1)"
   ]
  },
  {
   "cell_type": "code",
   "execution_count": 43,
   "id": "462646a5",
   "metadata": {},
   "outputs": [
    {
     "data": {
      "text/plain": [
       "1"
      ]
     },
     "execution_count": 43,
     "metadata": {},
     "output_type": "execute_result"
    }
   ],
   "source": [
    "min(list1)"
   ]
  },
  {
   "cell_type": "code",
   "execution_count": 44,
   "id": "0f9b486f",
   "metadata": {},
   "outputs": [
    {
     "data": {
      "text/plain": [
       "3"
      ]
     },
     "execution_count": 44,
     "metadata": {},
     "output_type": "execute_result"
    }
   ],
   "source": [
    "max(list1)"
   ]
  },
  {
   "cell_type": "markdown",
   "id": "677b4445-a5c4-4e5b-8e2c-366d12b39351",
   "metadata": {},
   "source": [
    "Converting to a string.  Is this what we want?"
   ]
  },
  {
   "cell_type": "code",
   "execution_count": 45,
   "id": "ff9514f8",
   "metadata": {},
   "outputs": [
    {
     "data": {
      "text/plain": [
       "'[1, 2, 3]'"
      ]
     },
     "execution_count": 45,
     "metadata": {},
     "output_type": "execute_result"
    }
   ],
   "source": [
    "str(list1)"
   ]
  },
  {
   "cell_type": "code",
   "execution_count": 46,
   "id": "86ffc17f-7ff7-490a-a29d-0b55ca4addd2",
   "metadata": {},
   "outputs": [
    {
     "name": "stdout",
     "output_type": "stream",
     "text": [
      "[\n"
     ]
    }
   ],
   "source": [
    "print(str(list1)[0])"
   ]
  },
  {
   "cell_type": "markdown",
   "id": "f05bb324",
   "metadata": {},
   "source": [
    "The above output is probably not what you are looking for.  You probably want to convert each number to a character.  I will explain how to do that later.\n",
    "\n",
    "Anyway, we can also sort a list.  There are two ways to do this.  First, using sorted, and the other using sort().  I will explain the difference below."
   ]
  },
  {
   "cell_type": "code",
   "execution_count": 47,
   "id": "9862939a",
   "metadata": {},
   "outputs": [],
   "source": [
    "list1=[10,14,17,6,11,1,15]"
   ]
  },
  {
   "cell_type": "code",
   "execution_count": 48,
   "id": "7b71cdb9",
   "metadata": {},
   "outputs": [
    {
     "data": {
      "text/plain": [
       "[1, 6, 10, 11, 14, 15, 17]"
      ]
     },
     "execution_count": 48,
     "metadata": {},
     "output_type": "execute_result"
    }
   ],
   "source": [
    "sorted(list1)"
   ]
  },
  {
   "cell_type": "code",
   "execution_count": 49,
   "id": "1504aad7",
   "metadata": {},
   "outputs": [
    {
     "data": {
      "text/plain": [
       "[10, 14, 17, 6, 11, 1, 15]"
      ]
     },
     "execution_count": 49,
     "metadata": {},
     "output_type": "execute_result"
    }
   ],
   "source": [
    "list1"
   ]
  },
  {
   "cell_type": "code",
   "execution_count": 50,
   "id": "8c7c26c2",
   "metadata": {},
   "outputs": [],
   "source": [
    "list1.sort()"
   ]
  },
  {
   "cell_type": "code",
   "execution_count": 51,
   "id": "0df25b19",
   "metadata": {},
   "outputs": [
    {
     "data": {
      "text/plain": [
       "[1, 6, 10, 11, 14, 15, 17]"
      ]
     },
     "execution_count": 51,
     "metadata": {},
     "output_type": "execute_result"
    }
   ],
   "source": [
    "list1"
   ]
  },
  {
   "cell_type": "markdown",
   "id": "a2d4d0f4",
   "metadata": {},
   "source": [
    "The difference between list1.sort() and sorted(list1) is that is with list1.sort() the list is irreversably sorted. "
   ]
  },
  {
   "cell_type": "code",
   "execution_count": 52,
   "id": "d4cdb271",
   "metadata": {},
   "outputs": [
    {
     "data": {
      "text/plain": [
       "[17, 15, 14, 11, 10, 6, 1]"
      ]
     },
     "execution_count": 52,
     "metadata": {},
     "output_type": "execute_result"
    }
   ],
   "source": [
    "sorted(list1,reverse=True)"
   ]
  },
  {
   "cell_type": "markdown",
   "id": "678b4646",
   "metadata": {},
   "source": [
    "There is also the reversed function. Note that using reversed on a list makes it an iterator class. You need to use the list() function to convert it to a list."
   ]
  },
  {
   "cell_type": "code",
   "execution_count": 53,
   "id": "420c9ba0",
   "metadata": {},
   "outputs": [
    {
     "data": {
      "text/plain": [
       "<list_reverseiterator at 0x20c86f97460>"
      ]
     },
     "execution_count": 53,
     "metadata": {},
     "output_type": "execute_result"
    }
   ],
   "source": [
    "reversed(list1)"
   ]
  },
  {
   "cell_type": "code",
   "execution_count": 54,
   "id": "dd5ebab4",
   "metadata": {},
   "outputs": [
    {
     "data": {
      "text/plain": [
       "[17, 15, 14, 11, 10, 6, 1]"
      ]
     },
     "execution_count": 54,
     "metadata": {},
     "output_type": "execute_result"
    }
   ],
   "source": [
    "list(reversed(list1))"
   ]
  },
  {
   "cell_type": "markdown",
   "id": "138ad644",
   "metadata": {},
   "source": [
    "Reversing a list can also be done using slicing"
   ]
  },
  {
   "cell_type": "code",
   "execution_count": 55,
   "id": "36014b4e",
   "metadata": {},
   "outputs": [
    {
     "name": "stdout",
     "output_type": "stream",
     "text": [
      "[1, 2, 3, 4, 5, 6, 7, 8, 9, 10]\n",
      "reversed:[10, 9, 8, 7, 6, 5, 4, 3, 2, 1]\n"
     ]
    }
   ],
   "source": [
    "a=list(range(1,11))\n",
    "print(a)\n",
    "print(f\"reversed:{a[::-1]}\")"
   ]
  },
  {
   "cell_type": "markdown",
   "id": "224f2df4",
   "metadata": {},
   "source": [
    "Converting a range (remember that range is used in a for loop) to a list.  Here again, you use the list function"
   ]
  },
  {
   "cell_type": "code",
   "execution_count": 56,
   "id": "ef74d33c",
   "metadata": {},
   "outputs": [
    {
     "data": {
      "text/plain": [
       "[1, 2, 3, 4, 5, 6, 7, 8, 9]"
      ]
     },
     "execution_count": 56,
     "metadata": {},
     "output_type": "execute_result"
    }
   ],
   "source": [
    "list(range(1,10))"
   ]
  },
  {
   "cell_type": "markdown",
   "id": "1477b7d6",
   "metadata": {},
   "source": [
    "Converting a tuple"
   ]
  },
  {
   "cell_type": "code",
   "execution_count": 57,
   "id": "266bc530",
   "metadata": {},
   "outputs": [
    {
     "data": {
      "text/plain": [
       "[1, 2, 3]"
      ]
     },
     "execution_count": 57,
     "metadata": {},
     "output_type": "execute_result"
    }
   ],
   "source": [
    "tuple_example=(1,2,3)\n",
    "list(tuple_example)"
   ]
  },
  {
   "cell_type": "code",
   "execution_count": 58,
   "id": "3f229d17",
   "metadata": {},
   "outputs": [
    {
     "data": {
      "text/plain": [
       "[1, 6, 10, 11, 14, 15, 17]"
      ]
     },
     "execution_count": 58,
     "metadata": {},
     "output_type": "execute_result"
    }
   ],
   "source": [
    "list1"
   ]
  },
  {
   "cell_type": "markdown",
   "id": "5d04cdff",
   "metadata": {},
   "source": [
    "The enumerate function can be used to enumerate items in the list"
   ]
  },
  {
   "cell_type": "code",
   "execution_count": 59,
   "id": "f0b80ad0",
   "metadata": {},
   "outputs": [
    {
     "data": {
      "text/plain": [
       "[(0, 'apple'), (1, 'banana'), (2, 'cat'), (3, 'dog')]"
      ]
     },
     "execution_count": 59,
     "metadata": {},
     "output_type": "execute_result"
    }
   ],
   "source": [
    "list1=['apple','banana','cat','dog']\n",
    "list(enumerate(list1))"
   ]
  },
  {
   "cell_type": "markdown",
   "id": "8cbf9cf1",
   "metadata": {},
   "source": [
    "This can be combined with a  for loop as follows:"
   ]
  },
  {
   "cell_type": "code",
   "execution_count": 60,
   "id": "88589efe",
   "metadata": {},
   "outputs": [
    {
     "name": "stdout",
     "output_type": "stream",
     "text": [
      "Item number 1: apple\n",
      "Item number 2: banana\n",
      "Item number 3: cat\n",
      "Item number 4: dog\n"
     ]
    }
   ],
   "source": [
    "for i,j in enumerate(list1):\n",
    "    print(f\"Item number {i+1}: {j}\")"
   ]
  },
  {
   "cell_type": "markdown",
   "id": "0f1c3818",
   "metadata": {},
   "source": [
    "The zip function allows us to use two lists in conjunction as follows:"
   ]
  },
  {
   "cell_type": "code",
   "execution_count": 62,
   "id": "45e33661",
   "metadata": {},
   "outputs": [
    {
     "name": "stdout",
     "output_type": "stream",
     "text": [
      "red apple\n",
      "blue ball\n",
      "orange cat\n",
      "purple dog\n"
     ]
    }
   ],
   "source": [
    "list1=['apple','ball','cat','dog']\n",
    "list2=['red','blue','orange','purple']\n",
    "for k,j in zip(list1,list2):\n",
    "    print(j,k)"
   ]
  },
  {
   "cell_type": "markdown",
   "id": "b26ca0f5-0941-45fa-9f70-4c243eec749f",
   "metadata": {},
   "source": [
    "The zip() function accepts multiple lists."
   ]
  },
  {
   "cell_type": "code",
   "execution_count": 63,
   "id": "95ec9fe3-e787-4fe9-a82b-a5c58900f6c8",
   "metadata": {},
   "outputs": [
    {
     "name": "stdout",
     "output_type": "stream",
     "text": [
      "red apple a\n",
      "blue ball b\n",
      "orange cat d\n",
      "purple dog d\n"
     ]
    }
   ],
   "source": [
    "list1=['apple','ball','cat','dog']\n",
    "list2=['red','blue','orange','purple']\n",
    "list3=[\"a\",\"b\",\"d\",\"d\"]\n",
    "for k,j,l in zip(list1,list2,list3):\n",
    "    print(j,k,l)"
   ]
  },
  {
   "cell_type": "markdown",
   "id": "4ce03c1e",
   "metadata": {},
   "source": [
    "Previously, I showed that you can convert a tuple to a list.  You can also convert list to a tuple."
   ]
  },
  {
   "cell_type": "code",
   "execution_count": 64,
   "id": "05105152",
   "metadata": {},
   "outputs": [
    {
     "name": "stdout",
     "output_type": "stream",
     "text": [
      "[1, 2, 3]\n",
      "(1, 2, 3)\n"
     ]
    }
   ],
   "source": [
    "a=(1,2,3)\n",
    "b=[1,2,3]\n",
    "print(list(a))\n",
    "print(tuple(b))"
   ]
  },
  {
   "cell_type": "markdown",
   "id": "88d63b0d",
   "metadata": {},
   "source": [
    "<b>List manipulations.</b>\n",
    "First is extend. If you have two lists, extend will concatenate the two lists"
   ]
  },
  {
   "cell_type": "code",
   "execution_count": 65,
   "id": "a02e6e3c",
   "metadata": {},
   "outputs": [
    {
     "name": "stdout",
     "output_type": "stream",
     "text": [
      "[1, 2, 3, 4, 5, 6]\n"
     ]
    }
   ],
   "source": [
    "a=[1,2,3]\n",
    "b=[4,5,6]\n",
    "a.extend(b)\n",
    "print(a)"
   ]
  },
  {
   "cell_type": "markdown",
   "id": "c2c40e7b",
   "metadata": {},
   "source": [
    "The append command on the other hand is used to append values to a list."
   ]
  },
  {
   "cell_type": "code",
   "execution_count": 66,
   "id": "3c6184c4",
   "metadata": {},
   "outputs": [
    {
     "name": "stdout",
     "output_type": "stream",
     "text": [
      "[1, 2, 3, 4]\n"
     ]
    }
   ],
   "source": [
    "a=[1,2,3]\n",
    "b=4\n",
    "a.append(b)\n",
    "print(a)"
   ]
  },
  {
   "cell_type": "markdown",
   "id": "c99d03c6-685d-4838-9347-83fe87381a7c",
   "metadata": {},
   "source": [
    "Example of passing a list to a function:"
   ]
  },
  {
   "cell_type": "code",
   "execution_count": 67,
   "id": "dc56d8de-a616-483b-b110-77230d705b9d",
   "metadata": {},
   "outputs": [],
   "source": [
    "def example_list(data):\n",
    "    data.append(3)\n",
    "    return(data)"
   ]
  },
  {
   "cell_type": "code",
   "execution_count": 68,
   "id": "6da5c485-dfb1-4520-85b6-04179bede363",
   "metadata": {},
   "outputs": [],
   "source": [
    "j=[1,2,3,4,5]"
   ]
  },
  {
   "cell_type": "code",
   "execution_count": 69,
   "id": "56ca72a8-5e3e-42bb-902c-f927ec7d20d4",
   "metadata": {},
   "outputs": [
    {
     "name": "stdout",
     "output_type": "stream",
     "text": [
      "[1, 2, 3, 4, 5, 3]\n"
     ]
    }
   ],
   "source": [
    "example_list(j)\n",
    "print(j)"
   ]
  },
  {
   "cell_type": "code",
   "execution_count": 70,
   "id": "71d1deac-8d90-4649-a27b-7d231678a545",
   "metadata": {},
   "outputs": [
    {
     "name": "stdout",
     "output_type": "stream",
     "text": [
      "[1, 2, 3, 4, 5, 3, 3]\n"
     ]
    }
   ],
   "source": [
    "example_list(j)\n",
    "print(j)"
   ]
  },
  {
   "cell_type": "markdown",
   "id": "f4a598a9-407c-428d-bd7b-4d95117b5e7b",
   "metadata": {},
   "source": [
    "The original list that we passed to the function also got modified as the print(j) function indicated.  If we do not want the original list to be modified, what should we do?"
   ]
  },
  {
   "cell_type": "code",
   "execution_count": 71,
   "id": "5810d034-465b-4d2a-8c20-70561ce878f0",
   "metadata": {},
   "outputs": [],
   "source": [
    "def example_list2(data):\n",
    "    data2=data.copy()\n",
    "    data2.append(3)\n",
    "    return(data2)"
   ]
  },
  {
   "cell_type": "code",
   "execution_count": 72,
   "id": "a264b2ae-aa59-4f18-a203-63444424c3fd",
   "metadata": {},
   "outputs": [],
   "source": [
    "j=[1,2,3,4,5]"
   ]
  },
  {
   "cell_type": "code",
   "execution_count": 73,
   "id": "89a8a4f9-b499-4257-b874-232d443fa942",
   "metadata": {},
   "outputs": [
    {
     "data": {
      "text/plain": [
       "[1, 2, 3, 4, 5, 3]"
      ]
     },
     "execution_count": 73,
     "metadata": {},
     "output_type": "execute_result"
    }
   ],
   "source": [
    "example_list2(j)"
   ]
  },
  {
   "cell_type": "code",
   "execution_count": 74,
   "id": "3768d82b-1fe5-47d6-b77c-a2e9bc32c0a3",
   "metadata": {},
   "outputs": [
    {
     "name": "stdout",
     "output_type": "stream",
     "text": [
      "[1, 2, 3, 4, 5]\n"
     ]
    }
   ],
   "source": [
    "print(j)"
   ]
  },
  {
   "cell_type": "markdown",
   "id": "7286654a-32a9-4747-b1b2-a727fe88855c",
   "metadata": {},
   "source": [
    "##### Exercise 11\n",
    "<i>Write a function called reverse_complement(), where, given a DNA sequence in the form of a list, you return the reverse complement, also in the form of a list.\n",
    "    <b> String manipulation will be taught later </b>\n",
    "\n",
    "<i>A reverse complement is where:\n",
    "    \n",
    "<i>A changes to T\n",
    "    \n",
    "<i> T changes to A\n",
    "    \n",
    "<i> G changes to C\n",
    "    \n",
    "<i> C changes to G</i>\n",
    "\n",
    "\n",
    "Example:  \n",
    "    reverse complement of ATAC is: GTAT\n",
    "\n",
    "\n",
    "Time:<b> 2 minutes </b>\n"
   ]
  },
  {
   "cell_type": "code",
   "execution_count": 75,
   "id": "f0107ae3-9dee-47ed-95a6-9fd07e2619a0",
   "metadata": {},
   "outputs": [],
   "source": [
    "def reverse_complement(DNA):\n",
    "    DNA_copy=DNA.copy()\n",
    "    #code goes here\n",
    "    return DNA_copy"
   ]
  },
  {
   "cell_type": "code",
   "execution_count": 76,
   "id": "32723100-41c3-435d-b76f-6967c3f7d703",
   "metadata": {},
   "outputs": [
    {
     "data": {
      "text/plain": [
       "['A', 'A', 'T', 'T', 'G', 'G', 'C']"
      ]
     },
     "execution_count": 76,
     "metadata": {},
     "output_type": "execute_result"
    }
   ],
   "source": [
    "reverse_complement(['A','T','G','C'])\n",
    "reverse_complement(['A','A','T','T','G','G','C'])"
   ]
  },
  {
   "cell_type": "markdown",
   "id": "4e61acd1-3fb9-46ac-b24d-0128ef23845a",
   "metadata": {},
   "source": [
    "-----------------\n"
   ]
  },
  {
   "cell_type": "markdown",
   "id": "fb97591e-9213-4133-81e1-ba6e9c00a88e",
   "metadata": {},
   "source": [
    "##### Exercise 12:\n",
    "<i>You are given a list of tuples with variable length of items per tuple.Extract the last number from each tuple.\n",
    "    \n",
    "<i>Then use this extracted tuple,return a sorted list (with smallest number first). </i>\n",
    "\n",
    "\n",
    "<i> For example:  If the list of tuples is </i><br>\n",
    "<i> [(3,4,5),(1,2,3,4,8),(8,9,1)] </i>\n",
    "\n",
    "<i> Then return </i>\n",
    "\n",
    "<i> [1,5,8] </i>\n",
    "\n"
   ]
  },
  {
   "cell_type": "code",
   "execution_count": 223,
   "id": "08a90257-6cf4-4559-98f9-a88c549519c1",
   "metadata": {},
   "outputs": [],
   "source": [
    "def new_list(tuple_list):\n",
    "    # Your code here\n",
    "    pass"
   ]
  },
  {
   "cell_type": "code",
   "execution_count": 224,
   "id": "eea6ee56-1f84-4069-84d4-ef96ae5f8f1f",
   "metadata": {},
   "outputs": [],
   "source": [
    "new_list([(1,2,3,4,5),(1,2,3),(4,5,6,7)])\n",
    "new_list([(9,9,9,9),(1,12,45),(6,7,10)])"
   ]
  },
  {
   "cell_type": "markdown",
   "id": "ea15657f",
   "metadata": {},
   "source": [
    "### <a id=\"dictionary\"> Dictionary </a>"
   ]
  },
  {
   "cell_type": "markdown",
   "id": "30e8a845",
   "metadata": {},
   "source": [
    "A dictionary is a type of data structure, where a value is associated to a key. We declare that a variable is a dictionary using \"{}\"."
   ]
  },
  {
   "cell_type": "code",
   "execution_count": 79,
   "id": "c4d9e738",
   "metadata": {},
   "outputs": [],
   "source": [
    "a={}\n",
    "a['John']=\"(123)456-6780\"\n",
    "a['Jane']=\"(198)765-4321\"\n",
    "a['Doe']=\"(423)541-6234\""
   ]
  },
  {
   "cell_type": "markdown",
   "id": "774f67a2",
   "metadata": {},
   "source": [
    "Another way to create a dictionary:"
   ]
  },
  {
   "cell_type": "code",
   "execution_count": 80,
   "id": "006105f5",
   "metadata": {},
   "outputs": [],
   "source": [
    "b={'John':'(123)456-7890','Jane':'(987)654-3210'}"
   ]
  },
  {
   "cell_type": "markdown",
   "id": "ff6161ea",
   "metadata": {},
   "source": [
    "To access a key you can use the square bracket as follows"
   ]
  },
  {
   "cell_type": "code",
   "execution_count": 81,
   "id": "876fd194",
   "metadata": {},
   "outputs": [
    {
     "data": {
      "text/plain": [
       "'(123)456-6780'"
      ]
     },
     "execution_count": 81,
     "metadata": {},
     "output_type": "execute_result"
    }
   ],
   "source": [
    "a['John']"
   ]
  },
  {
   "cell_type": "markdown",
   "id": "f504ebd6-b317-47c5-b085-b664f9f5dcdc",
   "metadata": {},
   "source": [
    "To make it look a little bit better:"
   ]
  },
  {
   "cell_type": "code",
   "execution_count": 82,
   "id": "5dc7a5c6",
   "metadata": {},
   "outputs": [
    {
     "name": "stdout",
     "output_type": "stream",
     "text": [
      "John's phone number is (123)456-6780\n"
     ]
    }
   ],
   "source": [
    "print(f\"John's phone number is {a['John']}\")"
   ]
  },
  {
   "cell_type": "markdown",
   "id": "abd8f42b-8359-4235-8979-14313ac30f0b",
   "metadata": {},
   "source": [
    "The update method can be used to insert a key-value pair to a dictionary."
   ]
  },
  {
   "cell_type": "code",
   "execution_count": 85,
   "id": "52bb94e1",
   "metadata": {},
   "outputs": [],
   "source": [
    "a.update({\"Michael\":\"(245)678-4310\"})"
   ]
  },
  {
   "cell_type": "code",
   "execution_count": 86,
   "id": "90b0280f",
   "metadata": {},
   "outputs": [
    {
     "name": "stdout",
     "output_type": "stream",
     "text": [
      "{'John': '(123)456-6780', 'Jane': '(198)765-4321', 'Doe': '(423)541-6234', 'Michael': '(245)678-4310'}\n"
     ]
    }
   ],
   "source": [
    "print(a)"
   ]
  },
  {
   "cell_type": "code",
   "execution_count": 87,
   "id": "dddd5920",
   "metadata": {},
   "outputs": [
    {
     "name": "stdout",
     "output_type": "stream",
     "text": [
      "4\n"
     ]
    }
   ],
   "source": [
    "print(len(a))"
   ]
  },
  {
   "cell_type": "markdown",
   "id": "86354ffe",
   "metadata": {},
   "source": [
    "<b>Removing from a dictionary.</b>  \n",
    "There are a few ways to do this.\n",
    "\n",
    "First is pop, where you specify the key"
   ]
  },
  {
   "cell_type": "code",
   "execution_count": 88,
   "id": "e178236e",
   "metadata": {},
   "outputs": [
    {
     "name": "stdout",
     "output_type": "stream",
     "text": [
      "{'Jane': '(198)765-4321', 'Doe': '(423)541-6234', 'Michael': '(245)678-4310'}\n"
     ]
    }
   ],
   "source": [
    "a.pop(\"John\")\n",
    "print(a)"
   ]
  },
  {
   "cell_type": "markdown",
   "id": "65362954-f13c-4fc9-b6ab-3f8b4dfd3bd7",
   "metadata": {},
   "source": [
    "Using popitem() removes the last key:value pair"
   ]
  },
  {
   "cell_type": "code",
   "execution_count": 89,
   "id": "265efd85",
   "metadata": {},
   "outputs": [
    {
     "data": {
      "text/plain": [
       "('Michael', '(245)678-4310')"
      ]
     },
     "execution_count": 89,
     "metadata": {},
     "output_type": "execute_result"
    }
   ],
   "source": [
    "a.popitem()"
   ]
  },
  {
   "cell_type": "code",
   "execution_count": 90,
   "id": "193a5a56",
   "metadata": {},
   "outputs": [
    {
     "name": "stdout",
     "output_type": "stream",
     "text": [
      "{'Jane': '(198)765-4321', 'Doe': '(423)541-6234'}\n"
     ]
    }
   ],
   "source": [
    "print(a)"
   ]
  },
  {
   "cell_type": "markdown",
   "id": "71c74c81-3ef2-4cd5-acaa-710023e7e86f",
   "metadata": {},
   "source": [
    "Finally you can use the del command."
   ]
  },
  {
   "cell_type": "code",
   "execution_count": 91,
   "id": "069c5bc0",
   "metadata": {},
   "outputs": [],
   "source": [
    "del a[\"Jane\"]"
   ]
  },
  {
   "cell_type": "code",
   "execution_count": 92,
   "id": "03cfcb07",
   "metadata": {},
   "outputs": [
    {
     "name": "stdout",
     "output_type": "stream",
     "text": [
      "{'Doe': '(423)541-6234'}\n"
     ]
    }
   ],
   "source": [
    "print(a)"
   ]
  },
  {
   "cell_type": "markdown",
   "id": "110353b1",
   "metadata": {},
   "source": [
    "#### Looping Through a dictionary\n",
    "You can loop through a dictionary many different ways.  Some examples below"
   ]
  },
  {
   "cell_type": "code",
   "execution_count": 93,
   "id": "548d8ee4-62b1-477f-9d4c-83d675b7940d",
   "metadata": {},
   "outputs": [],
   "source": [
    "a={}\n",
    "a['John']=\"(123)456-6780\"\n",
    "a['Jane']=\"(198)765-4321\"\n",
    "a['Doe']=\"(423)541-6234\""
   ]
  },
  {
   "cell_type": "markdown",
   "id": "602f0363",
   "metadata": {},
   "source": [
    "In the example below, the \"x\" represents keys.  You can print values as follows"
   ]
  },
  {
   "cell_type": "code",
   "execution_count": 94,
   "id": "52521a46",
   "metadata": {},
   "outputs": [
    {
     "name": "stdout",
     "output_type": "stream",
     "text": [
      "John\n",
      "Jane\n",
      "Doe\n"
     ]
    }
   ],
   "source": [
    "for x in a:\n",
    "    print(x)"
   ]
  },
  {
   "cell_type": "markdown",
   "id": "37384b27-1dbe-480c-9191-aafea323e296",
   "metadata": {},
   "source": [
    "You can print values using the key as follows:"
   ]
  },
  {
   "cell_type": "code",
   "execution_count": 95,
   "id": "6483d825",
   "metadata": {},
   "outputs": [
    {
     "name": "stdout",
     "output_type": "stream",
     "text": [
      "(123)456-6780\n",
      "(198)765-4321\n",
      "(423)541-6234\n"
     ]
    }
   ],
   "source": [
    "for x in a:\n",
    "    print(a[x])"
   ]
  },
  {
   "cell_type": "markdown",
   "id": "51ef09e1",
   "metadata": {},
   "source": [
    "Another way is to use the keys() method.  This will loop through keys"
   ]
  },
  {
   "cell_type": "code",
   "execution_count": 96,
   "id": "9ad11609",
   "metadata": {},
   "outputs": [
    {
     "name": "stdout",
     "output_type": "stream",
     "text": [
      "John,(123)456-6780\n",
      "Jane,(198)765-4321\n",
      "Doe,(423)541-6234\n"
     ]
    }
   ],
   "source": [
    "for x in a.keys():\n",
    "    print(f\"{x},{a[x]}\")"
   ]
  },
  {
   "cell_type": "markdown",
   "id": "6797612a",
   "metadata": {},
   "source": [
    "You can also loop through values as follows"
   ]
  },
  {
   "cell_type": "code",
   "execution_count": 97,
   "id": "baa3d0f6",
   "metadata": {},
   "outputs": [
    {
     "name": "stdout",
     "output_type": "stream",
     "text": [
      "(123)456-6780\n",
      "(198)765-4321\n",
      "(423)541-6234\n"
     ]
    }
   ],
   "source": [
    "for x in a.values():\n",
    "    print(x)"
   ]
  },
  {
   "cell_type": "markdown",
   "id": "95f21faa-021d-4bf3-bc1e-89c78592de91",
   "metadata": {},
   "source": [
    "There is also the items() function which can loop through both key-value pairs."
   ]
  },
  {
   "cell_type": "code",
   "execution_count": 98,
   "id": "1ac31bbb",
   "metadata": {},
   "outputs": [
    {
     "name": "stdout",
     "output_type": "stream",
     "text": [
      "John's phone number is (123)456-6780\n",
      "Jane's phone number is (198)765-4321\n",
      "Doe's phone number is (423)541-6234\n"
     ]
    }
   ],
   "source": [
    "for key,val in a.items():\n",
    "    print(f\"{key}'s phone number is {val}\")"
   ]
  },
  {
   "cell_type": "markdown",
   "id": "baa8954f",
   "metadata": {},
   "source": [
    "You can also store lists in a dictionary"
   ]
  },
  {
   "cell_type": "code",
   "execution_count": 99,
   "id": "e92e312d",
   "metadata": {},
   "outputs": [],
   "source": [
    "c={'fruits':['apple','orange','pineapple','mango'],'vegetables':['spinach','broccoli','zucchini','mushroom']}"
   ]
  },
  {
   "cell_type": "code",
   "execution_count": 100,
   "id": "cc3cd333",
   "metadata": {},
   "outputs": [
    {
     "name": "stdout",
     "output_type": "stream",
     "text": [
      "['apple', 'orange', 'pineapple', 'mango']\n"
     ]
    }
   ],
   "source": [
    "print(c['fruits'])"
   ]
  },
  {
   "cell_type": "code",
   "execution_count": 101,
   "id": "c042332f",
   "metadata": {},
   "outputs": [],
   "source": [
    "d={'fruits':('apple','orange','pineapple','mango'),'vegetables':('spinach','broccoli','zucchini','mushroom')}"
   ]
  },
  {
   "cell_type": "code",
   "execution_count": 102,
   "id": "e228ce59",
   "metadata": {},
   "outputs": [
    {
     "name": "stdout",
     "output_type": "stream",
     "text": [
      "('apple', 'orange', 'pineapple', 'mango')\n"
     ]
    }
   ],
   "source": [
    "print(d['fruits'])"
   ]
  },
  {
   "cell_type": "code",
   "execution_count": 103,
   "id": "d83f2999",
   "metadata": {},
   "outputs": [
    {
     "data": {
      "text/plain": [
       "list"
      ]
     },
     "execution_count": 103,
     "metadata": {},
     "output_type": "execute_result"
    }
   ],
   "source": [
    "type(c[\"fruits\"])"
   ]
  },
  {
   "cell_type": "code",
   "execution_count": 104,
   "id": "cd95a140",
   "metadata": {},
   "outputs": [
    {
     "data": {
      "text/plain": [
       "tuple"
      ]
     },
     "execution_count": 104,
     "metadata": {},
     "output_type": "execute_result"
    }
   ],
   "source": [
    "type(d[\"fruits\"])"
   ]
  },
  {
   "cell_type": "markdown",
   "id": "1f833542",
   "metadata": {},
   "source": [
    "As the two examples above show, the values can be lists or tuples"
   ]
  },
  {
   "cell_type": "code",
   "execution_count": 105,
   "id": "26704ed3",
   "metadata": {},
   "outputs": [
    {
     "name": "stdout",
     "output_type": "stream",
     "text": [
      "['apple', 'orange', 'pineapple', 'mango']\n"
     ]
    }
   ],
   "source": [
    "fruity=\"fruits\"\n",
    "print(c[fruity])"
   ]
  },
  {
   "cell_type": "code",
   "execution_count": 106,
   "id": "c7d6e3cd",
   "metadata": {},
   "outputs": [
    {
     "data": {
      "text/plain": [
       "{('a', 'b', 'c'): 'def'}"
      ]
     },
     "execution_count": 106,
     "metadata": {},
     "output_type": "execute_result"
    }
   ],
   "source": [
    "{(\"a\",\"b\",\"c\"):\"def\"}"
   ]
  },
  {
   "cell_type": "markdown",
   "id": "6ff8096a",
   "metadata": {},
   "source": [
    "In the example above, the key is a tuple, while value is a string.  Note that dictionary keys cannot be a list, while a tuple is allowed.\n",
    "\n",
    "The get method can be used to print value for a key.  However, if the key does not exist, you can use it to print a default value."
   ]
  },
  {
   "cell_type": "code",
   "execution_count": 112,
   "id": "e48806e6",
   "metadata": {},
   "outputs": [
    {
     "name": "stdout",
     "output_type": "stream",
     "text": [
      "['apple', 'orange', 'pineapple', 'mango']\n",
      "None\n",
      "rice\n"
     ]
    }
   ],
   "source": [
    "print(c.get(\"fruits\"))\n",
    "print(c.get(\"food\"))\n",
    "print(c.get(\"food\",\"rice\"))"
   ]
  },
  {
   "cell_type": "markdown",
   "id": "a82f1bee",
   "metadata": {},
   "source": [
    "The setdefault  method can be used to add default values to a dictionary if it does not exist."
   ]
  },
  {
   "cell_type": "code",
   "execution_count": 113,
   "id": "62ab3583",
   "metadata": {},
   "outputs": [
    {
     "data": {
      "text/plain": [
       "['orange juice', 'lemon juice', 'pineapple juice']"
      ]
     },
     "execution_count": 113,
     "metadata": {},
     "output_type": "execute_result"
    }
   ],
   "source": [
    "c.setdefault(\"juice\",['orange juice','lemon juice','pineapple juice'])"
   ]
  },
  {
   "cell_type": "code",
   "execution_count": 114,
   "id": "35e865d5",
   "metadata": {},
   "outputs": [
    {
     "data": {
      "text/plain": [
       "{'fruits': ['apple', 'orange', 'pineapple', 'mango'],\n",
       " 'vegetables': ['spinach', 'broccoli', 'zucchini', 'mushroom'],\n",
       " 'juice': ['orange juice', 'lemon juice', 'pineapple juice']}"
      ]
     },
     "execution_count": 114,
     "metadata": {},
     "output_type": "execute_result"
    }
   ],
   "source": [
    "c"
   ]
  },
  {
   "cell_type": "code",
   "execution_count": 115,
   "id": "82980930",
   "metadata": {},
   "outputs": [
    {
     "name": "stdout",
     "output_type": "stream",
     "text": [
      "['orange juice', 'lemon juice', 'pineapple juice']\n"
     ]
    }
   ],
   "source": [
    "c.setdefault(\"juice\",['tomato juice','apple juice','mango juice'])\n",
    "print(c['juice'])"
   ]
  },
  {
   "cell_type": "markdown",
   "id": "20731121",
   "metadata": {},
   "source": [
    "In the example above, if values are already present, then setdefault will not modify it."
   ]
  },
  {
   "cell_type": "markdown",
   "id": "80e75c5c-4405-4bf7-a7c4-d713fcea4cea",
   "metadata": {},
   "source": [
    "<b> Exercise 13 </b>\n",
    "\n",
    "<i> You are given a dictionary, where the keys are the different codons, and the values are the amino acids.  </i>\n",
    "\n",
    "<i> You are given a coding cDNA sequence. Translate it to protein sequence.  </i>\n",
    "\n",
    "<i> Note that you can loop through a string object </i>\n",
    "\n",
    "Time: <b> 5 minutes </b>\n"
   ]
  },
  {
   "cell_type": "code",
   "execution_count": 118,
   "id": "d025e7e1-0ffa-4b87-b09e-acc98b2836b9",
   "metadata": {},
   "outputs": [],
   "source": [
    "codons={\"TTT\":\"F\",\n",
    "                      \"TTC\":\"F\",\n",
    "                      \"TTA\":\"L\",\n",
    "                      \"TTG\":\"L\",\n",
    "                      \"CTT\":\"L\",\n",
    "                      \"CTC\":\"L\",\n",
    "                      \"CTA\":\"L\",\n",
    "                      \"CTG\":\"L\",\n",
    "                      \"ATT\":\"I\",\n",
    "                      \"ATC\":\"I\",\n",
    "                      \"ATA\":\"I\",\n",
    "                      \"ATG\":\"M\",\n",
    "                      \"GTT\":\"V\",\n",
    "                      \"GTC\":\"V\",\n",
    "                      \"GTA\":\"V\",\n",
    "                      \"GTG\":\"V\",\n",
    "                      \"TCT\":\"S\",\n",
    "                      \"TCC\":\"S\",\n",
    "                      \"TCA\":\"S\",\n",
    "                      \"TCG\":\"S\",\n",
    "                      \"CCT\":\"P\",\n",
    "                      \"CCC\":\"P\",\n",
    "                      \"CCA\":\"P\",\n",
    "                      \"CCG\":\"P\",\n",
    "                      \"ACT\":\"T\",\n",
    "                      \"ACC\":\"T\",\n",
    "                      \"ACG\":\"T\",\n",
    "                      \"ACA\":\"T\",\n",
    "                      \"GCT\":\"A\",\n",
    "                      \"GCC\":\"A\",\n",
    "                      \"GCA\":\"A\",\n",
    "                      \"GCG\":\"A\",\n",
    "                      \"TAT\":\"Y\",\n",
    "                      \"TAC\":\"Y\",\n",
    "                      \"TAA\":\"*\",\n",
    "                      \"TAG\":\"*\",\n",
    "                      \"CAT\":\"H\",\n",
    "                      \"CAC\":\"H\",\n",
    "                      \"CAA\":\"Q\",\n",
    "                      \"CAG\":\"Q\",\n",
    "                      \"AAT\":\"N\",\n",
    "                      \"AAC\":\"N\",\n",
    "                      \"AAA\":\"K\",\n",
    "                      \"AAG\":\"K\",\n",
    "                      \"GAT\":\"D\",\n",
    "                      \"GAC\":\"D\",\n",
    "                      \"GAA\":\"E\",\n",
    "                      \"GAG\":\"E\",\n",
    "                      \"TGT\":\"C\",\n",
    "                      \"TGC\":\"C\",\n",
    "                      \"TGA\":\"*\",\n",
    "                      \"TGG\":\"W\",\n",
    "                      \"CGT\":\"R\",\n",
    "                      \"CGC\":\"R\",\n",
    "                      \"CGA\":\"R\",\n",
    "                      \"CGG\":\"R\",\n",
    "                      \"AGT\":\"S\",\n",
    "                      \"AGC\":\"S\",\n",
    "                      \"AGA\":\"R\",\n",
    "                      \"AGG\":\"R\",\n",
    "                      \"GGT\":\"G\",\n",
    "                      \"GGC\":\"G\",\n",
    "                      \"GGA\":\"G\",\n",
    "                      \"GGG\":\"G\"}"
   ]
  },
  {
   "cell_type": "code",
   "execution_count": 225,
   "id": "861c359b-6ee8-432c-8829-d6f66df03244",
   "metadata": {},
   "outputs": [],
   "source": [
    "def translate_to_AA(sequence,codons):\n",
    "    ##Your code goes here\n",
    "    pass"
   ]
  },
  {
   "cell_type": "code",
   "execution_count": 120,
   "id": "1362232f-2cbc-4bbe-9523-64bfbc85de2d",
   "metadata": {},
   "outputs": [],
   "source": [
    "sequence=\"ATGGCGGCTAACGCTACTACCAACCCGTCGCAGCTGCTGCCCTTAGAGCTTGTGGACAAATGTATAGGATCAAGAATTCACATCGTGATGAAGAGTGATAAGGAAATTGTTGGTACTCTTCTAGGATTTGATGACTTTGTCAATATGGTACTGGAAGATGTCACTGAGTTTGAAATCACACCAGAAGGAAGAAGGATTACTAAATTAGATCAGATTTTGCTAAATGGAAATAATATAACAATGCTGGTTCCTGGAGGAGAAGGACCTGAAGTGTGA\"\n",
    "translate_to_AA(sequence,codons)"
   ]
  },
  {
   "cell_type": "markdown",
   "id": "dd5909a3-8035-4d2d-8a06-92e611c8402c",
   "metadata": {},
   "source": [
    "Now I am going to introduce the \\*args and \\*\\*kwargs argument to pass variable number of arguments to a function.  Basically speaking, \\* args is a list, while \\*\\* kwargs is a dictionary"
   ]
  },
  {
   "cell_type": "code",
   "execution_count": 121,
   "id": "49069cba-52a3-4760-8e0a-a10c08990848",
   "metadata": {},
   "outputs": [],
   "source": [
    "def sum_variable(*args):\n",
    "    sm=0\n",
    "    for arg in args:\n",
    "        sm+=arg\n",
    "    return sm"
   ]
  },
  {
   "cell_type": "code",
   "execution_count": 122,
   "id": "c5736ff1-7158-44fe-947e-1132ecaa7547",
   "metadata": {},
   "outputs": [
    {
     "data": {
      "text/plain": [
       "55"
      ]
     },
     "execution_count": 122,
     "metadata": {},
     "output_type": "execute_result"
    }
   ],
   "source": [
    "sum_variable(1,2,3,4,5,6,7,8,9,10)"
   ]
  },
  {
   "cell_type": "code",
   "execution_count": 123,
   "id": "b4d224c5-3026-4222-9ccb-641d5db085e9",
   "metadata": {},
   "outputs": [
    {
     "data": {
      "text/plain": [
       "60"
      ]
     },
     "execution_count": 123,
     "metadata": {},
     "output_type": "execute_result"
    }
   ],
   "source": [
    "sum_variable(10,20,30)"
   ]
  },
  {
   "cell_type": "code",
   "execution_count": 124,
   "id": "b09a464c-7460-4d20-8795-07fe270ddd87",
   "metadata": {},
   "outputs": [],
   "source": [
    "def sum_variable2(**kwargs):\n",
    "    sm=0\n",
    "    for key,value in kwargs.items():\n",
    "        sm+=value\n",
    "    return sm"
   ]
  },
  {
   "cell_type": "code",
   "execution_count": 125,
   "id": "02b1d5be-97a4-402b-86ad-6620c29f5131",
   "metadata": {},
   "outputs": [
    {
     "name": "stdout",
     "output_type": "stream",
     "text": [
      "10\n"
     ]
    }
   ],
   "source": [
    "print(sum_variable2(a=1,b=2,c=3,d=4))"
   ]
  },
  {
   "cell_type": "markdown",
   "id": "c68a603f-9451-411a-af4c-cc3c43a28f6a",
   "metadata": {},
   "source": [
    "Essentially speaking, *args expects arguments without keywords, while **kwargs requires keyword, along with the value."
   ]
  },
  {
   "cell_type": "markdown",
   "id": "c37e704d",
   "metadata": {},
   "source": [
    "### <a id=\"set\"> Set </a>"
   ]
  },
  {
   "cell_type": "markdown",
   "id": "3ec68416",
   "metadata": {},
   "source": [
    "Sets are used for storing unique values.  If there are two items with the same value, it will still store just one value.  Sets are declared within curly brackets.  Note that, while dictionaries also start with curly brackets, there is no key-value pairs like a dictionary.\n",
    "Sets are unordered.  Therefore you cannot use it as an index."
   ]
  },
  {
   "cell_type": "code",
   "execution_count": 126,
   "id": "aeceeebe",
   "metadata": {},
   "outputs": [
    {
     "name": "stdout",
     "output_type": "stream",
     "text": [
      "Set1: {'banana', 'orange', 'apple'}\n",
      "{'banana', 'orange', 'apple'}\n"
     ]
    }
   ],
   "source": [
    "set1={\"apple\",\"banana\",\"orange\"}\n",
    "print(f\"Set1: {set1}\")\n",
    "\n",
    "set2={\"apple\",\"banana\",\"orange\",\"apple\",\"apple\"}\n",
    "print(set2)\n",
    "\n"
   ]
  },
  {
   "cell_type": "markdown",
   "id": "f651201f",
   "metadata": {},
   "source": [
    "Sets can also be created by using the set() constructor.  Note that you need the double bracket.  Otherwise, you end up with an error message."
   ]
  },
  {
   "cell_type": "code",
   "execution_count": 127,
   "id": "5e62aa54",
   "metadata": {},
   "outputs": [
    {
     "name": "stdout",
     "output_type": "stream",
     "text": [
      "{'apple', 'banana'}\n"
     ]
    }
   ],
   "source": [
    "set3=set((\"apple\",\"apple\",\"banana\",\"banana\"))\n",
    "print(set3)"
   ]
  },
  {
   "cell_type": "markdown",
   "id": "642403f9",
   "metadata": {},
   "source": [
    "The \"in\" keyword can be used to see if an item can be found in a set"
   ]
  },
  {
   "cell_type": "code",
   "execution_count": 128,
   "id": "d5c38614",
   "metadata": {},
   "outputs": [
    {
     "data": {
      "text/plain": [
       "True"
      ]
     },
     "execution_count": 128,
     "metadata": {},
     "output_type": "execute_result"
    }
   ],
   "source": [
    "\"orange\" in set1"
   ]
  },
  {
   "cell_type": "markdown",
   "id": "e2fae794",
   "metadata": {},
   "source": [
    "Looping through a set can be achieved with a for loop as follows.  You treat the set as an iterator"
   ]
  },
  {
   "cell_type": "code",
   "execution_count": 129,
   "id": "ed7a4e2d",
   "metadata": {},
   "outputs": [
    {
     "name": "stdout",
     "output_type": "stream",
     "text": [
      "banana\n",
      "orange\n",
      "apple\n"
     ]
    }
   ],
   "source": [
    "for val in set1:\n",
    "    print(val)"
   ]
  },
  {
   "cell_type": "markdown",
   "id": "3e2eba6e",
   "metadata": {},
   "source": [
    "You can add to a set.  Use the add() method to add to a set."
   ]
  },
  {
   "cell_type": "code",
   "execution_count": 130,
   "id": "25898dcc",
   "metadata": {},
   "outputs": [
    {
     "name": "stdout",
     "output_type": "stream",
     "text": [
      "{'Mango', 'banana', 'orange', 'apple'}\n"
     ]
    }
   ],
   "source": [
    "set1.add(\"Mango\")\n",
    "print(set1)"
   ]
  },
  {
   "cell_type": "code",
   "execution_count": 131,
   "id": "f7ad78a2",
   "metadata": {},
   "outputs": [
    {
     "name": "stdout",
     "output_type": "stream",
     "text": [
      "4 3\n",
      "<class 'set'>\n"
     ]
    }
   ],
   "source": [
    "print(len(set1),len(set2))\n",
    "print(type(set1))"
   ]
  },
  {
   "cell_type": "markdown",
   "id": "a9a30043",
   "metadata": {},
   "source": [
    "You can combine multiple sets using the update() method as follows:"
   ]
  },
  {
   "cell_type": "code",
   "execution_count": 132,
   "id": "1ae23773",
   "metadata": {},
   "outputs": [
    {
     "name": "stdout",
     "output_type": "stream",
     "text": [
      "Set 5:{'banana', 'orange', 'apple'}\n",
      "Set 6: {'pear', 'pomegranate', 'mango'}\n",
      "New Set 5: {'pear', 'mango', 'banana', 'pomegranate', 'apple', 'orange'}\n"
     ]
    }
   ],
   "source": [
    "set5={\"orange\",\"banana\",\"apple\"}\n",
    "print(f\"Set 5:{set5}\")\n",
    "set6={\"mango\",\"pear\",\"pomegranate\"}\n",
    "print(f\"Set 6: {set6}\")\n",
    "set5.update(set6)\n",
    "print(f\"New Set 5: {set5}\")"
   ]
  },
  {
   "cell_type": "markdown",
   "id": "ea87134e",
   "metadata": {},
   "source": [
    "We can also use a list to update a set rather than another set as follows"
   ]
  },
  {
   "cell_type": "code",
   "execution_count": 133,
   "id": "e9f4dac1",
   "metadata": {},
   "outputs": [
    {
     "name": "stdout",
     "output_type": "stream",
     "text": [
      "Set 5:{'banana', 'orange', 'apple'}\n",
      "Set 6: ['mango', 'pear', 'pomegranate', 'mango', 'apple', 'apple']\n",
      "New Set 5: {'banana', 'apple', 'orange', 'pear', 'pomegranate', 'mango'}\n"
     ]
    }
   ],
   "source": [
    "set5={\"orange\",\"banana\",\"apple\"}\n",
    "print(f\"Set 5:{set5}\")\n",
    "set6=[\"mango\",\"pear\",\"pomegranate\",\"mango\",\"apple\",\"apple\"]\n",
    "print(f\"Set 6: {set6}\")\n",
    "set5.update(set6)\n",
    "print(f\"New Set 5: {set5}\")"
   ]
  },
  {
   "cell_type": "markdown",
   "id": "51b148ea",
   "metadata": {},
   "source": [
    "Items can be removed from a set by using either the remove() or discard() methods.  They key difference between them is that remove prints an error message if an item does not exist.  Discard does not, as can be seen in the two examples below."
   ]
  },
  {
   "cell_type": "code",
   "execution_count": 134,
   "id": "6890feb2",
   "metadata": {},
   "outputs": [
    {
     "name": "stdout",
     "output_type": "stream",
     "text": [
      "{'a', 'b', 'c', 'd'}\n",
      "{'b', 'c', 'd'}\n"
     ]
    },
    {
     "ename": "KeyError",
     "evalue": "'a'",
     "output_type": "error",
     "traceback": [
      "\u001b[1;31m---------------------------------------------------------------------------\u001b[0m",
      "\u001b[1;31mKeyError\u001b[0m                                  Traceback (most recent call last)",
      "Cell \u001b[1;32mIn[134], line 5\u001b[0m\n\u001b[0;32m      3\u001b[0m set7\u001b[38;5;241m.\u001b[39mremove(\u001b[38;5;124m\"\u001b[39m\u001b[38;5;124ma\u001b[39m\u001b[38;5;124m\"\u001b[39m)\n\u001b[0;32m      4\u001b[0m \u001b[38;5;28mprint\u001b[39m(set7)\n\u001b[1;32m----> 5\u001b[0m \u001b[43mset7\u001b[49m\u001b[38;5;241;43m.\u001b[39;49m\u001b[43mremove\u001b[49m\u001b[43m(\u001b[49m\u001b[38;5;124;43m\"\u001b[39;49m\u001b[38;5;124;43ma\u001b[39;49m\u001b[38;5;124;43m\"\u001b[39;49m\u001b[43m)\u001b[49m\n",
      "\u001b[1;31mKeyError\u001b[0m: 'a'"
     ]
    }
   ],
   "source": [
    "set7={\"a\",\"b\",\"c\",\"d\"}\n",
    "print(set7)\n",
    "set7.remove(\"a\")\n",
    "print(set7)\n",
    "set7.remove(\"a\")"
   ]
  },
  {
   "cell_type": "code",
   "execution_count": 135,
   "id": "a932051d",
   "metadata": {},
   "outputs": [
    {
     "name": "stdout",
     "output_type": "stream",
     "text": [
      "{'a', 'b', 'c', 'd'}\n",
      "{'b', 'c', 'd'}\n"
     ]
    }
   ],
   "source": [
    "set7={\"a\",\"b\",\"c\",\"d\"}\n",
    "print(set7)\n",
    "set7.discard(\"a\")\n",
    "print(set7)\n",
    "set7.discard(\"a\")"
   ]
  },
  {
   "cell_type": "markdown",
   "id": "cc6f3df0",
   "metadata": {},
   "source": [
    "The pop() method removes a random item from the set"
   ]
  },
  {
   "cell_type": "code",
   "execution_count": 136,
   "id": "06fbaff1",
   "metadata": {},
   "outputs": [
    {
     "name": "stdout",
     "output_type": "stream",
     "text": [
      "{'b', 'c', 'd'}\n",
      "{'c', 'd'}\n"
     ]
    }
   ],
   "source": [
    "print(set7)\n",
    "set7.pop()\n",
    "print(set7)"
   ]
  },
  {
   "cell_type": "markdown",
   "id": "1874bc36",
   "metadata": {},
   "source": [
    "Clear will clear a set, although the variable name exists.  The del keyword completely deletes a set, including variable name"
   ]
  },
  {
   "cell_type": "code",
   "execution_count": 137,
   "id": "ec55190f",
   "metadata": {},
   "outputs": [
    {
     "name": "stdout",
     "output_type": "stream",
     "text": [
      "set()\n"
     ]
    }
   ],
   "source": [
    "set7.clear()\n",
    "print(set7)"
   ]
  },
  {
   "cell_type": "code",
   "execution_count": 138,
   "id": "e09c8ad6",
   "metadata": {},
   "outputs": [],
   "source": [
    "del set7"
   ]
  },
  {
   "cell_type": "markdown",
   "id": "3911954d",
   "metadata": {},
   "source": [
    "If you try to print() set 7, it will generate an error message"
   ]
  },
  {
   "cell_type": "markdown",
   "id": "66892184",
   "metadata": {},
   "source": [
    "Set operations can be performed using set as follows.  First is the union.  This prints fruits found in any of the two sets."
   ]
  },
  {
   "cell_type": "code",
   "execution_count": 139,
   "id": "4c335a47",
   "metadata": {},
   "outputs": [],
   "source": [
    "set_fruit={\"apple\",\"banana\",\"pear\",\"orange\",\"pomegranate\"}\n",
    "set_fruit2={\"apple\",\"pear\",\"pineapple\",\"grape\",\"watermelon\",\"orange\"}"
   ]
  },
  {
   "cell_type": "code",
   "execution_count": 140,
   "id": "61fde497",
   "metadata": {},
   "outputs": [
    {
     "name": "stdout",
     "output_type": "stream",
     "text": [
      "{'banana', 'apple', 'orange', 'pineapple', 'pear', 'grape', 'pomegranate', 'watermelon'}\n",
      "{'pear', 'banana', 'pomegranate', 'apple', 'orange'}\n",
      "{'pineapple', 'pear', 'watermelon', 'grape', 'apple', 'orange'}\n"
     ]
    }
   ],
   "source": [
    "set_fruit_union=set_fruit.union(set_fruit2)\n",
    "print(set_fruit_union)\n",
    "print(set_fruit)\n",
    "print(set_fruit2)"
   ]
  },
  {
   "cell_type": "markdown",
   "id": "b36ea253",
   "metadata": {},
   "source": [
    "Next is the intersection.  This prints only the overlap.  The intersection() method creates a new set"
   ]
  },
  {
   "cell_type": "code",
   "execution_count": 141,
   "id": "1e63a6cb",
   "metadata": {},
   "outputs": [
    {
     "name": "stdout",
     "output_type": "stream",
     "text": [
      "{'pear', 'apple', 'orange'}\n",
      "{'pear', 'banana', 'pomegranate', 'apple', 'orange'}\n",
      "{'pineapple', 'pear', 'watermelon', 'grape', 'apple', 'orange'}\n"
     ]
    }
   ],
   "source": [
    "set_fruit_intersection=set_fruit.intersection(set_fruit2)\n",
    "print(set_fruit_intersection)\n",
    "print(set_fruit)\n",
    "print(set_fruit2)"
   ]
  },
  {
   "cell_type": "markdown",
   "id": "b69a9cb4",
   "metadata": {},
   "source": [
    "On the other hand, the intersection_update() method updates the set itself"
   ]
  },
  {
   "cell_type": "code",
   "execution_count": 142,
   "id": "140d051b",
   "metadata": {},
   "outputs": [
    {
     "name": "stdout",
     "output_type": "stream",
     "text": [
      "{'pear', 'banana', 'pomegranate', 'apple', 'orange'}\n",
      "{'pineapple', 'pear', 'watermelon', 'grape', 'apple', 'orange'}\n",
      "{'pear', 'apple', 'orange'}\n",
      "{'pineapple', 'pear', 'watermelon', 'grape', 'apple', 'orange'}\n"
     ]
    }
   ],
   "source": [
    "print(set_fruit)\n",
    "print(set_fruit2)\n",
    "set_fruit.intersection_update(set_fruit2)\n",
    "print(set_fruit)\n",
    "print(set_fruit2)"
   ]
  },
  {
   "cell_type": "markdown",
   "id": "23b17456",
   "metadata": {},
   "source": [
    "The difference() method will print items in <b> set1 that are not found in set 2 </b>"
   ]
  },
  {
   "cell_type": "code",
   "execution_count": 143,
   "id": "1bb4d5f7",
   "metadata": {},
   "outputs": [
    {
     "name": "stdout",
     "output_type": "stream",
     "text": [
      "{'pomegranate', 'banana'}\n",
      "Set_fruit is not changed:{'pear', 'banana', 'pomegranate', 'apple', 'orange'}\n"
     ]
    }
   ],
   "source": [
    "set_fruit={\"apple\",\"banana\",\"pear\",\"orange\",\"pomegranate\"}\n",
    "set_fruit2={\"apple\",\"pear\",\"pineapple\",\"grape\",\"watermelon\",\"orange\"}\n",
    "set_fruit_difference=set_fruit.difference(set_fruit2)\n",
    "print(f\"{set_fruit_difference}\")\n",
    "print(f\"Set_fruit is not changed:{set_fruit}\")"
   ]
  },
  {
   "cell_type": "markdown",
   "id": "eb0e6bc3",
   "metadata": {},
   "source": [
    "There is also the difference_update method which will update set1."
   ]
  },
  {
   "cell_type": "code",
   "execution_count": 144,
   "id": "df081e5d",
   "metadata": {},
   "outputs": [
    {
     "name": "stdout",
     "output_type": "stream",
     "text": [
      "Set_fruit is not changed:{'banana', 'pomegranate'}\n"
     ]
    }
   ],
   "source": [
    "set_fruit={\"apple\",\"banana\",\"pear\",\"orange\",\"pomegranate\"}\n",
    "set_fruit2={\"apple\",\"pear\",\"pineapple\",\"grape\",\"watermelon\",\"orange\"}\n",
    "set_fruit.difference_update(set_fruit2)\n",
    "print(f\"Set_fruit is not changed:{set_fruit}\")"
   ]
  },
  {
   "cell_type": "markdown",
   "id": "a6556071",
   "metadata": {},
   "source": [
    "The Symmetric difference method can be used to <b>find  all items in all sets that are not overlapping. </b>"
   ]
  },
  {
   "cell_type": "code",
   "execution_count": 145,
   "id": "1880c556",
   "metadata": {},
   "outputs": [
    {
     "name": "stdout",
     "output_type": "stream",
     "text": [
      "{'pineapple', 'watermelon', 'banana', 'grape', 'pomegranate'}\n",
      "Set_fruit is not changed:{'pear', 'banana', 'pomegranate', 'apple', 'orange'}\n"
     ]
    }
   ],
   "source": [
    "set_fruit={\"apple\",\"banana\",\"pear\",\"orange\",\"pomegranate\"}\n",
    "set_fruit2={\"apple\",\"pear\",\"pineapple\",\"grape\",\"watermelon\",\"orange\"}\n",
    "set_fruit_symmetric=set_fruit.symmetric_difference(set_fruit2)\n",
    "print(f\"{set_fruit_symmetric}\")\n",
    "print(f\"Set_fruit is not changed:{set_fruit}\")"
   ]
  },
  {
   "cell_type": "markdown",
   "id": "57163bf6",
   "metadata": {},
   "source": [
    "The symmetric update method updates the set itself."
   ]
  },
  {
   "cell_type": "code",
   "execution_count": 146,
   "id": "0307a31d",
   "metadata": {},
   "outputs": [
    {
     "name": "stdout",
     "output_type": "stream",
     "text": [
      "{'pineapple', 'banana', 'watermelon', 'grape', 'pomegranate'}\n"
     ]
    }
   ],
   "source": [
    "set_fruit.symmetric_difference_update(set_fruit2)\n",
    "print(set_fruit)"
   ]
  },
  {
   "cell_type": "markdown",
   "id": "73a932bc",
   "metadata": {},
   "source": [
    "There are also methods to test whether two sets are disjoint, if one is a subset of another, or if one is a superset of another. Subset means that set1 is found fully in set2.  Superset means that set2 has all items in set1.  Superset is the opposite of subset"
   ]
  },
  {
   "cell_type": "code",
   "execution_count": 147,
   "id": "1ab6608b",
   "metadata": {},
   "outputs": [
    {
     "data": {
      "text/plain": [
       "True"
      ]
     },
     "execution_count": 147,
     "metadata": {},
     "output_type": "execute_result"
    }
   ],
   "source": [
    "set1={\"a\",\"b\",\"c\"}\n",
    "set2={\"d\",\"e\",\"f\"}\n",
    "set1.isdisjoint(set2)"
   ]
  },
  {
   "cell_type": "code",
   "execution_count": 148,
   "id": "45cd5ed5",
   "metadata": {},
   "outputs": [
    {
     "data": {
      "text/plain": [
       "True"
      ]
     },
     "execution_count": 148,
     "metadata": {},
     "output_type": "execute_result"
    }
   ],
   "source": [
    "set1={\"a\",\"b\",\"c\"}\n",
    "set2={\"a\",\"b\",\"c\",\"d\",\"e\",\"f\"}\n",
    "set1.issubset(set2)"
   ]
  },
  {
   "cell_type": "code",
   "execution_count": 149,
   "id": "073926bd",
   "metadata": {},
   "outputs": [
    {
     "data": {
      "text/plain": [
       "True"
      ]
     },
     "execution_count": 149,
     "metadata": {},
     "output_type": "execute_result"
    }
   ],
   "source": [
    "set2.issuperset(set1)"
   ]
  },
  {
   "cell_type": "markdown",
   "id": "e7834a4b",
   "metadata": {},
   "source": [
    "<b>Exercise 14</b>\n",
    "\n",
    "<i>You are given a sequence.  Return \"Unique\" if all characters in a sequence are unique.  Otherwise, return \"Not Unique\"</i>\n",
    "\n",
    "<b>Time: 2 Minutes</b>"
   ]
  },
  {
   "cell_type": "code",
   "execution_count": 151,
   "id": "a0041f04-2816-419a-a183-f54bba727a96",
   "metadata": {},
   "outputs": [],
   "source": [
    "def is_unique(sequence):\n",
    "   pass"
   ]
  },
  {
   "cell_type": "code",
   "execution_count": 154,
   "id": "dae51f46-3285-4b07-bcee-4d74620dd771",
   "metadata": {},
   "outputs": [],
   "source": [
    "is_unique(\"AATT\")\n",
    "is_unique(\"ATGC\")"
   ]
  },
  {
   "cell_type": "markdown",
   "id": "9c091944-0cb3-46e3-83a0-aa6496dad1bc",
   "metadata": {},
   "source": [
    "-------------------------------------"
   ]
  },
  {
   "cell_type": "markdown",
   "id": "06d6da75",
   "metadata": {},
   "source": [
    "## <a id=\"string\"> String Operations </a>\n",
    "\n",
    "There are many operations that can be performed on strings. \n",
    "This becomes important, especially in Bioinformatics, as we have to deal with sequences all the time(e.g. AAAAAAAAAAAATTTTTTTTTTTGGACA)\n",
    "\n",
    "Just like lists and tuples, you can access characters of a string using the index number.  You can also slice a string.  Note that string is immutable, meaning that you cannot change strings using indexing.  You can slice it and save it to a different variable though.\n",
    "\n",
    "Below are some basic examples.\n",
    "\n"
   ]
  },
  {
   "cell_type": "code",
   "execution_count": 155,
   "id": "8383c00f",
   "metadata": {},
   "outputs": [
    {
     "name": "stdout",
     "output_type": "stream",
     "text": [
      "A\n",
      "APp\n"
     ]
    }
   ],
   "source": [
    "a=\"APple\"\n",
    "print(a[0])\n",
    "print(a[0:3])"
   ]
  },
  {
   "cell_type": "markdown",
   "id": "e0e69e0c",
   "metadata": {},
   "source": [
    "In the above example, notice that a few letters are upper case, and others are lower case.  Here is how to convert everything to uppercase or lowercase. Of course, you can always store the converted values to a variable.  We can also convert to a title format, where the first letter for each word is upper-case. The capitalize method on the other hand only has the first letter of the first word as upper-case. We can also test if a string is all uppercase or all lowercase. There is the isspace method to test if all characters are spaces. Finally there is the swapcase command that can be used to convert lowercase to uppercase, and uppercase to lowercase."
   ]
  },
  {
   "cell_type": "code",
   "execution_count": 157,
   "id": "4b24980d",
   "metadata": {},
   "outputs": [
    {
     "name": "stdout",
     "output_type": "stream",
     "text": [
      "APPLE\n",
      "apple\n",
      "Characterization Of The P53 Gene\n",
      "Characterization of the p53 gene\n",
      "False\n",
      "False\n",
      "True\n",
      "True\n",
      "aPPLE\n"
     ]
    }
   ],
   "source": [
    "print(a.upper())\n",
    "print(a.lower())\n",
    "print(\"characterization of the p53 gene\".title())\n",
    "print(\"characterization of the p53 gene\".capitalize())\n",
    "print(\"Apple\".islower())\n",
    "print(\"Apple\".isupper())\n",
    "print(\"Apple\".istitle())\n",
    "print(\"    \".isspace())\n",
    "print(\"Apple\".swapcase())"
   ]
  },
  {
   "cell_type": "code",
   "execution_count": 159,
   "id": "ec1c310c",
   "metadata": {},
   "outputs": [
    {
     "name": "stdout",
     "output_type": "stream",
     "text": [
      "                                               apple                                                \n",
      "apple\n",
      "                                                                                                 apple                                                                                                  \n"
     ]
    }
   ],
   "source": [
    "print(\"apple\".center(100))\n",
    "print(\"apple\".center(0),)\n",
    "print(\"apple\".center(200))"
   ]
  },
  {
   "cell_type": "markdown",
   "id": "ab2d3b6a",
   "metadata": {},
   "source": [
    "Find and index will return where in the string a character is found.  The difference between index and find is that find returns -1 when a character is not found.  On the other hand, index generates an error message"
   ]
  },
  {
   "cell_type": "code",
   "execution_count": 160,
   "id": "54b77106",
   "metadata": {},
   "outputs": [
    {
     "name": "stdout",
     "output_type": "stream",
     "text": [
      "4\n",
      "1\n",
      "-1\n"
     ]
    }
   ],
   "source": [
    "print(\"apple\".find(\"e\"))\n",
    "print(\"apple\".find(\"p\"))\n",
    "print(\"apple\".find(\"z\"))"
   ]
  },
  {
   "cell_type": "markdown",
   "id": "2ada3344",
   "metadata": {},
   "source": [
    "Note that what you want to find does not have to be just a single character.  It can be multiple letters"
   ]
  },
  {
   "cell_type": "code",
   "execution_count": 161,
   "id": "a08487f7",
   "metadata": {},
   "outputs": [
    {
     "name": "stdout",
     "output_type": "stream",
     "text": [
      "2\n"
     ]
    }
   ],
   "source": [
    "print(\"apple\".find(\"pl\"))"
   ]
  },
  {
   "cell_type": "code",
   "execution_count": 162,
   "id": "11549832",
   "metadata": {},
   "outputs": [
    {
     "name": "stdout",
     "output_type": "stream",
     "text": [
      "4\n",
      "1\n"
     ]
    },
    {
     "ename": "ValueError",
     "evalue": "substring not found",
     "output_type": "error",
     "traceback": [
      "\u001b[1;31m---------------------------------------------------------------------------\u001b[0m",
      "\u001b[1;31mValueError\u001b[0m                                Traceback (most recent call last)",
      "Cell \u001b[1;32mIn[162], line 3\u001b[0m\n\u001b[0;32m      1\u001b[0m \u001b[38;5;28mprint\u001b[39m(\u001b[38;5;124m\"\u001b[39m\u001b[38;5;124mapple\u001b[39m\u001b[38;5;124m\"\u001b[39m\u001b[38;5;241m.\u001b[39mindex(\u001b[38;5;124m\"\u001b[39m\u001b[38;5;124me\u001b[39m\u001b[38;5;124m\"\u001b[39m))\n\u001b[0;32m      2\u001b[0m \u001b[38;5;28mprint\u001b[39m(\u001b[38;5;124m\"\u001b[39m\u001b[38;5;124mapple\u001b[39m\u001b[38;5;124m\"\u001b[39m\u001b[38;5;241m.\u001b[39mindex(\u001b[38;5;124m\"\u001b[39m\u001b[38;5;124mp\u001b[39m\u001b[38;5;124m\"\u001b[39m))\n\u001b[1;32m----> 3\u001b[0m \u001b[38;5;28mprint\u001b[39m(\u001b[38;5;124;43m\"\u001b[39;49m\u001b[38;5;124;43mapple\u001b[39;49m\u001b[38;5;124;43m\"\u001b[39;49m\u001b[38;5;241;43m.\u001b[39;49m\u001b[43mindex\u001b[49m\u001b[43m(\u001b[49m\u001b[38;5;124;43m\"\u001b[39;49m\u001b[38;5;124;43mz\u001b[39;49m\u001b[38;5;124;43m\"\u001b[39;49m\u001b[43m)\u001b[49m)\n",
      "\u001b[1;31mValueError\u001b[0m: substring not found"
     ]
    }
   ],
   "source": [
    "print(\"apple\".index(\"e\"))\n",
    "print(\"apple\".index(\"p\"))\n",
    "print(\"apple\".index(\"z\"))"
   ]
  },
  {
   "cell_type": "markdown",
   "id": "d39850a6",
   "metadata": {},
   "source": [
    "You can combine the index command with list indexing to extract strings, etc."
   ]
  },
  {
   "cell_type": "code",
   "execution_count": 163,
   "id": "ed627109",
   "metadata": {},
   "outputs": [
    {
     "data": {
      "text/plain": [
       "'pple'"
      ]
     },
     "execution_count": 163,
     "metadata": {},
     "output_type": "execute_result"
    }
   ],
   "source": [
    "idx=\"apple\".index(\"p\")\n",
    "\"apple\"[idx:]"
   ]
  },
  {
   "cell_type": "markdown",
   "id": "6566d41a",
   "metadata": {},
   "source": [
    "The rfind and rindex methods can be used to find the last match instead of the first match as in the above examples."
   ]
  },
  {
   "cell_type": "code",
   "execution_count": 164,
   "id": "a9bf6573",
   "metadata": {},
   "outputs": [
    {
     "name": "stdout",
     "output_type": "stream",
     "text": [
      "2\n",
      "2\n"
     ]
    }
   ],
   "source": [
    "print(\"apple\".rfind(\"p\"))\n",
    "print(\"apple\".rindex(\"p\"))"
   ]
  },
  {
   "cell_type": "markdown",
   "id": "855071b3",
   "metadata": {},
   "source": [
    "We can also test whether a string is alphabetic, numeric or alphanumeric"
   ]
  },
  {
   "cell_type": "code",
   "execution_count": 165,
   "id": "2f89be14",
   "metadata": {},
   "outputs": [
    {
     "name": "stdout",
     "output_type": "stream",
     "text": [
      "True\n",
      "True\n",
      "True\n",
      "True\n",
      "True\n"
     ]
    }
   ],
   "source": [
    "print(\"apple\".isalpha())\n",
    "print(\"apple\".isalnum())\n",
    "print(\"apple123\".isalnum())\n",
    "print(\"123\".isnumeric())\n",
    "print(\"123\".isalnum())"
   ]
  },
  {
   "cell_type": "markdown",
   "id": "a286afb1",
   "metadata": {},
   "source": [
    "Splitting a string can be achived by using the split method. It will return a list"
   ]
  },
  {
   "cell_type": "code",
   "execution_count": 166,
   "id": "c4ecd026",
   "metadata": {},
   "outputs": [
    {
     "data": {
      "text/plain": [
       "['apple', 'is', 'yummy']"
      ]
     },
     "execution_count": 166,
     "metadata": {},
     "output_type": "execute_result"
    }
   ],
   "source": [
    "\"apple is yummy\".split()"
   ]
  },
  {
   "cell_type": "markdown",
   "id": "6041e166",
   "metadata": {},
   "source": [
    "Note that split cannot be used to split a word into character.  For that you can use either a for loop or a list comprehension as follows:"
   ]
  },
  {
   "cell_type": "code",
   "execution_count": 167,
   "id": "07cf1a90",
   "metadata": {},
   "outputs": [
    {
     "name": "stdout",
     "output_type": "stream",
     "text": [
      "['a', 'p', 'p', 'l', 'e']\n"
     ]
    }
   ],
   "source": [
    " sp=[]\n",
    "for j in \"apple\":\n",
    "    sp.append(j)\n",
    "print(sp)"
   ]
  },
  {
   "cell_type": "markdown",
   "id": "83e1499a",
   "metadata": {},
   "source": [
    "The above code also demonstrates that you can loop through a string"
   ]
  },
  {
   "cell_type": "markdown",
   "id": "11d91946",
   "metadata": {},
   "source": [
    "The partition function is used to partition a string into 3 parts.  You need to specify where you want to partition the string as follows. The first example below splits that string at \"is\". Whatever you specify is the middle value.  The next one splits it at \"apple\".  Notice that the third value is empty."
   ]
  },
  {
   "cell_type": "code",
   "execution_count": 168,
   "id": "072d449e",
   "metadata": {},
   "outputs": [
    {
     "name": "stdout",
     "output_type": "stream",
     "text": [
      "('apple ', 'is', ' yummy')\n",
      "('', 'apple', ' is yummy')\n",
      "('apple is ', 'yummy', '')\n"
     ]
    }
   ],
   "source": [
    "print(\"apple is yummy\".partition(\"is\"))\n",
    "print(\"apple is yummy\".partition(\"apple\"))\n",
    "print(\"apple is yummy\".partition(\"yummy\"))"
   ]
  },
  {
   "cell_type": "markdown",
   "id": "67695e44",
   "metadata": {},
   "source": [
    "There is also a join command, that allows you to join multiple strings.  In the examples below, the first line joins a list using a single space as a sepeator.  The second line joins the list without any separators.  The third example is using a tuple.  You mainly need an iterator of some sort for this to work."
   ]
  },
  {
   "cell_type": "code",
   "execution_count": 169,
   "id": "3360c4ea",
   "metadata": {},
   "outputs": [
    {
     "name": "stdout",
     "output_type": "stream",
     "text": [
      "apple is yummy\n",
      "apple\n",
      "apple is yummy\n"
     ]
    }
   ],
   "source": [
    "print(\" \".join([\"apple\", \"is\",\"yummy\"]))\n",
    "print(\"\".join(['a','p','p','l','e']))\n",
    "print(\" \".join((\"apple\",\"is\",\"yummy\")))"
   ]
  },
  {
   "cell_type": "markdown",
   "id": "e54c25dc",
   "metadata": {},
   "source": [
    "You can also combine split and join as follows.  Here I replaced the space with underscore."
   ]
  },
  {
   "cell_type": "code",
   "execution_count": 170,
   "id": "a3ae3f75",
   "metadata": {},
   "outputs": [
    {
     "data": {
      "text/plain": [
       "'Apple_is_yummy'"
      ]
     },
     "execution_count": 170,
     "metadata": {},
     "output_type": "execute_result"
    }
   ],
   "source": [
    "\"_\".join(\"Apple is yummy\".split())"
   ]
  },
  {
   "cell_type": "markdown",
   "id": "c93b422d-08fc-4f17-ae57-bfb85b545eb2",
   "metadata": {},
   "source": [
    "##### Exercise 15\n",
    "\n",
    "<i>Write a function called reverse_complement_str(), where, given a DNA sequence, you return the reverse complement.  This exercise is similar to a previous exercise on lists, but here we are manipulating strings.\n",
    "    \n",
    "<i>A reverse complement is where:\n",
    "    \n",
    "<i>A changes to T\n",
    "    \n",
    "<i> T changes to A\n",
    "    \n",
    "<i> G changes to C\n",
    "    \n",
    "<i> C changes to G</i>\n",
    "\n",
    "\n",
    "Example:  \n",
    "    reverse complement of ATAC is: GTAT\n",
    "\n",
    "\n",
    "Time:<b> 3 minutes </b>\n"
   ]
  },
  {
   "cell_type": "code",
   "execution_count": 171,
   "id": "0085ee41-46a4-4c31-957c-69c24d42df6d",
   "metadata": {},
   "outputs": [],
   "source": [
    "def reverse_complement_str(sequence):\n",
    "    pass\n",
    "    #code goes here"
   ]
  },
  {
   "cell_type": "code",
   "execution_count": 172,
   "id": "83f99337-c1da-4d09-ba5d-ec230683b09f",
   "metadata": {},
   "outputs": [],
   "source": [
    "reverse_complement_str(\"AAAATTTTCG\")"
   ]
  },
  {
   "cell_type": "markdown",
   "id": "26911852-855d-403e-8cde-a033638094c2",
   "metadata": {},
   "source": [
    "-------------------"
   ]
  },
  {
   "cell_type": "markdown",
   "id": "d51b9602",
   "metadata": {},
   "source": [
    "Stripping characters can be done multiple ways"
   ]
  },
  {
   "cell_type": "code",
   "execution_count": 173,
   "id": "1649dcad",
   "metadata": {},
   "outputs": [
    {
     "data": {
      "text/plain": [
       "'apple'"
      ]
     },
     "execution_count": 173,
     "metadata": {},
     "output_type": "execute_result"
    }
   ],
   "source": [
    "(\" apple \".strip())\n"
   ]
  },
  {
   "cell_type": "code",
   "execution_count": 174,
   "id": "82138404",
   "metadata": {},
   "outputs": [
    {
     "data": {
      "text/plain": [
       "'apple '"
      ]
     },
     "execution_count": 174,
     "metadata": {},
     "output_type": "execute_result"
    }
   ],
   "source": [
    "(\" apple \".lstrip())"
   ]
  },
  {
   "cell_type": "code",
   "execution_count": 175,
   "id": "5d82178b",
   "metadata": {},
   "outputs": [
    {
     "data": {
      "text/plain": [
       "' apple'"
      ]
     },
     "execution_count": 175,
     "metadata": {},
     "output_type": "execute_result"
    }
   ],
   "source": [
    "(\" apple \".rstrip())"
   ]
  },
  {
   "cell_type": "code",
   "execution_count": 176,
   "id": "f33cf897",
   "metadata": {},
   "outputs": [
    {
     "data": {
      "text/plain": [
       "'number '"
      ]
     },
     "execution_count": 176,
     "metadata": {},
     "output_type": "execute_result"
    }
   ],
   "source": [
    "(\"#number \".strip(\"#\"))"
   ]
  },
  {
   "cell_type": "code",
   "execution_count": 177,
   "id": "235b729e",
   "metadata": {},
   "outputs": [
    {
     "data": {
      "text/plain": [
       "'#number'"
      ]
     },
     "execution_count": 177,
     "metadata": {},
     "output_type": "execute_result"
    }
   ],
   "source": [
    "(\"#number\".rstrip(\"#\"))"
   ]
  },
  {
   "cell_type": "code",
   "execution_count": 178,
   "id": "7a81dd82",
   "metadata": {},
   "outputs": [
    {
     "data": {
      "text/plain": [
       "'number'"
      ]
     },
     "execution_count": 178,
     "metadata": {},
     "output_type": "execute_result"
    }
   ],
   "source": [
    "(\"#number\".lstrip(\"#\"))"
   ]
  },
  {
   "cell_type": "markdown",
   "id": "148df79f",
   "metadata": {},
   "source": [
    "You can specify what you want to strip.  In the above examples, we specified \"#\""
   ]
  },
  {
   "cell_type": "code",
   "execution_count": 179,
   "id": "ae5e515f",
   "metadata": {},
   "outputs": [
    {
     "data": {
      "text/plain": [
       "'AAAATTTTGGGCCC'"
      ]
     },
     "execution_count": 179,
     "metadata": {},
     "output_type": "execute_result"
    }
   ],
   "source": [
    "a=\"NNNNNNNAAAATTTTGGGCCCNNNNN\"\n",
    "a.strip(\"N\")"
   ]
  },
  {
   "cell_type": "markdown",
   "id": "6fde02e0",
   "metadata": {},
   "source": [
    "In a fasta file, sometimes, you have \"N\" instead of ATGC.  Here I stripped all the leading and trailing \"N\""
   ]
  },
  {
   "cell_type": "markdown",
   "id": "96535e03",
   "metadata": {},
   "source": [
    "The handy maketrans function. Convert A to T and G to C using maketrans.  In the example below, we have a string.  We want to find its reverse complement.  The way I achieve this is by first using slicing to reverse the string.  I step by -1.  Next, using maketrans, I specify that I want A to be converted to T, T to A, G to C, etc."
   ]
  },
  {
   "cell_type": "code",
   "execution_count": 181,
   "id": "da14d0ea",
   "metadata": {},
   "outputs": [],
   "source": [
    "a=\"AATTGGCC\"\n",
    "table=str.maketrans(\"ATGC\",\"TACG\")"
   ]
  },
  {
   "cell_type": "code",
   "execution_count": 182,
   "id": "4865cee6",
   "metadata": {},
   "outputs": [
    {
     "name": "stdout",
     "output_type": "stream",
     "text": [
      "CCGGTTAA\n"
     ]
    },
    {
     "data": {
      "text/plain": [
       "'GGCCAATT'"
      ]
     },
     "execution_count": 182,
     "metadata": {},
     "output_type": "execute_result"
    }
   ],
   "source": [
    "print(a[::-1])\n",
    "a[::-1].translate(table)"
   ]
  },
  {
   "cell_type": "markdown",
   "id": "5a7ca895",
   "metadata": {},
   "source": [
    "As far as I know, there is no standard function available for reversing a string.  You need to use slicing as shown above."
   ]
  },
  {
   "cell_type": "code",
   "execution_count": 183,
   "id": "feb77437",
   "metadata": {},
   "outputs": [
    {
     "data": {
      "text/plain": [
       "True"
      ]
     },
     "execution_count": 183,
     "metadata": {},
     "output_type": "execute_result"
    }
   ],
   "source": [
    "\"apple\".startswith(\"a\")"
   ]
  },
  {
   "cell_type": "code",
   "execution_count": 184,
   "id": "d1b9695f",
   "metadata": {},
   "outputs": [
    {
     "data": {
      "text/plain": [
       "False"
      ]
     },
     "execution_count": 184,
     "metadata": {},
     "output_type": "execute_result"
    }
   ],
   "source": [
    "\"apple\".endswith(\"a\")"
   ]
  },
  {
   "cell_type": "code",
   "execution_count": 185,
   "id": "33907d99",
   "metadata": {},
   "outputs": [
    {
     "data": {
      "text/plain": [
       "True"
      ]
     },
     "execution_count": 185,
     "metadata": {},
     "output_type": "execute_result"
    }
   ],
   "source": [
    "\"apple\".endswith(\"e\")"
   ]
  },
  {
   "cell_type": "markdown",
   "id": "671978ca",
   "metadata": {},
   "source": [
    "The zfill command can be used for padding.  Note that the width is the total size of the string. If the specified with is less than the length of the string, nothing gets padded."
   ]
  },
  {
   "cell_type": "code",
   "execution_count": 186,
   "id": "ea47645e",
   "metadata": {},
   "outputs": [
    {
     "name": "stdout",
     "output_type": "stream",
     "text": [
      "apple\n",
      "0apple\n",
      "00000apple\n"
     ]
    }
   ],
   "source": [
    "j=\"apple\"\n",
    "print(j.zfill(5))\n",
    "print(j.zfill(6))\n",
    "print(j.zfill(10))"
   ]
  },
  {
   "cell_type": "markdown",
   "id": "809403b7",
   "metadata": {},
   "source": [
    "The ljust and rjust commands can be used to justify a string.  The rjust command adds spaces to the left side, so the the string shifts to the right. The ljust command does the opposite."
   ]
  },
  {
   "cell_type": "code",
   "execution_count": 188,
   "id": "ba5d72d7",
   "metadata": {},
   "outputs": [
    {
     "name": "stdout",
     "output_type": "stream",
     "text": [
      "banana                          apple orange\n"
     ]
    }
   ],
   "source": [
    "j=\"apple\"\n",
    "print(\"banana\",j.rjust(30),\"orange\")\n"
   ]
  },
  {
   "cell_type": "code",
   "execution_count": 189,
   "id": "50f53ae0",
   "metadata": {},
   "outputs": [
    {
     "name": "stdout",
     "output_type": "stream",
     "text": [
      "banana apple                                              apple\n"
     ]
    }
   ],
   "source": [
    "j=\"apple\"\n",
    "print(\"banana\",j.ljust(50),\"apple\")\n"
   ]
  },
  {
   "cell_type": "markdown",
   "id": "16b2ca23",
   "metadata": {},
   "source": [
    "Finally, we have the format method for formatting a string"
   ]
  },
  {
   "cell_type": "code",
   "execution_count": 190,
   "id": "bb9c2964",
   "metadata": {},
   "outputs": [
    {
     "name": "stdout",
     "output_type": "stream",
     "text": [
      "I have 29.00 marbles\n",
      "I have 50.00 marbles\n",
      "I have 29.0000 marbles\n",
      "I have 50.0000 marbles\n"
     ]
    }
   ],
   "source": [
    "marbles=\"I have {marbles:.2f} marbles\"\n",
    "print(marbles.format(marbles=29))\n",
    "print(marbles.format(marbles=50))\n",
    "marbles=\"I have {marbles:.4f} marbles\"\n",
    "print(marbles.format(marbles=29))\n",
    "print(marbles.format(marbles=50))\n"
   ]
  },
  {
   "cell_type": "code",
   "execution_count": 193,
   "id": "95e29d40-d140-4c03-bd2c-0ff077738b8f",
   "metadata": {},
   "outputs": [
    {
     "name": "stdout",
     "output_type": "stream",
     "text": [
      "I have 29.00 marbles\n"
     ]
    }
   ],
   "source": [
    "marbles=29\n",
    "print(f\"I have {marbles:.2f} marbles\")"
   ]
  },
  {
   "cell_type": "code",
   "execution_count": 206,
   "id": "b6db5639",
   "metadata": {},
   "outputs": [
    {
     "name": "stdout",
     "output_type": "stream",
     "text": [
      "I have 5.0e+04dollars\n",
      "The value is 50.0%\n",
      "There are 10,000\n"
     ]
    }
   ],
   "source": [
    "print(\"I have {dollars:.1e}dollars\".format(dollars=50000))\n",
    "print(\"The value is {percent:.1%}\".format(percent=0.5))\n",
    "print(\"There are {houses:,}\".format(houses=10000))"
   ]
  },
  {
   "cell_type": "code",
   "execution_count": 207,
   "id": "b458f665-4c14-442f-be58-1aba503c09bb",
   "metadata": {},
   "outputs": [
    {
     "name": "stdout",
     "output_type": "stream",
     "text": [
      "I have 5.0e+04 dollars\n",
      "The value is 50.0%\n"
     ]
    }
   ],
   "source": [
    "dollars=50000\n",
    "print(f\"I have {dollars:.1e} dollars\")\n",
    "percent=0.5\n",
    "print(f\"The value is {percent:.1%}\")\n"
   ]
  },
  {
   "cell_type": "markdown",
   "id": "5155f6bf",
   "metadata": {},
   "source": [
    "Many more formatting examples can be found below:\n",
    "\n",
    "https://www.w3schools.com/python/ref_string_format.asp"
   ]
  },
  {
   "cell_type": "markdown",
   "id": "ce5ad01c",
   "metadata": {},
   "source": [
    "<b> Exercise 16 </b>\n",
    "\n",
    "<i>Given an integer, determine if the sum of its digits is odd or even.  \n",
    "\n",
    "<i>For example, if the integer is 22, the sum of the digits is 4, which is even.\n",
    "\n",
    "<i>On the other hand, the sum of 25 is 7, which is odd.\n",
    "    \n",
    "Time:<b> 2 minutes </b>"
   ]
  },
  {
   "cell_type": "code",
   "execution_count": 215,
   "id": "5fc7913c",
   "metadata": {},
   "outputs": [],
   "source": [
    "def odd_or_even(intval):\n",
    "    pass\n",
    "    #code goes here"
   ]
  },
  {
   "cell_type": "code",
   "execution_count": 216,
   "id": "8ddf2e1d-2213-4b5b-a7c0-0a92bc850aca",
   "metadata": {},
   "outputs": [],
   "source": [
    "odd_or_even(55)"
   ]
  },
  {
   "cell_type": "markdown",
   "id": "4506fea3-1ff2-4d40-a869-4212ad65cd8c",
   "metadata": {},
   "source": [
    "-----------------------------"
   ]
  },
  {
   "cell_type": "markdown",
   "id": "e235ad52",
   "metadata": {},
   "source": [
    "## <a id=\"file\">Saving to a file </a>"
   ]
  },
  {
   "cell_type": "markdown",
   "id": "3ce75b57",
   "metadata": {},
   "source": [
    "A lot of times, you want to work with files.  \n",
    "How can you open a file to read it or write to it?  This is where the open() function comes in.\n",
    "The open function can be used to read or write to a file.\n",
    "Use \"w\" to write to a file\n",
    "Use \"r\" to read a file\n",
    "There are other options as well, such as \"a\" for append.\n",
    "The difference between f.read() and f.readline() is that f.readline() reads one line at a time.\n",
    "\n",
    "Different ways to open a file:\n",
    "\"w\": for writing. Wipes out preexisting data\n",
    "\n",
    "\"w+\": For reading and writing.  Wipes out preexisting data.\n",
    "\n",
    "\"r\":  For reading only.\n",
    "\n",
    "\"r+\": For reading and writing.  Does not truncate.  Position at the beginning.\n",
    "\n",
    "\"a\":  For writing/appending\" to an existing file.  Position at the end of the file.\n",
    "\n",
    "\"a+\": For reading and writing to an existing file.  Position at the end of the file.\n"
   ]
  },
  {
   "cell_type": "code",
   "execution_count": 218,
   "id": "16b914ed",
   "metadata": {},
   "outputs": [],
   "source": [
    "f=open(\"new_file.txt\",\"w\")\n",
    "f.write(\">Chr1\\n\")\n",
    "f.write(\"AAATTGGCCATTTACCCCGATACTA\")\n",
    "f.close()"
   ]
  },
  {
   "cell_type": "code",
   "execution_count": 219,
   "id": "8d603695",
   "metadata": {},
   "outputs": [
    {
     "name": "stdout",
     "output_type": "stream",
     "text": [
      ">Chr1\n",
      "AAATTGGCCATTTACCCCGATACTA\n"
     ]
    }
   ],
   "source": [
    "f=open(\"new_file.txt\",\"r\")\n",
    "print(f.read())"
   ]
  },
  {
   "cell_type": "code",
   "execution_count": 220,
   "id": "b23825a2",
   "metadata": {},
   "outputs": [
    {
     "name": "stdout",
     "output_type": "stream",
     "text": [
      ">Chr1\n",
      "\n",
      "AAATTGGCCATTTACCCCGATACTA\n"
     ]
    }
   ],
   "source": [
    "f=open(\"new_file.txt\",\"r\")\n",
    "print(f.readline())\n",
    "print(f.readline())"
   ]
  },
  {
   "cell_type": "markdown",
   "id": "bbd74eb4",
   "metadata": {},
   "source": [
    "A better way to write to/read a file is using with and open statements.  That way, you don't need to use the f.close() command."
   ]
  },
  {
   "cell_type": "code",
   "execution_count": 221,
   "id": "e8863015",
   "metadata": {},
   "outputs": [
    {
     "name": "stdout",
     "output_type": "stream",
     "text": [
      ">Chr1\n",
      "\n"
     ]
    }
   ],
   "source": [
    "with open(\"new_file.txt\",\"r\") as f:\n",
    "    print(f.readline())"
   ]
  },
  {
   "cell_type": "code",
   "execution_count": 222,
   "id": "7f62be39",
   "metadata": {},
   "outputs": [
    {
     "name": "stdout",
     "output_type": "stream",
     "text": [
      ">Chr1\n",
      "\n",
      "AAATTGGCCATTTACCCCGATACTA\n"
     ]
    }
   ],
   "source": [
    "with open(\"new_file.txt\",\"r\") as f:\n",
    "    for line in f:\n",
    "        print(line)"
   ]
  },
  {
   "cell_type": "markdown",
   "id": "19a757d4",
   "metadata": {},
   "source": [
    "## What we have covered today:\n",
    "<b>\n",
    "    \n",
    " - Data Collection\n",
    "     - Tuple\n",
    "     - List\n",
    "     - Dictionary\n",
    "     - String\n",
    " - String Manipulation\n",
    " - Opening and Closing files </b>\n",
    " --------------------------------------------------------------------------------------------------------------------\n",
    " ## What we will cover in Session 2\n",
    "<b>\n",
    "    \n",
    "- List Comprehension\n",
    "- Dictionary Comprehension\n",
    "- Different packages\n",
    "- Different packages (e.g. the Collection package)\n",
    "- Some quick Bioinformatics examples\n",
    "</b>"
   ]
  }
 ],
 "metadata": {
  "kernelspec": {
   "display_name": "Python 3 (ipykernel)",
   "language": "python",
   "name": "python3"
  },
  "language_info": {
   "codemirror_mode": {
    "name": "ipython",
    "version": 3
   },
   "file_extension": ".py",
   "mimetype": "text/x-python",
   "name": "python",
   "nbconvert_exporter": "python",
   "pygments_lexer": "ipython3",
   "version": "3.10.9"
  },
  "toc-autonumbering": false
 },
 "nbformat": 4,
 "nbformat_minor": 5
}
